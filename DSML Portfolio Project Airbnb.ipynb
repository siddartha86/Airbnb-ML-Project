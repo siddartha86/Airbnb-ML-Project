{
 "cells": [
  {
   "cell_type": "markdown",
   "metadata": {},
   "source": [
    "### Airbnb Project\n",
    "\n",
    "*In this challenge, you are given a list of users along with their demographics, web session records, and some summary statistics. You are asked to predict which country a new user's first booking destination will be. All the users in this dataset are from the USA.*\n",
    "\n",
    "*There are 12 possible outcomes of the destination country: 'US', 'FR', 'CA', 'GB', 'ES', 'IT', 'PT', 'NL','DE', 'AU', 'NDF' (no destination found), and 'other'. Please note that 'NDF' is different from 'other' because 'other' means there was a booking, but is to a country not included in the list, while 'NDF' means there wasn't a booking.*"
   ]
  },
  {
   "cell_type": "markdown",
   "metadata": {},
   "source": [
    "###### Importing the necessary libraries"
   ]
  },
  {
   "cell_type": "code",
   "execution_count": null,
   "metadata": {},
   "outputs": [],
   "source": [
    "import numpy as np\n",
    "import pandas as pd\n",
    "import math\n",
    "import random\n",
    "import matplotlib.pyplot as plt\n",
    "import seaborn as sns\n",
    "from scipy import stats\n",
    "import warnings\n",
    "from sklearn.model_selection import train_test_split\n",
    "warnings.filterwarnings(\"ignore\")"
   ]
  },
  {
   "cell_type": "markdown",
   "metadata": {},
   "source": [
    "###### Reading the given csv files"
   ]
  },
  {
   "cell_type": "markdown",
   "metadata": {},
   "source": [
    "*Currently we have 6 csv files but not all the files have the desired information required for our project.As I explain the project through jupyter notebook, we can analyse which files may come handy.*\n",
    "\n",
    "*Train_users dataset will play an important role in our project.Later training and validation dataset will be obtained through train_users dataset.*"
   ]
  },
  {
   "cell_type": "code",
   "execution_count": 2,
   "metadata": {},
   "outputs": [],
   "source": [
    "train_user = pd.read_csv(\"train_users_2.csv\")"
   ]
  },
  {
   "cell_type": "code",
   "execution_count": 3,
   "metadata": {},
   "outputs": [],
   "source": [
    "test_users = pd.read_csv(\"test_users.csv\")"
   ]
  },
  {
   "cell_type": "code",
   "execution_count": 4,
   "metadata": {},
   "outputs": [],
   "source": [
    "sessions = pd.read_csv(\"sessions.csv\")"
   ]
  },
  {
   "cell_type": "code",
   "execution_count": 5,
   "metadata": {},
   "outputs": [],
   "source": [
    "countries = pd.read_csv(\"countries.csv\")"
   ]
  },
  {
   "cell_type": "code",
   "execution_count": 6,
   "metadata": {},
   "outputs": [],
   "source": [
    "age_gender_bkts = pd.read_csv(\"age_gender_bkts.csv\")"
   ]
  },
  {
   "cell_type": "code",
   "execution_count": 7,
   "metadata": {},
   "outputs": [],
   "source": [
    "sample_sub = pd.read_csv(\"sample_submission_NDF.csv\")"
   ]
  },
  {
   "cell_type": "markdown",
   "metadata": {},
   "source": [
    "*Now let's go through each file and each field in the file to get more insights.*"
   ]
  },
  {
   "cell_type": "markdown",
   "metadata": {},
   "source": [
    "###### Users"
   ]
  },
  {
   "cell_type": "markdown",
   "metadata": {},
   "source": [
    "*It's a good practice to split the dataset into train and val before the preprocessing. I will keep the training size to 80% and test size to 20%.*"
   ]
  },
  {
   "cell_type": "code",
   "execution_count": 8,
   "metadata": {},
   "outputs": [],
   "source": [
    "train_users,val_users = train_test_split(train_user,test_size = 0.2,random_state=42)"
   ]
  },
  {
   "cell_type": "code",
   "execution_count": 9,
   "metadata": {},
   "outputs": [
    {
     "data": {
      "text/html": [
       "<div>\n",
       "<style scoped>\n",
       "    .dataframe tbody tr th:only-of-type {\n",
       "        vertical-align: middle;\n",
       "    }\n",
       "\n",
       "    .dataframe tbody tr th {\n",
       "        vertical-align: top;\n",
       "    }\n",
       "\n",
       "    .dataframe thead th {\n",
       "        text-align: right;\n",
       "    }\n",
       "</style>\n",
       "<table border=\"1\" class=\"dataframe\">\n",
       "  <thead>\n",
       "    <tr style=\"text-align: right;\">\n",
       "      <th></th>\n",
       "      <th>id</th>\n",
       "      <th>date_account_created</th>\n",
       "      <th>timestamp_first_active</th>\n",
       "      <th>date_first_booking</th>\n",
       "      <th>gender</th>\n",
       "      <th>age</th>\n",
       "      <th>signup_method</th>\n",
       "      <th>signup_flow</th>\n",
       "      <th>language</th>\n",
       "      <th>affiliate_channel</th>\n",
       "      <th>affiliate_provider</th>\n",
       "      <th>first_affiliate_tracked</th>\n",
       "      <th>signup_app</th>\n",
       "      <th>first_device_type</th>\n",
       "      <th>first_browser</th>\n",
       "      <th>country_destination</th>\n",
       "    </tr>\n",
       "  </thead>\n",
       "  <tbody>\n",
       "    <tr>\n",
       "      <th>139642</th>\n",
       "      <td>85nv87tbl4</td>\n",
       "      <td>2014-01-09</td>\n",
       "      <td>20140109051501</td>\n",
       "      <td>2014-01-09</td>\n",
       "      <td>MALE</td>\n",
       "      <td>31.0</td>\n",
       "      <td>basic</td>\n",
       "      <td>0</td>\n",
       "      <td>en</td>\n",
       "      <td>direct</td>\n",
       "      <td>direct</td>\n",
       "      <td>untracked</td>\n",
       "      <td>Web</td>\n",
       "      <td>Mac Desktop</td>\n",
       "      <td>Chrome</td>\n",
       "      <td>US</td>\n",
       "    </tr>\n",
       "    <tr>\n",
       "      <th>519</th>\n",
       "      <td>svwo8gsij4</td>\n",
       "      <td>2010-05-04</td>\n",
       "      <td>20100504044853</td>\n",
       "      <td>2010-05-27</td>\n",
       "      <td>FEMALE</td>\n",
       "      <td>37.0</td>\n",
       "      <td>basic</td>\n",
       "      <td>3</td>\n",
       "      <td>en</td>\n",
       "      <td>direct</td>\n",
       "      <td>direct</td>\n",
       "      <td>linked</td>\n",
       "      <td>Web</td>\n",
       "      <td>Mac Desktop</td>\n",
       "      <td>Chrome</td>\n",
       "      <td>US</td>\n",
       "    </tr>\n",
       "    <tr>\n",
       "      <th>120664</th>\n",
       "      <td>35ja03ym7f</td>\n",
       "      <td>2013-10-30</td>\n",
       "      <td>20131030215606</td>\n",
       "      <td>NaN</td>\n",
       "      <td>-unknown-</td>\n",
       "      <td>NaN</td>\n",
       "      <td>basic</td>\n",
       "      <td>0</td>\n",
       "      <td>en</td>\n",
       "      <td>direct</td>\n",
       "      <td>direct</td>\n",
       "      <td>untracked</td>\n",
       "      <td>Web</td>\n",
       "      <td>Mac Desktop</td>\n",
       "      <td>Chrome</td>\n",
       "      <td>NDF</td>\n",
       "    </tr>\n",
       "    <tr>\n",
       "      <th>84733</th>\n",
       "      <td>ograyifw83</td>\n",
       "      <td>2013-06-18</td>\n",
       "      <td>20130618071048</td>\n",
       "      <td>NaN</td>\n",
       "      <td>-unknown-</td>\n",
       "      <td>NaN</td>\n",
       "      <td>basic</td>\n",
       "      <td>0</td>\n",
       "      <td>en</td>\n",
       "      <td>sem-brand</td>\n",
       "      <td>google</td>\n",
       "      <td>omg</td>\n",
       "      <td>Web</td>\n",
       "      <td>Windows Desktop</td>\n",
       "      <td>Chrome</td>\n",
       "      <td>NDF</td>\n",
       "    </tr>\n",
       "    <tr>\n",
       "      <th>183255</th>\n",
       "      <td>a8tr2x328d</td>\n",
       "      <td>2014-05-01</td>\n",
       "      <td>20140501211431</td>\n",
       "      <td>2014-05-05</td>\n",
       "      <td>FEMALE</td>\n",
       "      <td>28.0</td>\n",
       "      <td>basic</td>\n",
       "      <td>0</td>\n",
       "      <td>en</td>\n",
       "      <td>sem-brand</td>\n",
       "      <td>google</td>\n",
       "      <td>untracked</td>\n",
       "      <td>Web</td>\n",
       "      <td>Mac Desktop</td>\n",
       "      <td>Chrome</td>\n",
       "      <td>US</td>\n",
       "    </tr>\n",
       "  </tbody>\n",
       "</table>\n",
       "</div>"
      ],
      "text/plain": [
       "                id date_account_created  timestamp_first_active  \\\n",
       "139642  85nv87tbl4           2014-01-09          20140109051501   \n",
       "519     svwo8gsij4           2010-05-04          20100504044853   \n",
       "120664  35ja03ym7f           2013-10-30          20131030215606   \n",
       "84733   ograyifw83           2013-06-18          20130618071048   \n",
       "183255  a8tr2x328d           2014-05-01          20140501211431   \n",
       "\n",
       "       date_first_booking     gender   age signup_method  signup_flow  \\\n",
       "139642         2014-01-09       MALE  31.0         basic            0   \n",
       "519            2010-05-27     FEMALE  37.0         basic            3   \n",
       "120664                NaN  -unknown-   NaN         basic            0   \n",
       "84733                 NaN  -unknown-   NaN         basic            0   \n",
       "183255         2014-05-05     FEMALE  28.0         basic            0   \n",
       "\n",
       "       language affiliate_channel affiliate_provider first_affiliate_tracked  \\\n",
       "139642       en            direct             direct               untracked   \n",
       "519          en            direct             direct                  linked   \n",
       "120664       en            direct             direct               untracked   \n",
       "84733        en         sem-brand             google                     omg   \n",
       "183255       en         sem-brand             google               untracked   \n",
       "\n",
       "       signup_app first_device_type first_browser country_destination  \n",
       "139642        Web       Mac Desktop        Chrome                  US  \n",
       "519           Web       Mac Desktop        Chrome                  US  \n",
       "120664        Web       Mac Desktop        Chrome                 NDF  \n",
       "84733         Web   Windows Desktop        Chrome                 NDF  \n",
       "183255        Web       Mac Desktop        Chrome                  US  "
      ]
     },
     "execution_count": 9,
     "metadata": {},
     "output_type": "execute_result"
    }
   ],
   "source": [
    "train_users.head()"
   ]
  },
  {
   "cell_type": "code",
   "execution_count": 10,
   "metadata": {},
   "outputs": [
    {
     "data": {
      "text/plain": [
       "(170760, 16)"
      ]
     },
     "execution_count": 10,
     "metadata": {},
     "output_type": "execute_result"
    }
   ],
   "source": [
    "train_users.shape"
   ]
  },
  {
   "cell_type": "code",
   "execution_count": 11,
   "metadata": {},
   "outputs": [
    {
     "data": {
      "text/html": [
       "<div>\n",
       "<style scoped>\n",
       "    .dataframe tbody tr th:only-of-type {\n",
       "        vertical-align: middle;\n",
       "    }\n",
       "\n",
       "    .dataframe tbody tr th {\n",
       "        vertical-align: top;\n",
       "    }\n",
       "\n",
       "    .dataframe thead th {\n",
       "        text-align: right;\n",
       "    }\n",
       "</style>\n",
       "<table border=\"1\" class=\"dataframe\">\n",
       "  <thead>\n",
       "    <tr style=\"text-align: right;\">\n",
       "      <th></th>\n",
       "      <th>id</th>\n",
       "      <th>date_account_created</th>\n",
       "      <th>timestamp_first_active</th>\n",
       "      <th>date_first_booking</th>\n",
       "      <th>gender</th>\n",
       "      <th>age</th>\n",
       "      <th>signup_method</th>\n",
       "      <th>signup_flow</th>\n",
       "      <th>language</th>\n",
       "      <th>affiliate_channel</th>\n",
       "      <th>affiliate_provider</th>\n",
       "      <th>first_affiliate_tracked</th>\n",
       "      <th>signup_app</th>\n",
       "      <th>first_device_type</th>\n",
       "      <th>first_browser</th>\n",
       "      <th>country_destination</th>\n",
       "    </tr>\n",
       "  </thead>\n",
       "  <tbody>\n",
       "    <tr>\n",
       "      <th>153649</th>\n",
       "      <td>q9pfrw6si7</td>\n",
       "      <td>2014-02-17</td>\n",
       "      <td>20140217005503</td>\n",
       "      <td>2014-02-17</td>\n",
       "      <td>FEMALE</td>\n",
       "      <td>27.0</td>\n",
       "      <td>basic</td>\n",
       "      <td>0</td>\n",
       "      <td>en</td>\n",
       "      <td>direct</td>\n",
       "      <td>direct</td>\n",
       "      <td>untracked</td>\n",
       "      <td>Web</td>\n",
       "      <td>Windows Desktop</td>\n",
       "      <td>Firefox</td>\n",
       "      <td>ES</td>\n",
       "    </tr>\n",
       "    <tr>\n",
       "      <th>161993</th>\n",
       "      <td>9bzevnmq4v</td>\n",
       "      <td>2014-03-11</td>\n",
       "      <td>20140311181449</td>\n",
       "      <td>NaN</td>\n",
       "      <td>-unknown-</td>\n",
       "      <td>NaN</td>\n",
       "      <td>basic</td>\n",
       "      <td>0</td>\n",
       "      <td>en</td>\n",
       "      <td>direct</td>\n",
       "      <td>direct</td>\n",
       "      <td>untracked</td>\n",
       "      <td>Web</td>\n",
       "      <td>Mac Desktop</td>\n",
       "      <td>Chrome</td>\n",
       "      <td>NDF</td>\n",
       "    </tr>\n",
       "    <tr>\n",
       "      <th>81536</th>\n",
       "      <td>kux37wpcfo</td>\n",
       "      <td>2013-06-04</td>\n",
       "      <td>20130604060604</td>\n",
       "      <td>NaN</td>\n",
       "      <td>MALE</td>\n",
       "      <td>52.0</td>\n",
       "      <td>facebook</td>\n",
       "      <td>0</td>\n",
       "      <td>en</td>\n",
       "      <td>direct</td>\n",
       "      <td>direct</td>\n",
       "      <td>untracked</td>\n",
       "      <td>Web</td>\n",
       "      <td>Mac Desktop</td>\n",
       "      <td>Safari</td>\n",
       "      <td>NDF</td>\n",
       "    </tr>\n",
       "    <tr>\n",
       "      <th>36756</th>\n",
       "      <td>qqnj6ohayo</td>\n",
       "      <td>2012-08-16</td>\n",
       "      <td>20120816172708</td>\n",
       "      <td>NaN</td>\n",
       "      <td>FEMALE</td>\n",
       "      <td>45.0</td>\n",
       "      <td>facebook</td>\n",
       "      <td>0</td>\n",
       "      <td>en</td>\n",
       "      <td>direct</td>\n",
       "      <td>direct</td>\n",
       "      <td>untracked</td>\n",
       "      <td>Web</td>\n",
       "      <td>Mac Desktop</td>\n",
       "      <td>Safari</td>\n",
       "      <td>NDF</td>\n",
       "    </tr>\n",
       "    <tr>\n",
       "      <th>74429</th>\n",
       "      <td>nw97iy2dzi</td>\n",
       "      <td>2013-05-02</td>\n",
       "      <td>20130502074337</td>\n",
       "      <td>2013-05-03</td>\n",
       "      <td>FEMALE</td>\n",
       "      <td>35.0</td>\n",
       "      <td>facebook</td>\n",
       "      <td>0</td>\n",
       "      <td>en</td>\n",
       "      <td>direct</td>\n",
       "      <td>direct</td>\n",
       "      <td>linked</td>\n",
       "      <td>Web</td>\n",
       "      <td>Mac Desktop</td>\n",
       "      <td>Firefox</td>\n",
       "      <td>FR</td>\n",
       "    </tr>\n",
       "  </tbody>\n",
       "</table>\n",
       "</div>"
      ],
      "text/plain": [
       "                id date_account_created  timestamp_first_active  \\\n",
       "153649  q9pfrw6si7           2014-02-17          20140217005503   \n",
       "161993  9bzevnmq4v           2014-03-11          20140311181449   \n",
       "81536   kux37wpcfo           2013-06-04          20130604060604   \n",
       "36756   qqnj6ohayo           2012-08-16          20120816172708   \n",
       "74429   nw97iy2dzi           2013-05-02          20130502074337   \n",
       "\n",
       "       date_first_booking     gender   age signup_method  signup_flow  \\\n",
       "153649         2014-02-17     FEMALE  27.0         basic            0   \n",
       "161993                NaN  -unknown-   NaN         basic            0   \n",
       "81536                 NaN       MALE  52.0      facebook            0   \n",
       "36756                 NaN     FEMALE  45.0      facebook            0   \n",
       "74429          2013-05-03     FEMALE  35.0      facebook            0   \n",
       "\n",
       "       language affiliate_channel affiliate_provider first_affiliate_tracked  \\\n",
       "153649       en            direct             direct               untracked   \n",
       "161993       en            direct             direct               untracked   \n",
       "81536        en            direct             direct               untracked   \n",
       "36756        en            direct             direct               untracked   \n",
       "74429        en            direct             direct                  linked   \n",
       "\n",
       "       signup_app first_device_type first_browser country_destination  \n",
       "153649        Web   Windows Desktop       Firefox                  ES  \n",
       "161993        Web       Mac Desktop        Chrome                 NDF  \n",
       "81536         Web       Mac Desktop        Safari                 NDF  \n",
       "36756         Web       Mac Desktop        Safari                 NDF  \n",
       "74429         Web       Mac Desktop       Firefox                  FR  "
      ]
     },
     "execution_count": 11,
     "metadata": {},
     "output_type": "execute_result"
    }
   ],
   "source": [
    "val_users.head()"
   ]
  },
  {
   "cell_type": "code",
   "execution_count": 12,
   "metadata": {},
   "outputs": [
    {
     "data": {
      "text/plain": [
       "(42691, 16)"
      ]
     },
     "execution_count": 12,
     "metadata": {},
     "output_type": "execute_result"
    }
   ],
   "source": [
    "val_users.shape"
   ]
  },
  {
   "cell_type": "code",
   "execution_count": 13,
   "metadata": {},
   "outputs": [
    {
     "data": {
      "text/html": [
       "<div>\n",
       "<style scoped>\n",
       "    .dataframe tbody tr th:only-of-type {\n",
       "        vertical-align: middle;\n",
       "    }\n",
       "\n",
       "    .dataframe tbody tr th {\n",
       "        vertical-align: top;\n",
       "    }\n",
       "\n",
       "    .dataframe thead th {\n",
       "        text-align: right;\n",
       "    }\n",
       "</style>\n",
       "<table border=\"1\" class=\"dataframe\">\n",
       "  <thead>\n",
       "    <tr style=\"text-align: right;\">\n",
       "      <th></th>\n",
       "      <th>id</th>\n",
       "      <th>date_account_created</th>\n",
       "      <th>timestamp_first_active</th>\n",
       "      <th>date_first_booking</th>\n",
       "      <th>gender</th>\n",
       "      <th>age</th>\n",
       "      <th>signup_method</th>\n",
       "      <th>signup_flow</th>\n",
       "      <th>language</th>\n",
       "      <th>affiliate_channel</th>\n",
       "      <th>affiliate_provider</th>\n",
       "      <th>first_affiliate_tracked</th>\n",
       "      <th>signup_app</th>\n",
       "      <th>first_device_type</th>\n",
       "      <th>first_browser</th>\n",
       "      <th>country_destination</th>\n",
       "    </tr>\n",
       "  </thead>\n",
       "  <tbody>\n",
       "    <tr>\n",
       "      <th>139642</th>\n",
       "      <td>85nv87tbl4</td>\n",
       "      <td>2014-01-09</td>\n",
       "      <td>20140109051501</td>\n",
       "      <td>2014-01-09</td>\n",
       "      <td>MALE</td>\n",
       "      <td>31.0</td>\n",
       "      <td>basic</td>\n",
       "      <td>0</td>\n",
       "      <td>en</td>\n",
       "      <td>direct</td>\n",
       "      <td>direct</td>\n",
       "      <td>untracked</td>\n",
       "      <td>Web</td>\n",
       "      <td>Mac Desktop</td>\n",
       "      <td>Chrome</td>\n",
       "      <td>US</td>\n",
       "    </tr>\n",
       "    <tr>\n",
       "      <th>519</th>\n",
       "      <td>svwo8gsij4</td>\n",
       "      <td>2010-05-04</td>\n",
       "      <td>20100504044853</td>\n",
       "      <td>2010-05-27</td>\n",
       "      <td>FEMALE</td>\n",
       "      <td>37.0</td>\n",
       "      <td>basic</td>\n",
       "      <td>3</td>\n",
       "      <td>en</td>\n",
       "      <td>direct</td>\n",
       "      <td>direct</td>\n",
       "      <td>linked</td>\n",
       "      <td>Web</td>\n",
       "      <td>Mac Desktop</td>\n",
       "      <td>Chrome</td>\n",
       "      <td>US</td>\n",
       "    </tr>\n",
       "    <tr>\n",
       "      <th>120664</th>\n",
       "      <td>35ja03ym7f</td>\n",
       "      <td>2013-10-30</td>\n",
       "      <td>20131030215606</td>\n",
       "      <td>NaN</td>\n",
       "      <td>-unknown-</td>\n",
       "      <td>NaN</td>\n",
       "      <td>basic</td>\n",
       "      <td>0</td>\n",
       "      <td>en</td>\n",
       "      <td>direct</td>\n",
       "      <td>direct</td>\n",
       "      <td>untracked</td>\n",
       "      <td>Web</td>\n",
       "      <td>Mac Desktop</td>\n",
       "      <td>Chrome</td>\n",
       "      <td>NDF</td>\n",
       "    </tr>\n",
       "    <tr>\n",
       "      <th>84733</th>\n",
       "      <td>ograyifw83</td>\n",
       "      <td>2013-06-18</td>\n",
       "      <td>20130618071048</td>\n",
       "      <td>NaN</td>\n",
       "      <td>-unknown-</td>\n",
       "      <td>NaN</td>\n",
       "      <td>basic</td>\n",
       "      <td>0</td>\n",
       "      <td>en</td>\n",
       "      <td>sem-brand</td>\n",
       "      <td>google</td>\n",
       "      <td>omg</td>\n",
       "      <td>Web</td>\n",
       "      <td>Windows Desktop</td>\n",
       "      <td>Chrome</td>\n",
       "      <td>NDF</td>\n",
       "    </tr>\n",
       "    <tr>\n",
       "      <th>183255</th>\n",
       "      <td>a8tr2x328d</td>\n",
       "      <td>2014-05-01</td>\n",
       "      <td>20140501211431</td>\n",
       "      <td>2014-05-05</td>\n",
       "      <td>FEMALE</td>\n",
       "      <td>28.0</td>\n",
       "      <td>basic</td>\n",
       "      <td>0</td>\n",
       "      <td>en</td>\n",
       "      <td>sem-brand</td>\n",
       "      <td>google</td>\n",
       "      <td>untracked</td>\n",
       "      <td>Web</td>\n",
       "      <td>Mac Desktop</td>\n",
       "      <td>Chrome</td>\n",
       "      <td>US</td>\n",
       "    </tr>\n",
       "  </tbody>\n",
       "</table>\n",
       "</div>"
      ],
      "text/plain": [
       "                id date_account_created  timestamp_first_active  \\\n",
       "139642  85nv87tbl4           2014-01-09          20140109051501   \n",
       "519     svwo8gsij4           2010-05-04          20100504044853   \n",
       "120664  35ja03ym7f           2013-10-30          20131030215606   \n",
       "84733   ograyifw83           2013-06-18          20130618071048   \n",
       "183255  a8tr2x328d           2014-05-01          20140501211431   \n",
       "\n",
       "       date_first_booking     gender   age signup_method  signup_flow  \\\n",
       "139642         2014-01-09       MALE  31.0         basic            0   \n",
       "519            2010-05-27     FEMALE  37.0         basic            3   \n",
       "120664                NaN  -unknown-   NaN         basic            0   \n",
       "84733                 NaN  -unknown-   NaN         basic            0   \n",
       "183255         2014-05-05     FEMALE  28.0         basic            0   \n",
       "\n",
       "       language affiliate_channel affiliate_provider first_affiliate_tracked  \\\n",
       "139642       en            direct             direct               untracked   \n",
       "519          en            direct             direct                  linked   \n",
       "120664       en            direct             direct               untracked   \n",
       "84733        en         sem-brand             google                     omg   \n",
       "183255       en         sem-brand             google               untracked   \n",
       "\n",
       "       signup_app first_device_type first_browser country_destination  \n",
       "139642        Web       Mac Desktop        Chrome                  US  \n",
       "519           Web       Mac Desktop        Chrome                  US  \n",
       "120664        Web       Mac Desktop        Chrome                 NDF  \n",
       "84733         Web   Windows Desktop        Chrome                 NDF  \n",
       "183255        Web       Mac Desktop        Chrome                  US  "
      ]
     },
     "execution_count": 13,
     "metadata": {},
     "output_type": "execute_result"
    }
   ],
   "source": [
    "train_users.head()"
   ]
  },
  {
   "cell_type": "markdown",
   "metadata": {},
   "source": [
    "*Getting more information on the train datset*"
   ]
  },
  {
   "cell_type": "code",
   "execution_count": 14,
   "metadata": {},
   "outputs": [
    {
     "name": "stdout",
     "output_type": "stream",
     "text": [
      "<class 'pandas.core.frame.DataFrame'>\n",
      "Index: 170760 entries, 139642 to 121958\n",
      "Data columns (total 16 columns):\n",
      " #   Column                   Non-Null Count   Dtype  \n",
      "---  ------                   --------------   -----  \n",
      " 0   id                       170760 non-null  object \n",
      " 1   date_account_created     170760 non-null  object \n",
      " 2   timestamp_first_active   170760 non-null  int64  \n",
      " 3   date_first_booking       71060 non-null   object \n",
      " 4   gender                   170760 non-null  object \n",
      " 5   age                      100309 non-null  float64\n",
      " 6   signup_method            170760 non-null  object \n",
      " 7   signup_flow              170760 non-null  int64  \n",
      " 8   language                 170760 non-null  object \n",
      " 9   affiliate_channel        170760 non-null  object \n",
      " 10  affiliate_provider       170760 non-null  object \n",
      " 11  first_affiliate_tracked  165844 non-null  object \n",
      " 12  signup_app               170760 non-null  object \n",
      " 13  first_device_type        170760 non-null  object \n",
      " 14  first_browser            170760 non-null  object \n",
      " 15  country_destination      170760 non-null  object \n",
      "dtypes: float64(1), int64(2), object(13)\n",
      "memory usage: 22.1+ MB\n"
     ]
    }
   ],
   "source": [
    "train_users.info()"
   ]
  },
  {
   "cell_type": "code",
   "execution_count": 15,
   "metadata": {},
   "outputs": [
    {
     "data": {
      "text/html": [
       "<div>\n",
       "<style scoped>\n",
       "    .dataframe tbody tr th:only-of-type {\n",
       "        vertical-align: middle;\n",
       "    }\n",
       "\n",
       "    .dataframe tbody tr th {\n",
       "        vertical-align: top;\n",
       "    }\n",
       "\n",
       "    .dataframe thead th {\n",
       "        text-align: right;\n",
       "    }\n",
       "</style>\n",
       "<table border=\"1\" class=\"dataframe\">\n",
       "  <thead>\n",
       "    <tr style=\"text-align: right;\">\n",
       "      <th></th>\n",
       "      <th>timestamp_first_active</th>\n",
       "      <th>age</th>\n",
       "      <th>signup_flow</th>\n",
       "    </tr>\n",
       "  </thead>\n",
       "  <tbody>\n",
       "    <tr>\n",
       "      <th>count</th>\n",
       "      <td>1.707600e+05</td>\n",
       "      <td>100309.000000</td>\n",
       "      <td>170760.000000</td>\n",
       "    </tr>\n",
       "    <tr>\n",
       "      <th>mean</th>\n",
       "      <td>2.013085e+13</td>\n",
       "      <td>49.658186</td>\n",
       "      <td>3.275890</td>\n",
       "    </tr>\n",
       "    <tr>\n",
       "      <th>std</th>\n",
       "      <td>9.256034e+09</td>\n",
       "      <td>155.692226</td>\n",
       "      <td>7.647473</td>\n",
       "    </tr>\n",
       "    <tr>\n",
       "      <th>min</th>\n",
       "      <td>2.009032e+13</td>\n",
       "      <td>1.000000</td>\n",
       "      <td>0.000000</td>\n",
       "    </tr>\n",
       "    <tr>\n",
       "      <th>25%</th>\n",
       "      <td>2.012122e+13</td>\n",
       "      <td>28.000000</td>\n",
       "      <td>0.000000</td>\n",
       "    </tr>\n",
       "    <tr>\n",
       "      <th>50%</th>\n",
       "      <td>2.013091e+13</td>\n",
       "      <td>34.000000</td>\n",
       "      <td>0.000000</td>\n",
       "    </tr>\n",
       "    <tr>\n",
       "      <th>75%</th>\n",
       "      <td>2.014031e+13</td>\n",
       "      <td>43.000000</td>\n",
       "      <td>0.000000</td>\n",
       "    </tr>\n",
       "    <tr>\n",
       "      <th>max</th>\n",
       "      <td>2.014063e+13</td>\n",
       "      <td>2014.000000</td>\n",
       "      <td>25.000000</td>\n",
       "    </tr>\n",
       "  </tbody>\n",
       "</table>\n",
       "</div>"
      ],
      "text/plain": [
       "       timestamp_first_active            age    signup_flow\n",
       "count            1.707600e+05  100309.000000  170760.000000\n",
       "mean             2.013085e+13      49.658186       3.275890\n",
       "std              9.256034e+09     155.692226       7.647473\n",
       "min              2.009032e+13       1.000000       0.000000\n",
       "25%              2.012122e+13      28.000000       0.000000\n",
       "50%              2.013091e+13      34.000000       0.000000\n",
       "75%              2.014031e+13      43.000000       0.000000\n",
       "max              2.014063e+13    2014.000000      25.000000"
      ]
     },
     "execution_count": 15,
     "metadata": {},
     "output_type": "execute_result"
    }
   ],
   "source": [
    "train_users.describe()"
   ]
  },
  {
   "cell_type": "code",
   "execution_count": 16,
   "metadata": {},
   "outputs": [
    {
     "data": {
      "text/html": [
       "<div>\n",
       "<style scoped>\n",
       "    .dataframe tbody tr th:only-of-type {\n",
       "        vertical-align: middle;\n",
       "    }\n",
       "\n",
       "    .dataframe tbody tr th {\n",
       "        vertical-align: top;\n",
       "    }\n",
       "\n",
       "    .dataframe thead th {\n",
       "        text-align: right;\n",
       "    }\n",
       "</style>\n",
       "<table border=\"1\" class=\"dataframe\">\n",
       "  <thead>\n",
       "    <tr style=\"text-align: right;\">\n",
       "      <th></th>\n",
       "      <th>id</th>\n",
       "      <th>date_account_created</th>\n",
       "      <th>date_first_booking</th>\n",
       "      <th>gender</th>\n",
       "      <th>signup_method</th>\n",
       "      <th>language</th>\n",
       "      <th>affiliate_channel</th>\n",
       "      <th>affiliate_provider</th>\n",
       "      <th>first_affiliate_tracked</th>\n",
       "      <th>signup_app</th>\n",
       "      <th>first_device_type</th>\n",
       "      <th>first_browser</th>\n",
       "      <th>country_destination</th>\n",
       "    </tr>\n",
       "  </thead>\n",
       "  <tbody>\n",
       "    <tr>\n",
       "      <th>count</th>\n",
       "      <td>170760</td>\n",
       "      <td>170760</td>\n",
       "      <td>71060</td>\n",
       "      <td>170760</td>\n",
       "      <td>170760</td>\n",
       "      <td>170760</td>\n",
       "      <td>170760</td>\n",
       "      <td>170760</td>\n",
       "      <td>165844</td>\n",
       "      <td>170760</td>\n",
       "      <td>170760</td>\n",
       "      <td>170760</td>\n",
       "      <td>170760</td>\n",
       "    </tr>\n",
       "    <tr>\n",
       "      <th>unique</th>\n",
       "      <td>170760</td>\n",
       "      <td>1632</td>\n",
       "      <td>1963</td>\n",
       "      <td>4</td>\n",
       "      <td>3</td>\n",
       "      <td>25</td>\n",
       "      <td>8</td>\n",
       "      <td>18</td>\n",
       "      <td>7</td>\n",
       "      <td>4</td>\n",
       "      <td>9</td>\n",
       "      <td>50</td>\n",
       "      <td>12</td>\n",
       "    </tr>\n",
       "    <tr>\n",
       "      <th>top</th>\n",
       "      <td>85nv87tbl4</td>\n",
       "      <td>2014-05-13</td>\n",
       "      <td>2014-05-22</td>\n",
       "      <td>-unknown-</td>\n",
       "      <td>basic</td>\n",
       "      <td>en</td>\n",
       "      <td>direct</td>\n",
       "      <td>direct</td>\n",
       "      <td>untracked</td>\n",
       "      <td>Web</td>\n",
       "      <td>Mac Desktop</td>\n",
       "      <td>Chrome</td>\n",
       "      <td>NDF</td>\n",
       "    </tr>\n",
       "    <tr>\n",
       "      <th>freq</th>\n",
       "      <td>1</td>\n",
       "      <td>535</td>\n",
       "      <td>209</td>\n",
       "      <td>76554</td>\n",
       "      <td>122189</td>\n",
       "      <td>165029</td>\n",
       "      <td>110161</td>\n",
       "      <td>109908</td>\n",
       "      <td>87191</td>\n",
       "      <td>146111</td>\n",
       "      <td>71603</td>\n",
       "      <td>51052</td>\n",
       "      <td>99700</td>\n",
       "    </tr>\n",
       "  </tbody>\n",
       "</table>\n",
       "</div>"
      ],
      "text/plain": [
       "                id date_account_created date_first_booking     gender  \\\n",
       "count       170760               170760              71060     170760   \n",
       "unique      170760                 1632               1963          4   \n",
       "top     85nv87tbl4           2014-05-13         2014-05-22  -unknown-   \n",
       "freq             1                  535                209      76554   \n",
       "\n",
       "       signup_method language affiliate_channel affiliate_provider  \\\n",
       "count         170760   170760            170760             170760   \n",
       "unique             3       25                 8                 18   \n",
       "top            basic       en            direct             direct   \n",
       "freq          122189   165029            110161             109908   \n",
       "\n",
       "       first_affiliate_tracked signup_app first_device_type first_browser  \\\n",
       "count                   165844     170760            170760        170760   \n",
       "unique                       7          4                 9            50   \n",
       "top                  untracked        Web       Mac Desktop        Chrome   \n",
       "freq                     87191     146111             71603         51052   \n",
       "\n",
       "       country_destination  \n",
       "count               170760  \n",
       "unique                  12  \n",
       "top                    NDF  \n",
       "freq                 99700  "
      ]
     },
     "execution_count": 16,
     "metadata": {},
     "output_type": "execute_result"
    }
   ],
   "source": [
    "train_users.describe(include = object)"
   ]
  },
  {
   "cell_type": "markdown",
   "metadata": {},
   "source": [
    "*When info function was used, it can be observed that there are few columns whhich does not have 170760 non-null values. Let's examine a bit more on this by checking the null values.*"
   ]
  },
  {
   "cell_type": "code",
   "execution_count": 17,
   "metadata": {},
   "outputs": [
    {
     "data": {
      "text/plain": [
       "id                             0\n",
       "date_account_created           0\n",
       "timestamp_first_active         0\n",
       "date_first_booking         99700\n",
       "gender                         0\n",
       "age                        70451\n",
       "signup_method                  0\n",
       "signup_flow                    0\n",
       "language                       0\n",
       "affiliate_channel              0\n",
       "affiliate_provider             0\n",
       "first_affiliate_tracked     4916\n",
       "signup_app                     0\n",
       "first_device_type              0\n",
       "first_browser                  0\n",
       "country_destination            0\n",
       "dtype: int64"
      ]
     },
     "execution_count": 17,
     "metadata": {},
     "output_type": "execute_result"
    }
   ],
   "source": [
    "train_users.isna().sum()"
   ]
  },
  {
   "cell_type": "markdown",
   "metadata": {},
   "source": [
    "*Null values in terms of percentage*"
   ]
  },
  {
   "cell_type": "code",
   "execution_count": 18,
   "metadata": {},
   "outputs": [
    {
     "data": {
      "text/plain": [
       "id                          0.00\n",
       "date_account_created        0.00\n",
       "timestamp_first_active      0.00\n",
       "date_first_booking         58.39\n",
       "gender                      0.00\n",
       "age                        41.26\n",
       "signup_method               0.00\n",
       "signup_flow                 0.00\n",
       "language                    0.00\n",
       "affiliate_channel           0.00\n",
       "affiliate_provider          0.00\n",
       "first_affiliate_tracked     2.88\n",
       "signup_app                  0.00\n",
       "first_device_type           0.00\n",
       "first_browser               0.00\n",
       "country_destination         0.00\n",
       "dtype: float64"
      ]
     },
     "execution_count": 18,
     "metadata": {},
     "output_type": "execute_result"
    }
   ],
   "source": [
    "round((train_users.isna().sum()/train_users.shape[0])*100,2)"
   ]
  },
  {
   "cell_type": "markdown",
   "metadata": {},
   "source": [
    "*first_affiliate_tracked has less null values in training set, but the field date_first_booking and age has more null values,Let's explore more about the fileds which has null values to understand the reason if any.*"
   ]
  },
  {
   "cell_type": "code",
   "execution_count": 19,
   "metadata": {},
   "outputs": [
    {
     "data": {
      "text/plain": [
       "country_destination\n",
       "NDF    99700\n",
       "Name: count, dtype: int64"
      ]
     },
     "execution_count": 19,
     "metadata": {},
     "output_type": "execute_result"
    }
   ],
   "source": [
    "train_users[train_users[\"date_first_booking\"].isna()][\"country_destination\"].value_counts()"
   ]
  },
  {
   "cell_type": "markdown",
   "metadata": {},
   "source": [
    "*Now, we can understand why there are lot of null values in date_first_booking field. It is because, when the user does not book , then the target variable would be NDF and also date_first_booking will have null value. This field also can be dropped as this will not help us much. For datetime related features, we have other fields to look into.*"
   ]
  },
  {
   "cell_type": "code",
   "execution_count": 20,
   "metadata": {},
   "outputs": [],
   "source": [
    "train_users.drop(\"date_first_booking\", axis = 1, inplace = True)"
   ]
  },
  {
   "cell_type": "code",
   "execution_count": 21,
   "metadata": {},
   "outputs": [],
   "source": [
    "val_users.drop(\"date_first_booking\", axis = 1, inplace = True)"
   ]
  },
  {
   "cell_type": "markdown",
   "metadata": {},
   "source": [
    "*Coming to the field age, around 41.2% of the dataset has null values. Removing the records with null value will not help as this will cause a huge reduction in number of data points for training.*\n",
    "\n",
    "*So let's explore more about the age field later on why there are lot of missing values and also on how we can reduce it, before that we will see the first_affiliate_tracked field which has around 3% null values in training set.*"
   ]
  },
  {
   "cell_type": "code",
   "execution_count": 22,
   "metadata": {},
   "outputs": [
    {
     "data": {
      "text/plain": [
       "first_affiliate_tracked\n",
       "untracked        87191\n",
       "linked           37101\n",
       "omg              35186\n",
       "tracked-other     4958\n",
       "product           1265\n",
       "marketing          115\n",
       "local ops           28\n",
       "Name: count, dtype: int64"
      ]
     },
     "execution_count": 22,
     "metadata": {},
     "output_type": "execute_result"
    }
   ],
   "source": [
    "train_users[\"first_affiliate_tracked\"].value_counts()"
   ]
  },
  {
   "cell_type": "markdown",
   "metadata": {},
   "source": [
    "*Since the number of data points which are null are very less, I will impute the null values will the category having the maximum frequency.*"
   ]
  },
  {
   "cell_type": "code",
   "execution_count": 23,
   "metadata": {},
   "outputs": [],
   "source": [
    "train_users[\"first_affiliate_tracked\"] = train_users[\"first_affiliate_tracked\"].fillna(train_users[\"first_affiliate_tracked\"].mode().iloc[0])"
   ]
  },
  {
   "cell_type": "code",
   "execution_count": 24,
   "metadata": {},
   "outputs": [],
   "source": [
    "val_users[\"first_affiliate_tracked\"] = val_users[\"first_affiliate_tracked\"].fillna(val_users[\"first_affiliate_tracked\"].mode().iloc[0])"
   ]
  },
  {
   "cell_type": "markdown",
   "metadata": {},
   "source": [
    "*Let's go to each field one by one and perform the necessary operations*  "
   ]
  },
  {
   "cell_type": "code",
   "execution_count": 25,
   "metadata": {},
   "outputs": [
    {
     "data": {
      "text/html": [
       "<div>\n",
       "<style scoped>\n",
       "    .dataframe tbody tr th:only-of-type {\n",
       "        vertical-align: middle;\n",
       "    }\n",
       "\n",
       "    .dataframe tbody tr th {\n",
       "        vertical-align: top;\n",
       "    }\n",
       "\n",
       "    .dataframe thead th {\n",
       "        text-align: right;\n",
       "    }\n",
       "</style>\n",
       "<table border=\"1\" class=\"dataframe\">\n",
       "  <thead>\n",
       "    <tr style=\"text-align: right;\">\n",
       "      <th></th>\n",
       "      <th>id</th>\n",
       "      <th>date_account_created</th>\n",
       "      <th>timestamp_first_active</th>\n",
       "      <th>gender</th>\n",
       "      <th>age</th>\n",
       "      <th>signup_method</th>\n",
       "      <th>signup_flow</th>\n",
       "      <th>language</th>\n",
       "      <th>affiliate_channel</th>\n",
       "      <th>affiliate_provider</th>\n",
       "      <th>first_affiliate_tracked</th>\n",
       "      <th>signup_app</th>\n",
       "      <th>first_device_type</th>\n",
       "      <th>first_browser</th>\n",
       "      <th>country_destination</th>\n",
       "    </tr>\n",
       "  </thead>\n",
       "  <tbody>\n",
       "    <tr>\n",
       "      <th>139642</th>\n",
       "      <td>85nv87tbl4</td>\n",
       "      <td>2014-01-09</td>\n",
       "      <td>20140109051501</td>\n",
       "      <td>MALE</td>\n",
       "      <td>31.0</td>\n",
       "      <td>basic</td>\n",
       "      <td>0</td>\n",
       "      <td>en</td>\n",
       "      <td>direct</td>\n",
       "      <td>direct</td>\n",
       "      <td>untracked</td>\n",
       "      <td>Web</td>\n",
       "      <td>Mac Desktop</td>\n",
       "      <td>Chrome</td>\n",
       "      <td>US</td>\n",
       "    </tr>\n",
       "    <tr>\n",
       "      <th>519</th>\n",
       "      <td>svwo8gsij4</td>\n",
       "      <td>2010-05-04</td>\n",
       "      <td>20100504044853</td>\n",
       "      <td>FEMALE</td>\n",
       "      <td>37.0</td>\n",
       "      <td>basic</td>\n",
       "      <td>3</td>\n",
       "      <td>en</td>\n",
       "      <td>direct</td>\n",
       "      <td>direct</td>\n",
       "      <td>linked</td>\n",
       "      <td>Web</td>\n",
       "      <td>Mac Desktop</td>\n",
       "      <td>Chrome</td>\n",
       "      <td>US</td>\n",
       "    </tr>\n",
       "    <tr>\n",
       "      <th>120664</th>\n",
       "      <td>35ja03ym7f</td>\n",
       "      <td>2013-10-30</td>\n",
       "      <td>20131030215606</td>\n",
       "      <td>-unknown-</td>\n",
       "      <td>NaN</td>\n",
       "      <td>basic</td>\n",
       "      <td>0</td>\n",
       "      <td>en</td>\n",
       "      <td>direct</td>\n",
       "      <td>direct</td>\n",
       "      <td>untracked</td>\n",
       "      <td>Web</td>\n",
       "      <td>Mac Desktop</td>\n",
       "      <td>Chrome</td>\n",
       "      <td>NDF</td>\n",
       "    </tr>\n",
       "    <tr>\n",
       "      <th>84733</th>\n",
       "      <td>ograyifw83</td>\n",
       "      <td>2013-06-18</td>\n",
       "      <td>20130618071048</td>\n",
       "      <td>-unknown-</td>\n",
       "      <td>NaN</td>\n",
       "      <td>basic</td>\n",
       "      <td>0</td>\n",
       "      <td>en</td>\n",
       "      <td>sem-brand</td>\n",
       "      <td>google</td>\n",
       "      <td>omg</td>\n",
       "      <td>Web</td>\n",
       "      <td>Windows Desktop</td>\n",
       "      <td>Chrome</td>\n",
       "      <td>NDF</td>\n",
       "    </tr>\n",
       "    <tr>\n",
       "      <th>183255</th>\n",
       "      <td>a8tr2x328d</td>\n",
       "      <td>2014-05-01</td>\n",
       "      <td>20140501211431</td>\n",
       "      <td>FEMALE</td>\n",
       "      <td>28.0</td>\n",
       "      <td>basic</td>\n",
       "      <td>0</td>\n",
       "      <td>en</td>\n",
       "      <td>sem-brand</td>\n",
       "      <td>google</td>\n",
       "      <td>untracked</td>\n",
       "      <td>Web</td>\n",
       "      <td>Mac Desktop</td>\n",
       "      <td>Chrome</td>\n",
       "      <td>US</td>\n",
       "    </tr>\n",
       "  </tbody>\n",
       "</table>\n",
       "</div>"
      ],
      "text/plain": [
       "                id date_account_created  timestamp_first_active     gender  \\\n",
       "139642  85nv87tbl4           2014-01-09          20140109051501       MALE   \n",
       "519     svwo8gsij4           2010-05-04          20100504044853     FEMALE   \n",
       "120664  35ja03ym7f           2013-10-30          20131030215606  -unknown-   \n",
       "84733   ograyifw83           2013-06-18          20130618071048  -unknown-   \n",
       "183255  a8tr2x328d           2014-05-01          20140501211431     FEMALE   \n",
       "\n",
       "         age signup_method  signup_flow language affiliate_channel  \\\n",
       "139642  31.0         basic            0       en            direct   \n",
       "519     37.0         basic            3       en            direct   \n",
       "120664   NaN         basic            0       en            direct   \n",
       "84733    NaN         basic            0       en         sem-brand   \n",
       "183255  28.0         basic            0       en         sem-brand   \n",
       "\n",
       "       affiliate_provider first_affiliate_tracked signup_app  \\\n",
       "139642             direct               untracked        Web   \n",
       "519                direct                  linked        Web   \n",
       "120664             direct               untracked        Web   \n",
       "84733              google                     omg        Web   \n",
       "183255             google               untracked        Web   \n",
       "\n",
       "       first_device_type first_browser country_destination  \n",
       "139642       Mac Desktop        Chrome                  US  \n",
       "519          Mac Desktop        Chrome                  US  \n",
       "120664       Mac Desktop        Chrome                 NDF  \n",
       "84733    Windows Desktop        Chrome                 NDF  \n",
       "183255       Mac Desktop        Chrome                  US  "
      ]
     },
     "execution_count": 25,
     "metadata": {},
     "output_type": "execute_result"
    }
   ],
   "source": [
    "train_users.head()"
   ]
  },
  {
   "cell_type": "markdown",
   "metadata": {},
   "source": [
    "*Let me start with the target variable*"
   ]
  },
  {
   "cell_type": "code",
   "execution_count": 26,
   "metadata": {},
   "outputs": [
    {
     "data": {
      "text/plain": [
       "country_destination\n",
       "NDF      99700\n",
       "US       49851\n",
       "other     8088\n",
       "FR        4013\n",
       "IT        2273\n",
       "GB        1827\n",
       "ES        1798\n",
       "CA        1153\n",
       "DE         853\n",
       "NL         607\n",
       "AU         425\n",
       "PT         172\n",
       "Name: count, dtype: int64"
      ]
     },
     "execution_count": 26,
     "metadata": {},
     "output_type": "execute_result"
    }
   ],
   "source": [
    "train_users[\"country_destination\"].value_counts()"
   ]
  },
  {
   "cell_type": "code",
   "execution_count": 27,
   "metadata": {},
   "outputs": [],
   "source": [
    "sns.countplot(train_users[\"country_destination\"])"
   ]
  },
  {
   "cell_type": "markdown",
   "metadata": {},
   "source": [
    "*Quite an imbalanced data set with most of the data points from US, NDF and others, will looks into this issue later before training the model.*"
   ]
  },
  {
   "cell_type": "markdown",
   "metadata": {},
   "source": [
    "*For this application where we try to predict which country they might visit, seasonality plays an important role. So let's focus on extarcting the month from datetime related fields instead of exact date.*"
   ]
  },
  {
   "cell_type": "code",
   "execution_count": 28,
   "metadata": {},
   "outputs": [],
   "source": [
    "train_users[\"date_account_created\"] = pd.to_datetime(train_users[\"date_account_created\"])\n",
    "train_users[\"account_created_month\"] = train_users[\"date_account_created\"].dt.month"
   ]
  },
  {
   "cell_type": "code",
   "execution_count": 29,
   "metadata": {},
   "outputs": [
    {
     "data": {
      "text/html": [
       "<div>\n",
       "<style scoped>\n",
       "    .dataframe tbody tr th:only-of-type {\n",
       "        vertical-align: middle;\n",
       "    }\n",
       "\n",
       "    .dataframe tbody tr th {\n",
       "        vertical-align: top;\n",
       "    }\n",
       "\n",
       "    .dataframe thead th {\n",
       "        text-align: right;\n",
       "    }\n",
       "</style>\n",
       "<table border=\"1\" class=\"dataframe\">\n",
       "  <thead>\n",
       "    <tr style=\"text-align: right;\">\n",
       "      <th></th>\n",
       "      <th>id</th>\n",
       "      <th>date_account_created</th>\n",
       "      <th>timestamp_first_active</th>\n",
       "      <th>gender</th>\n",
       "      <th>age</th>\n",
       "      <th>signup_method</th>\n",
       "      <th>signup_flow</th>\n",
       "      <th>language</th>\n",
       "      <th>affiliate_channel</th>\n",
       "      <th>affiliate_provider</th>\n",
       "      <th>first_affiliate_tracked</th>\n",
       "      <th>signup_app</th>\n",
       "      <th>first_device_type</th>\n",
       "      <th>first_browser</th>\n",
       "      <th>country_destination</th>\n",
       "      <th>account_created_month</th>\n",
       "    </tr>\n",
       "  </thead>\n",
       "  <tbody>\n",
       "    <tr>\n",
       "      <th>139642</th>\n",
       "      <td>85nv87tbl4</td>\n",
       "      <td>2014-01-09</td>\n",
       "      <td>20140109051501</td>\n",
       "      <td>MALE</td>\n",
       "      <td>31.0</td>\n",
       "      <td>basic</td>\n",
       "      <td>0</td>\n",
       "      <td>en</td>\n",
       "      <td>direct</td>\n",
       "      <td>direct</td>\n",
       "      <td>untracked</td>\n",
       "      <td>Web</td>\n",
       "      <td>Mac Desktop</td>\n",
       "      <td>Chrome</td>\n",
       "      <td>US</td>\n",
       "      <td>1</td>\n",
       "    </tr>\n",
       "    <tr>\n",
       "      <th>519</th>\n",
       "      <td>svwo8gsij4</td>\n",
       "      <td>2010-05-04</td>\n",
       "      <td>20100504044853</td>\n",
       "      <td>FEMALE</td>\n",
       "      <td>37.0</td>\n",
       "      <td>basic</td>\n",
       "      <td>3</td>\n",
       "      <td>en</td>\n",
       "      <td>direct</td>\n",
       "      <td>direct</td>\n",
       "      <td>linked</td>\n",
       "      <td>Web</td>\n",
       "      <td>Mac Desktop</td>\n",
       "      <td>Chrome</td>\n",
       "      <td>US</td>\n",
       "      <td>5</td>\n",
       "    </tr>\n",
       "    <tr>\n",
       "      <th>120664</th>\n",
       "      <td>35ja03ym7f</td>\n",
       "      <td>2013-10-30</td>\n",
       "      <td>20131030215606</td>\n",
       "      <td>-unknown-</td>\n",
       "      <td>NaN</td>\n",
       "      <td>basic</td>\n",
       "      <td>0</td>\n",
       "      <td>en</td>\n",
       "      <td>direct</td>\n",
       "      <td>direct</td>\n",
       "      <td>untracked</td>\n",
       "      <td>Web</td>\n",
       "      <td>Mac Desktop</td>\n",
       "      <td>Chrome</td>\n",
       "      <td>NDF</td>\n",
       "      <td>10</td>\n",
       "    </tr>\n",
       "    <tr>\n",
       "      <th>84733</th>\n",
       "      <td>ograyifw83</td>\n",
       "      <td>2013-06-18</td>\n",
       "      <td>20130618071048</td>\n",
       "      <td>-unknown-</td>\n",
       "      <td>NaN</td>\n",
       "      <td>basic</td>\n",
       "      <td>0</td>\n",
       "      <td>en</td>\n",
       "      <td>sem-brand</td>\n",
       "      <td>google</td>\n",
       "      <td>omg</td>\n",
       "      <td>Web</td>\n",
       "      <td>Windows Desktop</td>\n",
       "      <td>Chrome</td>\n",
       "      <td>NDF</td>\n",
       "      <td>6</td>\n",
       "    </tr>\n",
       "    <tr>\n",
       "      <th>183255</th>\n",
       "      <td>a8tr2x328d</td>\n",
       "      <td>2014-05-01</td>\n",
       "      <td>20140501211431</td>\n",
       "      <td>FEMALE</td>\n",
       "      <td>28.0</td>\n",
       "      <td>basic</td>\n",
       "      <td>0</td>\n",
       "      <td>en</td>\n",
       "      <td>sem-brand</td>\n",
       "      <td>google</td>\n",
       "      <td>untracked</td>\n",
       "      <td>Web</td>\n",
       "      <td>Mac Desktop</td>\n",
       "      <td>Chrome</td>\n",
       "      <td>US</td>\n",
       "      <td>5</td>\n",
       "    </tr>\n",
       "  </tbody>\n",
       "</table>\n",
       "</div>"
      ],
      "text/plain": [
       "                id date_account_created  timestamp_first_active     gender  \\\n",
       "139642  85nv87tbl4           2014-01-09          20140109051501       MALE   \n",
       "519     svwo8gsij4           2010-05-04          20100504044853     FEMALE   \n",
       "120664  35ja03ym7f           2013-10-30          20131030215606  -unknown-   \n",
       "84733   ograyifw83           2013-06-18          20130618071048  -unknown-   \n",
       "183255  a8tr2x328d           2014-05-01          20140501211431     FEMALE   \n",
       "\n",
       "         age signup_method  signup_flow language affiliate_channel  \\\n",
       "139642  31.0         basic            0       en            direct   \n",
       "519     37.0         basic            3       en            direct   \n",
       "120664   NaN         basic            0       en            direct   \n",
       "84733    NaN         basic            0       en         sem-brand   \n",
       "183255  28.0         basic            0       en         sem-brand   \n",
       "\n",
       "       affiliate_provider first_affiliate_tracked signup_app  \\\n",
       "139642             direct               untracked        Web   \n",
       "519                direct                  linked        Web   \n",
       "120664             direct               untracked        Web   \n",
       "84733              google                     omg        Web   \n",
       "183255             google               untracked        Web   \n",
       "\n",
       "       first_device_type first_browser country_destination  \\\n",
       "139642       Mac Desktop        Chrome                  US   \n",
       "519          Mac Desktop        Chrome                  US   \n",
       "120664       Mac Desktop        Chrome                 NDF   \n",
       "84733    Windows Desktop        Chrome                 NDF   \n",
       "183255       Mac Desktop        Chrome                  US   \n",
       "\n",
       "        account_created_month  \n",
       "139642                      1  \n",
       "519                         5  \n",
       "120664                     10  \n",
       "84733                       6  \n",
       "183255                      5  "
      ]
     },
     "execution_count": 29,
     "metadata": {},
     "output_type": "execute_result"
    }
   ],
   "source": [
    "train_users.head()"
   ]
  },
  {
   "cell_type": "code",
   "execution_count": 30,
   "metadata": {},
   "outputs": [
    {
     "data": {
      "text/plain": [
       "<Axes: ylabel='count'>"
      ]
     },
     "execution_count": 30,
     "metadata": {},
     "output_type": "execute_result"
    },
    {
     "data": {
      "image/png": "[encoded data removed]",
      "text/plain": [
       "<Figure size 640x480 with 1 Axes>"
      ]
     },
     "metadata": {},
     "output_type": "display_data"
    }
   ],
   "source": [
    "sns.countplot(train_users[\"account_created_month\"])"
   ]
  },
  {
   "cell_type": "markdown",
   "metadata": {},
   "source": [
    "*Most of the accounts were created from the month of march to June.*"
   ]
  },
  {
   "cell_type": "markdown",
   "metadata": {},
   "source": [
    "Performing the same operation in validation dataset."
   ]
  },
  {
   "cell_type": "code",
   "execution_count": 31,
   "metadata": {},
   "outputs": [],
   "source": [
    "val_users[\"date_account_created\"] = pd.to_datetime(val_users[\"date_account_created\"])\n",
    "val_users[\"account_created_month\"] = val_users[\"date_account_created\"].dt.month"
   ]
  },
  {
   "cell_type": "code",
   "execution_count": 32,
   "metadata": {},
   "outputs": [
    {
     "data": {
      "text/html": [
       "<div>\n",
       "<style scoped>\n",
       "    .dataframe tbody tr th:only-of-type {\n",
       "        vertical-align: middle;\n",
       "    }\n",
       "\n",
       "    .dataframe tbody tr th {\n",
       "        vertical-align: top;\n",
       "    }\n",
       "\n",
       "    .dataframe thead th {\n",
       "        text-align: right;\n",
       "    }\n",
       "</style>\n",
       "<table border=\"1\" class=\"dataframe\">\n",
       "  <thead>\n",
       "    <tr style=\"text-align: right;\">\n",
       "      <th></th>\n",
       "      <th>id</th>\n",
       "      <th>date_account_created</th>\n",
       "      <th>timestamp_first_active</th>\n",
       "      <th>gender</th>\n",
       "      <th>age</th>\n",
       "      <th>signup_method</th>\n",
       "      <th>signup_flow</th>\n",
       "      <th>language</th>\n",
       "      <th>affiliate_channel</th>\n",
       "      <th>affiliate_provider</th>\n",
       "      <th>first_affiliate_tracked</th>\n",
       "      <th>signup_app</th>\n",
       "      <th>first_device_type</th>\n",
       "      <th>first_browser</th>\n",
       "      <th>country_destination</th>\n",
       "      <th>account_created_month</th>\n",
       "    </tr>\n",
       "  </thead>\n",
       "  <tbody>\n",
       "    <tr>\n",
       "      <th>153649</th>\n",
       "      <td>q9pfrw6si7</td>\n",
       "      <td>2014-02-17</td>\n",
       "      <td>20140217005503</td>\n",
       "      <td>FEMALE</td>\n",
       "      <td>27.0</td>\n",
       "      <td>basic</td>\n",
       "      <td>0</td>\n",
       "      <td>en</td>\n",
       "      <td>direct</td>\n",
       "      <td>direct</td>\n",
       "      <td>untracked</td>\n",
       "      <td>Web</td>\n",
       "      <td>Windows Desktop</td>\n",
       "      <td>Firefox</td>\n",
       "      <td>ES</td>\n",
       "      <td>2</td>\n",
       "    </tr>\n",
       "    <tr>\n",
       "      <th>161993</th>\n",
       "      <td>9bzevnmq4v</td>\n",
       "      <td>2014-03-11</td>\n",
       "      <td>20140311181449</td>\n",
       "      <td>-unknown-</td>\n",
       "      <td>NaN</td>\n",
       "      <td>basic</td>\n",
       "      <td>0</td>\n",
       "      <td>en</td>\n",
       "      <td>direct</td>\n",
       "      <td>direct</td>\n",
       "      <td>untracked</td>\n",
       "      <td>Web</td>\n",
       "      <td>Mac Desktop</td>\n",
       "      <td>Chrome</td>\n",
       "      <td>NDF</td>\n",
       "      <td>3</td>\n",
       "    </tr>\n",
       "    <tr>\n",
       "      <th>81536</th>\n",
       "      <td>kux37wpcfo</td>\n",
       "      <td>2013-06-04</td>\n",
       "      <td>20130604060604</td>\n",
       "      <td>MALE</td>\n",
       "      <td>52.0</td>\n",
       "      <td>facebook</td>\n",
       "      <td>0</td>\n",
       "      <td>en</td>\n",
       "      <td>direct</td>\n",
       "      <td>direct</td>\n",
       "      <td>untracked</td>\n",
       "      <td>Web</td>\n",
       "      <td>Mac Desktop</td>\n",
       "      <td>Safari</td>\n",
       "      <td>NDF</td>\n",
       "      <td>6</td>\n",
       "    </tr>\n",
       "    <tr>\n",
       "      <th>36756</th>\n",
       "      <td>qqnj6ohayo</td>\n",
       "      <td>2012-08-16</td>\n",
       "      <td>20120816172708</td>\n",
       "      <td>FEMALE</td>\n",
       "      <td>45.0</td>\n",
       "      <td>facebook</td>\n",
       "      <td>0</td>\n",
       "      <td>en</td>\n",
       "      <td>direct</td>\n",
       "      <td>direct</td>\n",
       "      <td>untracked</td>\n",
       "      <td>Web</td>\n",
       "      <td>Mac Desktop</td>\n",
       "      <td>Safari</td>\n",
       "      <td>NDF</td>\n",
       "      <td>8</td>\n",
       "    </tr>\n",
       "    <tr>\n",
       "      <th>74429</th>\n",
       "      <td>nw97iy2dzi</td>\n",
       "      <td>2013-05-02</td>\n",
       "      <td>20130502074337</td>\n",
       "      <td>FEMALE</td>\n",
       "      <td>35.0</td>\n",
       "      <td>facebook</td>\n",
       "      <td>0</td>\n",
       "      <td>en</td>\n",
       "      <td>direct</td>\n",
       "      <td>direct</td>\n",
       "      <td>linked</td>\n",
       "      <td>Web</td>\n",
       "      <td>Mac Desktop</td>\n",
       "      <td>Firefox</td>\n",
       "      <td>FR</td>\n",
       "      <td>5</td>\n",
       "    </tr>\n",
       "  </tbody>\n",
       "</table>\n",
       "</div>"
      ],
      "text/plain": [
       "                id date_account_created  timestamp_first_active     gender  \\\n",
       "153649  q9pfrw6si7           2014-02-17          20140217005503     FEMALE   \n",
       "161993  9bzevnmq4v           2014-03-11          20140311181449  -unknown-   \n",
       "81536   kux37wpcfo           2013-06-04          20130604060604       MALE   \n",
       "36756   qqnj6ohayo           2012-08-16          20120816172708     FEMALE   \n",
       "74429   nw97iy2dzi           2013-05-02          20130502074337     FEMALE   \n",
       "\n",
       "         age signup_method  signup_flow language affiliate_channel  \\\n",
       "153649  27.0         basic            0       en            direct   \n",
       "161993   NaN         basic            0       en            direct   \n",
       "81536   52.0      facebook            0       en            direct   \n",
       "36756   45.0      facebook            0       en            direct   \n",
       "74429   35.0      facebook            0       en            direct   \n",
       "\n",
       "       affiliate_provider first_affiliate_tracked signup_app  \\\n",
       "153649             direct               untracked        Web   \n",
       "161993             direct               untracked        Web   \n",
       "81536              direct               untracked        Web   \n",
       "36756              direct               untracked        Web   \n",
       "74429              direct                  linked        Web   \n",
       "\n",
       "       first_device_type first_browser country_destination  \\\n",
       "153649   Windows Desktop       Firefox                  ES   \n",
       "161993       Mac Desktop        Chrome                 NDF   \n",
       "81536        Mac Desktop        Safari                 NDF   \n",
       "36756        Mac Desktop        Safari                 NDF   \n",
       "74429        Mac Desktop       Firefox                  FR   \n",
       "\n",
       "        account_created_month  \n",
       "153649                      2  \n",
       "161993                      3  \n",
       "81536                       6  \n",
       "36756                       8  \n",
       "74429                       5  "
      ]
     },
     "execution_count": 32,
     "metadata": {},
     "output_type": "execute_result"
    }
   ],
   "source": [
    "val_users.head()"
   ]
  },
  {
   "cell_type": "markdown",
   "metadata": {},
   "source": [
    "*Writing a function to preprocess timestamp_first_active field to extract the month.*"
   ]
  },
  {
   "cell_type": "code",
   "execution_count": 33,
   "metadata": {},
   "outputs": [],
   "source": [
    "def first_active_month(s):\n",
    "    a = str(s)\n",
    "    b = a[4:6]\n",
    "    return int(b)\n",
    "\n",
    "train_users[\"first_active_month\"] = train_users[\"timestamp_first_active\"].apply(first_active_month)"
   ]
  },
  {
   "cell_type": "code",
   "execution_count": 34,
   "metadata": {},
   "outputs": [
    {
     "data": {
      "text/html": [
       "<div>\n",
       "<style scoped>\n",
       "    .dataframe tbody tr th:only-of-type {\n",
       "        vertical-align: middle;\n",
       "    }\n",
       "\n",
       "    .dataframe tbody tr th {\n",
       "        vertical-align: top;\n",
       "    }\n",
       "\n",
       "    .dataframe thead th {\n",
       "        text-align: right;\n",
       "    }\n",
       "</style>\n",
       "<table border=\"1\" class=\"dataframe\">\n",
       "  <thead>\n",
       "    <tr style=\"text-align: right;\">\n",
       "      <th></th>\n",
       "      <th>id</th>\n",
       "      <th>date_account_created</th>\n",
       "      <th>timestamp_first_active</th>\n",
       "      <th>gender</th>\n",
       "      <th>age</th>\n",
       "      <th>signup_method</th>\n",
       "      <th>signup_flow</th>\n",
       "      <th>language</th>\n",
       "      <th>affiliate_channel</th>\n",
       "      <th>affiliate_provider</th>\n",
       "      <th>first_affiliate_tracked</th>\n",
       "      <th>signup_app</th>\n",
       "      <th>first_device_type</th>\n",
       "      <th>first_browser</th>\n",
       "      <th>country_destination</th>\n",
       "      <th>account_created_month</th>\n",
       "      <th>first_active_month</th>\n",
       "    </tr>\n",
       "  </thead>\n",
       "  <tbody>\n",
       "    <tr>\n",
       "      <th>139642</th>\n",
       "      <td>85nv87tbl4</td>\n",
       "      <td>2014-01-09</td>\n",
       "      <td>20140109051501</td>\n",
       "      <td>MALE</td>\n",
       "      <td>31.0</td>\n",
       "      <td>basic</td>\n",
       "      <td>0</td>\n",
       "      <td>en</td>\n",
       "      <td>direct</td>\n",
       "      <td>direct</td>\n",
       "      <td>untracked</td>\n",
       "      <td>Web</td>\n",
       "      <td>Mac Desktop</td>\n",
       "      <td>Chrome</td>\n",
       "      <td>US</td>\n",
       "      <td>1</td>\n",
       "      <td>1</td>\n",
       "    </tr>\n",
       "    <tr>\n",
       "      <th>519</th>\n",
       "      <td>svwo8gsij4</td>\n",
       "      <td>2010-05-04</td>\n",
       "      <td>20100504044853</td>\n",
       "      <td>FEMALE</td>\n",
       "      <td>37.0</td>\n",
       "      <td>basic</td>\n",
       "      <td>3</td>\n",
       "      <td>en</td>\n",
       "      <td>direct</td>\n",
       "      <td>direct</td>\n",
       "      <td>linked</td>\n",
       "      <td>Web</td>\n",
       "      <td>Mac Desktop</td>\n",
       "      <td>Chrome</td>\n",
       "      <td>US</td>\n",
       "      <td>5</td>\n",
       "      <td>5</td>\n",
       "    </tr>\n",
       "    <tr>\n",
       "      <th>120664</th>\n",
       "      <td>35ja03ym7f</td>\n",
       "      <td>2013-10-30</td>\n",
       "      <td>20131030215606</td>\n",
       "      <td>-unknown-</td>\n",
       "      <td>NaN</td>\n",
       "      <td>basic</td>\n",
       "      <td>0</td>\n",
       "      <td>en</td>\n",
       "      <td>direct</td>\n",
       "      <td>direct</td>\n",
       "      <td>untracked</td>\n",
       "      <td>Web</td>\n",
       "      <td>Mac Desktop</td>\n",
       "      <td>Chrome</td>\n",
       "      <td>NDF</td>\n",
       "      <td>10</td>\n",
       "      <td>10</td>\n",
       "    </tr>\n",
       "    <tr>\n",
       "      <th>84733</th>\n",
       "      <td>ograyifw83</td>\n",
       "      <td>2013-06-18</td>\n",
       "      <td>20130618071048</td>\n",
       "      <td>-unknown-</td>\n",
       "      <td>NaN</td>\n",
       "      <td>basic</td>\n",
       "      <td>0</td>\n",
       "      <td>en</td>\n",
       "      <td>sem-brand</td>\n",
       "      <td>google</td>\n",
       "      <td>omg</td>\n",
       "      <td>Web</td>\n",
       "      <td>Windows Desktop</td>\n",
       "      <td>Chrome</td>\n",
       "      <td>NDF</td>\n",
       "      <td>6</td>\n",
       "      <td>6</td>\n",
       "    </tr>\n",
       "    <tr>\n",
       "      <th>183255</th>\n",
       "      <td>a8tr2x328d</td>\n",
       "      <td>2014-05-01</td>\n",
       "      <td>20140501211431</td>\n",
       "      <td>FEMALE</td>\n",
       "      <td>28.0</td>\n",
       "      <td>basic</td>\n",
       "      <td>0</td>\n",
       "      <td>en</td>\n",
       "      <td>sem-brand</td>\n",
       "      <td>google</td>\n",
       "      <td>untracked</td>\n",
       "      <td>Web</td>\n",
       "      <td>Mac Desktop</td>\n",
       "      <td>Chrome</td>\n",
       "      <td>US</td>\n",
       "      <td>5</td>\n",
       "      <td>5</td>\n",
       "    </tr>\n",
       "  </tbody>\n",
       "</table>\n",
       "</div>"
      ],
      "text/plain": [
       "                id date_account_created  timestamp_first_active     gender  \\\n",
       "139642  85nv87tbl4           2014-01-09          20140109051501       MALE   \n",
       "519     svwo8gsij4           2010-05-04          20100504044853     FEMALE   \n",
       "120664  35ja03ym7f           2013-10-30          20131030215606  -unknown-   \n",
       "84733   ograyifw83           2013-06-18          20130618071048  -unknown-   \n",
       "183255  a8tr2x328d           2014-05-01          20140501211431     FEMALE   \n",
       "\n",
       "         age signup_method  signup_flow language affiliate_channel  \\\n",
       "139642  31.0         basic            0       en            direct   \n",
       "519     37.0         basic            3       en            direct   \n",
       "120664   NaN         basic            0       en            direct   \n",
       "84733    NaN         basic            0       en         sem-brand   \n",
       "183255  28.0         basic            0       en         sem-brand   \n",
       "\n",
       "       affiliate_provider first_affiliate_tracked signup_app  \\\n",
       "139642             direct               untracked        Web   \n",
       "519                direct                  linked        Web   \n",
       "120664             direct               untracked        Web   \n",
       "84733              google                     omg        Web   \n",
       "183255             google               untracked        Web   \n",
       "\n",
       "       first_device_type first_browser country_destination  \\\n",
       "139642       Mac Desktop        Chrome                  US   \n",
       "519          Mac Desktop        Chrome                  US   \n",
       "120664       Mac Desktop        Chrome                 NDF   \n",
       "84733    Windows Desktop        Chrome                 NDF   \n",
       "183255       Mac Desktop        Chrome                  US   \n",
       "\n",
       "        account_created_month  first_active_month  \n",
       "139642                      1                   1  \n",
       "519                         5                   5  \n",
       "120664                     10                  10  \n",
       "84733                       6                   6  \n",
       "183255                      5                   5  "
      ]
     },
     "execution_count": 34,
     "metadata": {},
     "output_type": "execute_result"
    }
   ],
   "source": [
    "train_users.head()"
   ]
  },
  {
   "cell_type": "code",
   "execution_count": 35,
   "metadata": {},
   "outputs": [
    {
     "data": {
      "text/plain": [
       "<Axes: ylabel='count'>"
      ]
     },
     "execution_count": 35,
     "metadata": {},
     "output_type": "execute_result"
    },
    {
     "data": {
      "image/png": "[encoded data removed]",
      "text/plain": [
       "<Figure size 640x480 with 1 Axes>"
      ]
     },
     "metadata": {},
     "output_type": "display_data"
    }
   ],
   "source": [
    "sns.countplot(train_users[\"first_active_month\"])"
   ]
  },
  {
   "cell_type": "markdown",
   "metadata": {},
   "source": [
    "*The graph of first active month is similar to that of the time the account was ceated showing that users have tried to search for options as soon as they have registered.*"
   ]
  },
  {
   "cell_type": "code",
   "execution_count": 36,
   "metadata": {},
   "outputs": [],
   "source": [
    "val_users[\"first_active_month\"] = val_users[\"timestamp_first_active\"].apply(first_active_month)"
   ]
  },
  {
   "cell_type": "code",
   "execution_count": 37,
   "metadata": {},
   "outputs": [
    {
     "data": {
      "text/html": [
       "<div>\n",
       "<style scoped>\n",
       "    .dataframe tbody tr th:only-of-type {\n",
       "        vertical-align: middle;\n",
       "    }\n",
       "\n",
       "    .dataframe tbody tr th {\n",
       "        vertical-align: top;\n",
       "    }\n",
       "\n",
       "    .dataframe thead th {\n",
       "        text-align: right;\n",
       "    }\n",
       "</style>\n",
       "<table border=\"1\" class=\"dataframe\">\n",
       "  <thead>\n",
       "    <tr style=\"text-align: right;\">\n",
       "      <th></th>\n",
       "      <th>id</th>\n",
       "      <th>date_account_created</th>\n",
       "      <th>timestamp_first_active</th>\n",
       "      <th>gender</th>\n",
       "      <th>age</th>\n",
       "      <th>signup_method</th>\n",
       "      <th>signup_flow</th>\n",
       "      <th>language</th>\n",
       "      <th>affiliate_channel</th>\n",
       "      <th>affiliate_provider</th>\n",
       "      <th>first_affiliate_tracked</th>\n",
       "      <th>signup_app</th>\n",
       "      <th>first_device_type</th>\n",
       "      <th>first_browser</th>\n",
       "      <th>country_destination</th>\n",
       "      <th>account_created_month</th>\n",
       "      <th>first_active_month</th>\n",
       "    </tr>\n",
       "  </thead>\n",
       "  <tbody>\n",
       "    <tr>\n",
       "      <th>153649</th>\n",
       "      <td>q9pfrw6si7</td>\n",
       "      <td>2014-02-17</td>\n",
       "      <td>20140217005503</td>\n",
       "      <td>FEMALE</td>\n",
       "      <td>27.0</td>\n",
       "      <td>basic</td>\n",
       "      <td>0</td>\n",
       "      <td>en</td>\n",
       "      <td>direct</td>\n",
       "      <td>direct</td>\n",
       "      <td>untracked</td>\n",
       "      <td>Web</td>\n",
       "      <td>Windows Desktop</td>\n",
       "      <td>Firefox</td>\n",
       "      <td>ES</td>\n",
       "      <td>2</td>\n",
       "      <td>2</td>\n",
       "    </tr>\n",
       "    <tr>\n",
       "      <th>161993</th>\n",
       "      <td>9bzevnmq4v</td>\n",
       "      <td>2014-03-11</td>\n",
       "      <td>20140311181449</td>\n",
       "      <td>-unknown-</td>\n",
       "      <td>NaN</td>\n",
       "      <td>basic</td>\n",
       "      <td>0</td>\n",
       "      <td>en</td>\n",
       "      <td>direct</td>\n",
       "      <td>direct</td>\n",
       "      <td>untracked</td>\n",
       "      <td>Web</td>\n",
       "      <td>Mac Desktop</td>\n",
       "      <td>Chrome</td>\n",
       "      <td>NDF</td>\n",
       "      <td>3</td>\n",
       "      <td>3</td>\n",
       "    </tr>\n",
       "    <tr>\n",
       "      <th>81536</th>\n",
       "      <td>kux37wpcfo</td>\n",
       "      <td>2013-06-04</td>\n",
       "      <td>20130604060604</td>\n",
       "      <td>MALE</td>\n",
       "      <td>52.0</td>\n",
       "      <td>facebook</td>\n",
       "      <td>0</td>\n",
       "      <td>en</td>\n",
       "      <td>direct</td>\n",
       "      <td>direct</td>\n",
       "      <td>untracked</td>\n",
       "      <td>Web</td>\n",
       "      <td>Mac Desktop</td>\n",
       "      <td>Safari</td>\n",
       "      <td>NDF</td>\n",
       "      <td>6</td>\n",
       "      <td>6</td>\n",
       "    </tr>\n",
       "    <tr>\n",
       "      <th>36756</th>\n",
       "      <td>qqnj6ohayo</td>\n",
       "      <td>2012-08-16</td>\n",
       "      <td>20120816172708</td>\n",
       "      <td>FEMALE</td>\n",
       "      <td>45.0</td>\n",
       "      <td>facebook</td>\n",
       "      <td>0</td>\n",
       "      <td>en</td>\n",
       "      <td>direct</td>\n",
       "      <td>direct</td>\n",
       "      <td>untracked</td>\n",
       "      <td>Web</td>\n",
       "      <td>Mac Desktop</td>\n",
       "      <td>Safari</td>\n",
       "      <td>NDF</td>\n",
       "      <td>8</td>\n",
       "      <td>8</td>\n",
       "    </tr>\n",
       "    <tr>\n",
       "      <th>74429</th>\n",
       "      <td>nw97iy2dzi</td>\n",
       "      <td>2013-05-02</td>\n",
       "      <td>20130502074337</td>\n",
       "      <td>FEMALE</td>\n",
       "      <td>35.0</td>\n",
       "      <td>facebook</td>\n",
       "      <td>0</td>\n",
       "      <td>en</td>\n",
       "      <td>direct</td>\n",
       "      <td>direct</td>\n",
       "      <td>linked</td>\n",
       "      <td>Web</td>\n",
       "      <td>Mac Desktop</td>\n",
       "      <td>Firefox</td>\n",
       "      <td>FR</td>\n",
       "      <td>5</td>\n",
       "      <td>5</td>\n",
       "    </tr>\n",
       "  </tbody>\n",
       "</table>\n",
       "</div>"
      ],
      "text/plain": [
       "                id date_account_created  timestamp_first_active     gender  \\\n",
       "153649  q9pfrw6si7           2014-02-17          20140217005503     FEMALE   \n",
       "161993  9bzevnmq4v           2014-03-11          20140311181449  -unknown-   \n",
       "81536   kux37wpcfo           2013-06-04          20130604060604       MALE   \n",
       "36756   qqnj6ohayo           2012-08-16          20120816172708     FEMALE   \n",
       "74429   nw97iy2dzi           2013-05-02          20130502074337     FEMALE   \n",
       "\n",
       "         age signup_method  signup_flow language affiliate_channel  \\\n",
       "153649  27.0         basic            0       en            direct   \n",
       "161993   NaN         basic            0       en            direct   \n",
       "81536   52.0      facebook            0       en            direct   \n",
       "36756   45.0      facebook            0       en            direct   \n",
       "74429   35.0      facebook            0       en            direct   \n",
       "\n",
       "       affiliate_provider first_affiliate_tracked signup_app  \\\n",
       "153649             direct               untracked        Web   \n",
       "161993             direct               untracked        Web   \n",
       "81536              direct               untracked        Web   \n",
       "36756              direct               untracked        Web   \n",
       "74429              direct                  linked        Web   \n",
       "\n",
       "       first_device_type first_browser country_destination  \\\n",
       "153649   Windows Desktop       Firefox                  ES   \n",
       "161993       Mac Desktop        Chrome                 NDF   \n",
       "81536        Mac Desktop        Safari                 NDF   \n",
       "36756        Mac Desktop        Safari                 NDF   \n",
       "74429        Mac Desktop       Firefox                  FR   \n",
       "\n",
       "        account_created_month  first_active_month  \n",
       "153649                      2                   2  \n",
       "161993                      3                   3  \n",
       "81536                       6                   6  \n",
       "36756                       8                   8  \n",
       "74429                       5                   5  "
      ]
     },
     "execution_count": 37,
     "metadata": {},
     "output_type": "execute_result"
    }
   ],
   "source": [
    "val_users.head()"
   ]
  },
  {
   "cell_type": "code",
   "execution_count": 38,
   "metadata": {},
   "outputs": [],
   "source": [
    "train_users.drop(\"date_account_created\", axis = 1, inplace = True)\n",
    "val_users.drop(\"date_account_created\", axis = 1, inplace = True)\n",
    "train_users.drop(\"timestamp_first_active\", axis = 1, inplace = True)\n",
    "val_users.drop(\"timestamp_first_active\", axis = 1, inplace = True)"
   ]
  },
  {
   "cell_type": "code",
   "execution_count": 39,
   "metadata": {},
   "outputs": [
    {
     "data": {
      "text/plain": [
       "gender\n",
       "-unknown-    76554\n",
       "FEMALE       50411\n",
       "MALE         43574\n",
       "OTHER          221\n",
       "Name: count, dtype: int64"
      ]
     },
     "execution_count": 39,
     "metadata": {},
     "output_type": "execute_result"
    }
   ],
   "source": [
    "train_users[\"gender\"].value_counts()"
   ]
  },
  {
   "cell_type": "code",
   "execution_count": null,
   "metadata": {},
   "outputs": [],
   "source": [
    "sns.countplot(train_users[\"gender\"])"
   ]
  },
  {
   "cell_type": "code",
   "execution_count": null,
   "metadata": {},
   "outputs": [],
   "source": [
    "sns.countplot(train_users[\"gender\"] , hue = train_users[\"country_destination\"])\n",
    "sns.set(rc={'figure.figsize':(20,10)})"
   ]
  },
  {
   "cell_type": "markdown",
   "metadata": {},
   "source": [
    "*There are records with entry -unknown-.Sincethe percentage of records with this entry is very high, I would not like to delete it.*"
   ]
  },
  {
   "cell_type": "markdown",
   "metadata": {},
   "source": [
    "*One hot encoding the gender field, I prefer OHE over label encoding since label encoding introduces ordinality which does not make sense for the exapmles shown below.*"
   ]
  },
  {
   "cell_type": "code",
   "execution_count": 40,
   "metadata": {},
   "outputs": [],
   "source": [
    "ohe_gender = pd.get_dummies(train_users[\"gender\"]) \n",
    "train_users = pd.concat([train_users,ohe_gender],axis = 1) "
   ]
  },
  {
   "cell_type": "code",
   "execution_count": 41,
   "metadata": {},
   "outputs": [],
   "source": [
    "train_users.rename({'-unknown-':'Gender_Unknown','FEMALE':'Gender_Female','MALE':'Gender_Male','OTHER':'Gender_Other'},axis = 1, inplace = True)"
   ]
  },
  {
   "cell_type": "markdown",
   "metadata": {},
   "source": [
    "*Also after performing one hot encoding on variable, the variable can be dropped since we will have the new one hot encoded fields* "
   ]
  },
  {
   "cell_type": "code",
   "execution_count": 42,
   "metadata": {},
   "outputs": [],
   "source": [
    "train_users.drop(\"gender\", axis = 1, inplace = True)"
   ]
  },
  {
   "cell_type": "code",
   "execution_count": 43,
   "metadata": {},
   "outputs": [],
   "source": [
    "ohe_gender = pd.get_dummies(val_users[\"gender\"]) \n",
    "val_users = pd.concat([val_users,ohe_gender],axis = 1) \n",
    "\n",
    "val_users.rename({'-unknown-':'Gender_Unknown','FEMALE':'Gender_Female','MALE':'Gender_Male','OTHER':'Gender_Other'},axis = 1, inplace = True)\n",
    "\n",
    "val_users.drop(\"gender\", axis = 1, inplace = True)"
   ]
  },
  {
   "cell_type": "code",
   "execution_count": 44,
   "metadata": {},
   "outputs": [
    {
     "data": {
      "text/html": [
       "<div>\n",
       "<style scoped>\n",
       "    .dataframe tbody tr th:only-of-type {\n",
       "        vertical-align: middle;\n",
       "    }\n",
       "\n",
       "    .dataframe tbody tr th {\n",
       "        vertical-align: top;\n",
       "    }\n",
       "\n",
       "    .dataframe thead th {\n",
       "        text-align: right;\n",
       "    }\n",
       "</style>\n",
       "<table border=\"1\" class=\"dataframe\">\n",
       "  <thead>\n",
       "    <tr style=\"text-align: right;\">\n",
       "      <th></th>\n",
       "      <th>id</th>\n",
       "      <th>age</th>\n",
       "      <th>signup_method</th>\n",
       "      <th>signup_flow</th>\n",
       "      <th>language</th>\n",
       "      <th>affiliate_channel</th>\n",
       "      <th>affiliate_provider</th>\n",
       "      <th>first_affiliate_tracked</th>\n",
       "      <th>signup_app</th>\n",
       "      <th>first_device_type</th>\n",
       "      <th>first_browser</th>\n",
       "      <th>country_destination</th>\n",
       "      <th>account_created_month</th>\n",
       "      <th>first_active_month</th>\n",
       "      <th>Gender_Unknown</th>\n",
       "      <th>Gender_Female</th>\n",
       "      <th>Gender_Male</th>\n",
       "      <th>Gender_Other</th>\n",
       "    </tr>\n",
       "  </thead>\n",
       "  <tbody>\n",
       "    <tr>\n",
       "      <th>139642</th>\n",
       "      <td>85nv87tbl4</td>\n",
       "      <td>31.0</td>\n",
       "      <td>basic</td>\n",
       "      <td>0</td>\n",
       "      <td>en</td>\n",
       "      <td>direct</td>\n",
       "      <td>direct</td>\n",
       "      <td>untracked</td>\n",
       "      <td>Web</td>\n",
       "      <td>Mac Desktop</td>\n",
       "      <td>Chrome</td>\n",
       "      <td>US</td>\n",
       "      <td>1</td>\n",
       "      <td>1</td>\n",
       "      <td>False</td>\n",
       "      <td>False</td>\n",
       "      <td>True</td>\n",
       "      <td>False</td>\n",
       "    </tr>\n",
       "    <tr>\n",
       "      <th>519</th>\n",
       "      <td>svwo8gsij4</td>\n",
       "      <td>37.0</td>\n",
       "      <td>basic</td>\n",
       "      <td>3</td>\n",
       "      <td>en</td>\n",
       "      <td>direct</td>\n",
       "      <td>direct</td>\n",
       "      <td>linked</td>\n",
       "      <td>Web</td>\n",
       "      <td>Mac Desktop</td>\n",
       "      <td>Chrome</td>\n",
       "      <td>US</td>\n",
       "      <td>5</td>\n",
       "      <td>5</td>\n",
       "      <td>False</td>\n",
       "      <td>True</td>\n",
       "      <td>False</td>\n",
       "      <td>False</td>\n",
       "    </tr>\n",
       "    <tr>\n",
       "      <th>120664</th>\n",
       "      <td>35ja03ym7f</td>\n",
       "      <td>NaN</td>\n",
       "      <td>basic</td>\n",
       "      <td>0</td>\n",
       "      <td>en</td>\n",
       "      <td>direct</td>\n",
       "      <td>direct</td>\n",
       "      <td>untracked</td>\n",
       "      <td>Web</td>\n",
       "      <td>Mac Desktop</td>\n",
       "      <td>Chrome</td>\n",
       "      <td>NDF</td>\n",
       "      <td>10</td>\n",
       "      <td>10</td>\n",
       "      <td>True</td>\n",
       "      <td>False</td>\n",
       "      <td>False</td>\n",
       "      <td>False</td>\n",
       "    </tr>\n",
       "    <tr>\n",
       "      <th>84733</th>\n",
       "      <td>ograyifw83</td>\n",
       "      <td>NaN</td>\n",
       "      <td>basic</td>\n",
       "      <td>0</td>\n",
       "      <td>en</td>\n",
       "      <td>sem-brand</td>\n",
       "      <td>google</td>\n",
       "      <td>omg</td>\n",
       "      <td>Web</td>\n",
       "      <td>Windows Desktop</td>\n",
       "      <td>Chrome</td>\n",
       "      <td>NDF</td>\n",
       "      <td>6</td>\n",
       "      <td>6</td>\n",
       "      <td>True</td>\n",
       "      <td>False</td>\n",
       "      <td>False</td>\n",
       "      <td>False</td>\n",
       "    </tr>\n",
       "    <tr>\n",
       "      <th>183255</th>\n",
       "      <td>a8tr2x328d</td>\n",
       "      <td>28.0</td>\n",
       "      <td>basic</td>\n",
       "      <td>0</td>\n",
       "      <td>en</td>\n",
       "      <td>sem-brand</td>\n",
       "      <td>google</td>\n",
       "      <td>untracked</td>\n",
       "      <td>Web</td>\n",
       "      <td>Mac Desktop</td>\n",
       "      <td>Chrome</td>\n",
       "      <td>US</td>\n",
       "      <td>5</td>\n",
       "      <td>5</td>\n",
       "      <td>False</td>\n",
       "      <td>True</td>\n",
       "      <td>False</td>\n",
       "      <td>False</td>\n",
       "    </tr>\n",
       "  </tbody>\n",
       "</table>\n",
       "</div>"
      ],
      "text/plain": [
       "                id   age signup_method  signup_flow language  \\\n",
       "139642  85nv87tbl4  31.0         basic            0       en   \n",
       "519     svwo8gsij4  37.0         basic            3       en   \n",
       "120664  35ja03ym7f   NaN         basic            0       en   \n",
       "84733   ograyifw83   NaN         basic            0       en   \n",
       "183255  a8tr2x328d  28.0         basic            0       en   \n",
       "\n",
       "       affiliate_channel affiliate_provider first_affiliate_tracked  \\\n",
       "139642            direct             direct               untracked   \n",
       "519               direct             direct                  linked   \n",
       "120664            direct             direct               untracked   \n",
       "84733          sem-brand             google                     omg   \n",
       "183255         sem-brand             google               untracked   \n",
       "\n",
       "       signup_app first_device_type first_browser country_destination  \\\n",
       "139642        Web       Mac Desktop        Chrome                  US   \n",
       "519           Web       Mac Desktop        Chrome                  US   \n",
       "120664        Web       Mac Desktop        Chrome                 NDF   \n",
       "84733         Web   Windows Desktop        Chrome                 NDF   \n",
       "183255        Web       Mac Desktop        Chrome                  US   \n",
       "\n",
       "        account_created_month  first_active_month  Gender_Unknown  \\\n",
       "139642                      1                   1           False   \n",
       "519                         5                   5           False   \n",
       "120664                     10                  10            True   \n",
       "84733                       6                   6            True   \n",
       "183255                      5                   5           False   \n",
       "\n",
       "        Gender_Female  Gender_Male  Gender_Other  \n",
       "139642          False         True         False  \n",
       "519              True        False         False  \n",
       "120664          False        False         False  \n",
       "84733           False        False         False  \n",
       "183255           True        False         False  "
      ]
     },
     "execution_count": 44,
     "metadata": {},
     "output_type": "execute_result"
    }
   ],
   "source": [
    "train_users.head()"
   ]
  },
  {
   "cell_type": "markdown",
   "metadata": {},
   "source": [
    "*Dealing with age column.*"
   ]
  },
  {
   "cell_type": "code",
   "execution_count": 45,
   "metadata": {},
   "outputs": [
    {
     "data": {
      "text/plain": [
       "<Axes: >"
      ]
     },
     "execution_count": 45,
     "metadata": {},
     "output_type": "execute_result"
    },
    {
     "data": {
      "image/png": "[encoded data removed]",
      "text/plain": [
       "<Figure size 640x480 with 1 Axes>"
      ]
     },
     "metadata": {},
     "output_type": "display_data"
    }
   ],
   "source": [
    "sns.boxplot(train_users[\"age\"])"
   ]
  },
  {
   "cell_type": "code",
   "execution_count": 46,
   "metadata": {},
   "outputs": [
    {
     "data": {
      "text/plain": [
       "<Axes: xlabel='age', ylabel='Count'>"
      ]
     },
     "execution_count": 46,
     "metadata": {},
     "output_type": "execute_result"
    },
    {
     "data": {
      "image/png": "[encoded data removed]",
      "text/plain": [
       "<Figure size 640x480 with 1 Axes>"
      ]
     },
     "metadata": {},
     "output_type": "display_data"
    }
   ],
   "source": [
    "sns.histplot(train_users[\"age\"])"
   ]
  },
  {
   "cell_type": "markdown",
   "metadata": {},
   "source": [
    "*Now, after analysing the data, I have noted that there are customers who have entered the year of birth instead of the age. So I will also include values greater than 1920 and later sybtract by 2015 to get the age.*"
   ]
  },
  {
   "cell_type": "code",
   "execution_count": 47,
   "metadata": {},
   "outputs": [],
   "source": [
    "train_users = train_users[(train_users[\"age\"]>1920) | (train_users[\"age\"]<100) | train_users[\"age\"].isna()]"
   ]
  },
  {
   "cell_type": "code",
   "execution_count": 48,
   "metadata": {},
   "outputs": [],
   "source": [
    "val_users = val_users[(val_users[\"age\"]>1920) | (val_users[\"age\"]<100) | val_users[\"age\"].isna()]"
   ]
  },
  {
   "cell_type": "code",
   "execution_count": 49,
   "metadata": {},
   "outputs": [
    {
     "data": {
      "text/plain": [
       "(169497, 18)"
      ]
     },
     "execution_count": 49,
     "metadata": {},
     "output_type": "execute_result"
    }
   ],
   "source": [
    "train_users.shape"
   ]
  },
  {
   "cell_type": "code",
   "execution_count": 50,
   "metadata": {},
   "outputs": [
    {
     "data": {
      "text/plain": [
       "(42362, 18)"
      ]
     },
     "execution_count": 50,
     "metadata": {},
     "output_type": "execute_result"
    }
   ],
   "source": [
    "val_users.shape"
   ]
  },
  {
   "cell_type": "code",
   "execution_count": 51,
   "metadata": {},
   "outputs": [],
   "source": [
    "def current_age(a):\n",
    "    \n",
    "    if(a >= 1920):\n",
    "        return 2015 - a\n",
    "    else:\n",
    "        return a"
   ]
  },
  {
   "cell_type": "code",
   "execution_count": 52,
   "metadata": {},
   "outputs": [],
   "source": [
    "train_users[\"age\"] = train_users[\"age\"].apply(current_age)"
   ]
  },
  {
   "cell_type": "code",
   "execution_count": 53,
   "metadata": {},
   "outputs": [],
   "source": [
    "val_users[\"age\"] = val_users[\"age\"].apply(current_age)"
   ]
  },
  {
   "cell_type": "code",
   "execution_count": 54,
   "metadata": {},
   "outputs": [],
   "source": [
    "train_users[\"age\"] = train_users[\"age\"].fillna(train_users[\"age\"].median())"
   ]
  },
  {
   "cell_type": "code",
   "execution_count": 55,
   "metadata": {},
   "outputs": [],
   "source": [
    "val_users[\"age\"] = val_users[\"age\"].fillna(val_users[\"age\"].median())"
   ]
  },
  {
   "cell_type": "code",
   "execution_count": 56,
   "metadata": {},
   "outputs": [
    {
     "data": {
      "text/plain": [
       "<Axes: xlabel='age', ylabel='Density'>"
      ]
     },
     "execution_count": 56,
     "metadata": {},
     "output_type": "execute_result"
    },
    {
     "data": {
      "image/png": "[encoded data removed]",
      "text/plain": [
       "<Figure size 640x480 with 1 Axes>"
      ]
     },
     "metadata": {},
     "output_type": "display_data"
    }
   ],
   "source": [
    "sns.kdeplot(train_users[\"age\"])"
   ]
  },
  {
   "cell_type": "code",
   "execution_count": null,
   "metadata": {},
   "outputs": [],
   "source": [
    "sns.boxplot(train_users[\"country_destination\"] , train_users[\"age\"] )"
   ]
  },
  {
   "cell_type": "markdown",
   "metadata": {},
   "source": [
    "*looks like visitors travelling to spain and Portugal are young compared to other countries, in other words young travellers prefer to go to spain and portugal.*"
   ]
  },
  {
   "cell_type": "markdown",
   "metadata": {},
   "source": [
    "*The peak in the age field is due to the missing value imputation done where the null records were replaced by median values.*"
   ]
  },
  {
   "cell_type": "code",
   "execution_count": 57,
   "metadata": {},
   "outputs": [
    {
     "data": {
      "text/plain": [
       "signup_method\n",
       "basic       121264\n",
       "facebook     47786\n",
       "google         447\n",
       "Name: count, dtype: int64"
      ]
     },
     "execution_count": 57,
     "metadata": {},
     "output_type": "execute_result"
    }
   ],
   "source": [
    "train_users[\"signup_method\"].value_counts()"
   ]
  },
  {
   "cell_type": "code",
   "execution_count": null,
   "metadata": {},
   "outputs": [],
   "source": [
    "sns.countplot(train_users[\"signup_method\"])"
   ]
  },
  {
   "cell_type": "code",
   "execution_count": null,
   "metadata": {},
   "outputs": [],
   "source": [
    "sns.countplot(train_users[\"signup_method\"],hue = train_users[\"country_destination\"])"
   ]
  },
  {
   "cell_type": "markdown",
   "metadata": {},
   "source": [
    "*Performing OHE,renaming the columns and dropping the unecessary columns.*"
   ]
  },
  {
   "cell_type": "code",
   "execution_count": 58,
   "metadata": {},
   "outputs": [],
   "source": [
    "ohe_signup = pd.get_dummies(train_users[\"signup_method\"]) \n",
    "train_users = pd.concat([train_users,ohe_signup],axis = 1)  "
   ]
  },
  {
   "cell_type": "code",
   "execution_count": 59,
   "metadata": {},
   "outputs": [],
   "source": [
    "train_users.rename({'basic':'Signup_Basic','facebook':'Signup_Facebook','google':'Signup_Google'},axis = 1, inplace = True)"
   ]
  },
  {
   "cell_type": "code",
   "execution_count": 60,
   "metadata": {},
   "outputs": [],
   "source": [
    "train_users.drop(\"signup_method\", axis = 1, inplace = True)"
   ]
  },
  {
   "cell_type": "code",
   "execution_count": 61,
   "metadata": {},
   "outputs": [],
   "source": [
    "ohe_signup = pd.get_dummies(val_users[\"signup_method\"]) \n",
    "val_users = pd.concat([val_users,ohe_signup],axis = 1) \n",
    "\n",
    "val_users.rename({'basic':'Signup_Basic','facebook':'Signup_Facebook','google':'Signup_Google'},axis = 1, inplace = True)\n",
    "\n",
    "val_users.drop(\"signup_method\", axis = 1, inplace = True)"
   ]
  },
  {
   "cell_type": "code",
   "execution_count": 62,
   "metadata": {},
   "outputs": [
    {
     "data": {
      "text/plain": [
       "signup_flow\n",
       "0     130683\n",
       "25     11718\n",
       "12      7449\n",
       "3       7009\n",
       "2       5444\n",
       "24      3474\n",
       "23      2238\n",
       "1        828\n",
       "6        253\n",
       "8        189\n",
       "21       154\n",
       "5         29\n",
       "20        12\n",
       "16         8\n",
       "15         7\n",
       "10         1\n",
       "4          1\n",
       "Name: count, dtype: int64"
      ]
     },
     "execution_count": 62,
     "metadata": {},
     "output_type": "execute_result"
    }
   ],
   "source": [
    "train_users[\"signup_flow\"].value_counts()"
   ]
  },
  {
   "cell_type": "code",
   "execution_count": null,
   "metadata": {},
   "outputs": [],
   "source": [
    "sns.kdeplot(train_users[\"signup_flow\"])"
   ]
  },
  {
   "cell_type": "code",
   "execution_count": 63,
   "metadata": {},
   "outputs": [
    {
     "data": {
      "text/html": [
       "<div>\n",
       "<style scoped>\n",
       "    .dataframe tbody tr th:only-of-type {\n",
       "        vertical-align: middle;\n",
       "    }\n",
       "\n",
       "    .dataframe tbody tr th {\n",
       "        vertical-align: top;\n",
       "    }\n",
       "\n",
       "    .dataframe thead th {\n",
       "        text-align: right;\n",
       "    }\n",
       "</style>\n",
       "<table border=\"1\" class=\"dataframe\">\n",
       "  <thead>\n",
       "    <tr style=\"text-align: right;\">\n",
       "      <th></th>\n",
       "      <th>id</th>\n",
       "      <th>age</th>\n",
       "      <th>signup_flow</th>\n",
       "      <th>language</th>\n",
       "      <th>affiliate_channel</th>\n",
       "      <th>affiliate_provider</th>\n",
       "      <th>first_affiliate_tracked</th>\n",
       "      <th>signup_app</th>\n",
       "      <th>first_device_type</th>\n",
       "      <th>first_browser</th>\n",
       "      <th>country_destination</th>\n",
       "      <th>account_created_month</th>\n",
       "      <th>first_active_month</th>\n",
       "      <th>Gender_Unknown</th>\n",
       "      <th>Gender_Female</th>\n",
       "      <th>Gender_Male</th>\n",
       "      <th>Gender_Other</th>\n",
       "      <th>Signup_Basic</th>\n",
       "      <th>Signup_Facebook</th>\n",
       "      <th>Signup_Google</th>\n",
       "    </tr>\n",
       "  </thead>\n",
       "  <tbody>\n",
       "    <tr>\n",
       "      <th>139642</th>\n",
       "      <td>85nv87tbl4</td>\n",
       "      <td>31.0</td>\n",
       "      <td>0</td>\n",
       "      <td>en</td>\n",
       "      <td>direct</td>\n",
       "      <td>direct</td>\n",
       "      <td>untracked</td>\n",
       "      <td>Web</td>\n",
       "      <td>Mac Desktop</td>\n",
       "      <td>Chrome</td>\n",
       "      <td>US</td>\n",
       "      <td>1</td>\n",
       "      <td>1</td>\n",
       "      <td>False</td>\n",
       "      <td>False</td>\n",
       "      <td>True</td>\n",
       "      <td>False</td>\n",
       "      <td>True</td>\n",
       "      <td>False</td>\n",
       "      <td>False</td>\n",
       "    </tr>\n",
       "    <tr>\n",
       "      <th>519</th>\n",
       "      <td>svwo8gsij4</td>\n",
       "      <td>37.0</td>\n",
       "      <td>3</td>\n",
       "      <td>en</td>\n",
       "      <td>direct</td>\n",
       "      <td>direct</td>\n",
       "      <td>linked</td>\n",
       "      <td>Web</td>\n",
       "      <td>Mac Desktop</td>\n",
       "      <td>Chrome</td>\n",
       "      <td>US</td>\n",
       "      <td>5</td>\n",
       "      <td>5</td>\n",
       "      <td>False</td>\n",
       "      <td>True</td>\n",
       "      <td>False</td>\n",
       "      <td>False</td>\n",
       "      <td>True</td>\n",
       "      <td>False</td>\n",
       "      <td>False</td>\n",
       "    </tr>\n",
       "    <tr>\n",
       "      <th>120664</th>\n",
       "      <td>35ja03ym7f</td>\n",
       "      <td>33.0</td>\n",
       "      <td>0</td>\n",
       "      <td>en</td>\n",
       "      <td>direct</td>\n",
       "      <td>direct</td>\n",
       "      <td>untracked</td>\n",
       "      <td>Web</td>\n",
       "      <td>Mac Desktop</td>\n",
       "      <td>Chrome</td>\n",
       "      <td>NDF</td>\n",
       "      <td>10</td>\n",
       "      <td>10</td>\n",
       "      <td>True</td>\n",
       "      <td>False</td>\n",
       "      <td>False</td>\n",
       "      <td>False</td>\n",
       "      <td>True</td>\n",
       "      <td>False</td>\n",
       "      <td>False</td>\n",
       "    </tr>\n",
       "    <tr>\n",
       "      <th>84733</th>\n",
       "      <td>ograyifw83</td>\n",
       "      <td>33.0</td>\n",
       "      <td>0</td>\n",
       "      <td>en</td>\n",
       "      <td>sem-brand</td>\n",
       "      <td>google</td>\n",
       "      <td>omg</td>\n",
       "      <td>Web</td>\n",
       "      <td>Windows Desktop</td>\n",
       "      <td>Chrome</td>\n",
       "      <td>NDF</td>\n",
       "      <td>6</td>\n",
       "      <td>6</td>\n",
       "      <td>True</td>\n",
       "      <td>False</td>\n",
       "      <td>False</td>\n",
       "      <td>False</td>\n",
       "      <td>True</td>\n",
       "      <td>False</td>\n",
       "      <td>False</td>\n",
       "    </tr>\n",
       "    <tr>\n",
       "      <th>183255</th>\n",
       "      <td>a8tr2x328d</td>\n",
       "      <td>28.0</td>\n",
       "      <td>0</td>\n",
       "      <td>en</td>\n",
       "      <td>sem-brand</td>\n",
       "      <td>google</td>\n",
       "      <td>untracked</td>\n",
       "      <td>Web</td>\n",
       "      <td>Mac Desktop</td>\n",
       "      <td>Chrome</td>\n",
       "      <td>US</td>\n",
       "      <td>5</td>\n",
       "      <td>5</td>\n",
       "      <td>False</td>\n",
       "      <td>True</td>\n",
       "      <td>False</td>\n",
       "      <td>False</td>\n",
       "      <td>True</td>\n",
       "      <td>False</td>\n",
       "      <td>False</td>\n",
       "    </tr>\n",
       "  </tbody>\n",
       "</table>\n",
       "</div>"
      ],
      "text/plain": [
       "                id   age  signup_flow language affiliate_channel  \\\n",
       "139642  85nv87tbl4  31.0            0       en            direct   \n",
       "519     svwo8gsij4  37.0            3       en            direct   \n",
       "120664  35ja03ym7f  33.0            0       en            direct   \n",
       "84733   ograyifw83  33.0            0       en         sem-brand   \n",
       "183255  a8tr2x328d  28.0            0       en         sem-brand   \n",
       "\n",
       "       affiliate_provider first_affiliate_tracked signup_app  \\\n",
       "139642             direct               untracked        Web   \n",
       "519                direct                  linked        Web   \n",
       "120664             direct               untracked        Web   \n",
       "84733              google                     omg        Web   \n",
       "183255             google               untracked        Web   \n",
       "\n",
       "       first_device_type first_browser country_destination  \\\n",
       "139642       Mac Desktop        Chrome                  US   \n",
       "519          Mac Desktop        Chrome                  US   \n",
       "120664       Mac Desktop        Chrome                 NDF   \n",
       "84733    Windows Desktop        Chrome                 NDF   \n",
       "183255       Mac Desktop        Chrome                  US   \n",
       "\n",
       "        account_created_month  first_active_month  Gender_Unknown  \\\n",
       "139642                      1                   1           False   \n",
       "519                         5                   5           False   \n",
       "120664                     10                  10            True   \n",
       "84733                       6                   6            True   \n",
       "183255                      5                   5           False   \n",
       "\n",
       "        Gender_Female  Gender_Male  Gender_Other  Signup_Basic  \\\n",
       "139642          False         True         False          True   \n",
       "519              True        False         False          True   \n",
       "120664          False        False         False          True   \n",
       "84733           False        False         False          True   \n",
       "183255           True        False         False          True   \n",
       "\n",
       "        Signup_Facebook  Signup_Google  \n",
       "139642            False          False  \n",
       "519               False          False  \n",
       "120664            False          False  \n",
       "84733             False          False  \n",
       "183255            False          False  "
      ]
     },
     "execution_count": 63,
     "metadata": {},
     "output_type": "execute_result"
    }
   ],
   "source": [
    "train_users.head()"
   ]
  },
  {
   "cell_type": "code",
   "execution_count": 64,
   "metadata": {},
   "outputs": [
    {
     "data": {
      "text/plain": [
       "language\n",
       "en    163795\n",
       "zh      1321\n",
       "fr       929\n",
       "es       725\n",
       "de       587\n",
       "ko       579\n",
       "it       411\n",
       "ru       326\n",
       "pt       193\n",
       "ja       169\n",
       "sv        90\n",
       "nl        82\n",
       "tr        49\n",
       "pl        47\n",
       "da        45\n",
       "cs        28\n",
       "no        25\n",
       "el        22\n",
       "id        17\n",
       "hu        16\n",
       "th        15\n",
       "fi        14\n",
       "is         5\n",
       "ca         5\n",
       "hr         2\n",
       "Name: count, dtype: int64"
      ]
     },
     "execution_count": 64,
     "metadata": {},
     "output_type": "execute_result"
    }
   ],
   "source": [
    "train_users[\"language\"].value_counts()"
   ]
  },
  {
   "cell_type": "markdown",
   "metadata": {},
   "source": [
    "*Looking into the language, you will find lot of languages with few of the languages having less records. So manual preprocessing for this column is required where certain languages will be kept under the bin called others.*\n",
    "\n",
    "*The binning will be done with help of the file countries.csv since the file has details about the langauges spoken in the destination country.*\n",
    "\n",
    "*Now another field language_levenshtein_distance will tell how good is the customer in understanding english. Lower value of language_levenshtein_distance will\n",
    "indicate that he is good in english whereas high values indicate he is not so comfortable to speak in english.*"
   ]
  },
  {
   "cell_type": "code",
   "execution_count": 65,
   "metadata": {},
   "outputs": [
    {
     "data": {
      "text/html": [
       "<div>\n",
       "<style scoped>\n",
       "    .dataframe tbody tr th:only-of-type {\n",
       "        vertical-align: middle;\n",
       "    }\n",
       "\n",
       "    .dataframe tbody tr th {\n",
       "        vertical-align: top;\n",
       "    }\n",
       "\n",
       "    .dataframe thead th {\n",
       "        text-align: right;\n",
       "    }\n",
       "</style>\n",
       "<table border=\"1\" class=\"dataframe\">\n",
       "  <thead>\n",
       "    <tr style=\"text-align: right;\">\n",
       "      <th></th>\n",
       "      <th>country_destination</th>\n",
       "      <th>lat_destination</th>\n",
       "      <th>lng_destination</th>\n",
       "      <th>distance_km</th>\n",
       "      <th>destination_km2</th>\n",
       "      <th>destination_language</th>\n",
       "      <th>language_levenshtein_distance</th>\n",
       "    </tr>\n",
       "  </thead>\n",
       "  <tbody>\n",
       "    <tr>\n",
       "      <th>0</th>\n",
       "      <td>AU</td>\n",
       "      <td>-26.853388</td>\n",
       "      <td>133.275160</td>\n",
       "      <td>15297.7440</td>\n",
       "      <td>7741220.0</td>\n",
       "      <td>eng</td>\n",
       "      <td>0.00</td>\n",
       "    </tr>\n",
       "    <tr>\n",
       "      <th>1</th>\n",
       "      <td>CA</td>\n",
       "      <td>62.393303</td>\n",
       "      <td>-96.818146</td>\n",
       "      <td>2828.1333</td>\n",
       "      <td>9984670.0</td>\n",
       "      <td>eng</td>\n",
       "      <td>0.00</td>\n",
       "    </tr>\n",
       "    <tr>\n",
       "      <th>2</th>\n",
       "      <td>DE</td>\n",
       "      <td>51.165707</td>\n",
       "      <td>10.452764</td>\n",
       "      <td>7879.5680</td>\n",
       "      <td>357022.0</td>\n",
       "      <td>deu</td>\n",
       "      <td>72.61</td>\n",
       "    </tr>\n",
       "    <tr>\n",
       "      <th>3</th>\n",
       "      <td>ES</td>\n",
       "      <td>39.896027</td>\n",
       "      <td>-2.487694</td>\n",
       "      <td>7730.7240</td>\n",
       "      <td>505370.0</td>\n",
       "      <td>spa</td>\n",
       "      <td>92.25</td>\n",
       "    </tr>\n",
       "    <tr>\n",
       "      <th>4</th>\n",
       "      <td>FR</td>\n",
       "      <td>46.232193</td>\n",
       "      <td>2.209667</td>\n",
       "      <td>7682.9450</td>\n",
       "      <td>643801.0</td>\n",
       "      <td>fra</td>\n",
       "      <td>92.06</td>\n",
       "    </tr>\n",
       "    <tr>\n",
       "      <th>5</th>\n",
       "      <td>GB</td>\n",
       "      <td>54.633220</td>\n",
       "      <td>-3.432277</td>\n",
       "      <td>6883.6590</td>\n",
       "      <td>243610.0</td>\n",
       "      <td>eng</td>\n",
       "      <td>0.00</td>\n",
       "    </tr>\n",
       "    <tr>\n",
       "      <th>6</th>\n",
       "      <td>IT</td>\n",
       "      <td>41.873990</td>\n",
       "      <td>12.564167</td>\n",
       "      <td>8636.6310</td>\n",
       "      <td>301340.0</td>\n",
       "      <td>ita</td>\n",
       "      <td>89.40</td>\n",
       "    </tr>\n",
       "    <tr>\n",
       "      <th>7</th>\n",
       "      <td>NL</td>\n",
       "      <td>52.133057</td>\n",
       "      <td>5.295250</td>\n",
       "      <td>7524.3203</td>\n",
       "      <td>41543.0</td>\n",
       "      <td>nld</td>\n",
       "      <td>63.22</td>\n",
       "    </tr>\n",
       "    <tr>\n",
       "      <th>8</th>\n",
       "      <td>PT</td>\n",
       "      <td>39.553444</td>\n",
       "      <td>-7.839319</td>\n",
       "      <td>7355.2534</td>\n",
       "      <td>92090.0</td>\n",
       "      <td>por</td>\n",
       "      <td>95.45</td>\n",
       "    </tr>\n",
       "    <tr>\n",
       "      <th>9</th>\n",
       "      <td>US</td>\n",
       "      <td>36.966427</td>\n",
       "      <td>-95.844030</td>\n",
       "      <td>0.0000</td>\n",
       "      <td>9826675.0</td>\n",
       "      <td>eng</td>\n",
       "      <td>0.00</td>\n",
       "    </tr>\n",
       "  </tbody>\n",
       "</table>\n",
       "</div>"
      ],
      "text/plain": [
       "  country_destination  lat_destination  lng_destination  distance_km  \\\n",
       "0                  AU       -26.853388       133.275160   15297.7440   \n",
       "1                  CA        62.393303       -96.818146    2828.1333   \n",
       "2                  DE        51.165707        10.452764    7879.5680   \n",
       "3                  ES        39.896027        -2.487694    7730.7240   \n",
       "4                  FR        46.232193         2.209667    7682.9450   \n",
       "5                  GB        54.633220        -3.432277    6883.6590   \n",
       "6                  IT        41.873990        12.564167    8636.6310   \n",
       "7                  NL        52.133057         5.295250    7524.3203   \n",
       "8                  PT        39.553444        -7.839319    7355.2534   \n",
       "9                  US        36.966427       -95.844030       0.0000   \n",
       "\n",
       "   destination_km2 destination_language   language_levenshtein_distance  \n",
       "0        7741220.0                   eng                           0.00  \n",
       "1        9984670.0                   eng                           0.00  \n",
       "2         357022.0                   deu                          72.61  \n",
       "3         505370.0                   spa                          92.25  \n",
       "4         643801.0                   fra                          92.06  \n",
       "5         243610.0                   eng                           0.00  \n",
       "6         301340.0                   ita                          89.40  \n",
       "7          41543.0                   nld                          63.22  \n",
       "8          92090.0                   por                          95.45  \n",
       "9        9826675.0                   eng                           0.00  "
      ]
     },
     "execution_count": 65,
     "metadata": {},
     "output_type": "execute_result"
    }
   ],
   "source": [
    "countries.head(10)"
   ]
  },
  {
   "cell_type": "code",
   "execution_count": 66,
   "metadata": {},
   "outputs": [],
   "source": [
    "def rename_languages_country(s):\n",
    "    \n",
    "    if s=='eng':\n",
    "        return 'English'\n",
    "    elif s=='deu':\n",
    "        return 'German'\n",
    "    elif s=='spa':\n",
    "        return 'Spanish'\n",
    "    elif s==\"fra\":\n",
    "        return 'French'\n",
    "    elif s=='ita':\n",
    "        return 'Italian'\n",
    "    elif s=='nld':\n",
    "        return 'Dutch'\n",
    "    elif s=='por':\n",
    "        return 'Portuguese'"
   ]
  },
  {
   "cell_type": "code",
   "execution_count": 67,
   "metadata": {},
   "outputs": [],
   "source": [
    "countries[\"Destination_language\"]=countries[\"destination_language \"].apply(rename_languages_country)"
   ]
  },
  {
   "cell_type": "code",
   "execution_count": 68,
   "metadata": {},
   "outputs": [
    {
     "data": {
      "text/html": [
       "<div>\n",
       "<style scoped>\n",
       "    .dataframe tbody tr th:only-of-type {\n",
       "        vertical-align: middle;\n",
       "    }\n",
       "\n",
       "    .dataframe tbody tr th {\n",
       "        vertical-align: top;\n",
       "    }\n",
       "\n",
       "    .dataframe thead th {\n",
       "        text-align: right;\n",
       "    }\n",
       "</style>\n",
       "<table border=\"1\" class=\"dataframe\">\n",
       "  <thead>\n",
       "    <tr style=\"text-align: right;\">\n",
       "      <th></th>\n",
       "      <th>country_destination</th>\n",
       "      <th>lat_destination</th>\n",
       "      <th>lng_destination</th>\n",
       "      <th>distance_km</th>\n",
       "      <th>destination_km2</th>\n",
       "      <th>destination_language</th>\n",
       "      <th>language_levenshtein_distance</th>\n",
       "      <th>Destination_language</th>\n",
       "    </tr>\n",
       "  </thead>\n",
       "  <tbody>\n",
       "    <tr>\n",
       "      <th>0</th>\n",
       "      <td>AU</td>\n",
       "      <td>-26.853388</td>\n",
       "      <td>133.275160</td>\n",
       "      <td>15297.7440</td>\n",
       "      <td>7741220.0</td>\n",
       "      <td>eng</td>\n",
       "      <td>0.00</td>\n",
       "      <td>English</td>\n",
       "    </tr>\n",
       "    <tr>\n",
       "      <th>1</th>\n",
       "      <td>CA</td>\n",
       "      <td>62.393303</td>\n",
       "      <td>-96.818146</td>\n",
       "      <td>2828.1333</td>\n",
       "      <td>9984670.0</td>\n",
       "      <td>eng</td>\n",
       "      <td>0.00</td>\n",
       "      <td>English</td>\n",
       "    </tr>\n",
       "    <tr>\n",
       "      <th>2</th>\n",
       "      <td>DE</td>\n",
       "      <td>51.165707</td>\n",
       "      <td>10.452764</td>\n",
       "      <td>7879.5680</td>\n",
       "      <td>357022.0</td>\n",
       "      <td>deu</td>\n",
       "      <td>72.61</td>\n",
       "      <td>German</td>\n",
       "    </tr>\n",
       "    <tr>\n",
       "      <th>3</th>\n",
       "      <td>ES</td>\n",
       "      <td>39.896027</td>\n",
       "      <td>-2.487694</td>\n",
       "      <td>7730.7240</td>\n",
       "      <td>505370.0</td>\n",
       "      <td>spa</td>\n",
       "      <td>92.25</td>\n",
       "      <td>Spanish</td>\n",
       "    </tr>\n",
       "    <tr>\n",
       "      <th>4</th>\n",
       "      <td>FR</td>\n",
       "      <td>46.232193</td>\n",
       "      <td>2.209667</td>\n",
       "      <td>7682.9450</td>\n",
       "      <td>643801.0</td>\n",
       "      <td>fra</td>\n",
       "      <td>92.06</td>\n",
       "      <td>French</td>\n",
       "    </tr>\n",
       "    <tr>\n",
       "      <th>5</th>\n",
       "      <td>GB</td>\n",
       "      <td>54.633220</td>\n",
       "      <td>-3.432277</td>\n",
       "      <td>6883.6590</td>\n",
       "      <td>243610.0</td>\n",
       "      <td>eng</td>\n",
       "      <td>0.00</td>\n",
       "      <td>English</td>\n",
       "    </tr>\n",
       "    <tr>\n",
       "      <th>6</th>\n",
       "      <td>IT</td>\n",
       "      <td>41.873990</td>\n",
       "      <td>12.564167</td>\n",
       "      <td>8636.6310</td>\n",
       "      <td>301340.0</td>\n",
       "      <td>ita</td>\n",
       "      <td>89.40</td>\n",
       "      <td>Italian</td>\n",
       "    </tr>\n",
       "    <tr>\n",
       "      <th>7</th>\n",
       "      <td>NL</td>\n",
       "      <td>52.133057</td>\n",
       "      <td>5.295250</td>\n",
       "      <td>7524.3203</td>\n",
       "      <td>41543.0</td>\n",
       "      <td>nld</td>\n",
       "      <td>63.22</td>\n",
       "      <td>Dutch</td>\n",
       "    </tr>\n",
       "    <tr>\n",
       "      <th>8</th>\n",
       "      <td>PT</td>\n",
       "      <td>39.553444</td>\n",
       "      <td>-7.839319</td>\n",
       "      <td>7355.2534</td>\n",
       "      <td>92090.0</td>\n",
       "      <td>por</td>\n",
       "      <td>95.45</td>\n",
       "      <td>Portuguese</td>\n",
       "    </tr>\n",
       "    <tr>\n",
       "      <th>9</th>\n",
       "      <td>US</td>\n",
       "      <td>36.966427</td>\n",
       "      <td>-95.844030</td>\n",
       "      <td>0.0000</td>\n",
       "      <td>9826675.0</td>\n",
       "      <td>eng</td>\n",
       "      <td>0.00</td>\n",
       "      <td>English</td>\n",
       "    </tr>\n",
       "  </tbody>\n",
       "</table>\n",
       "</div>"
      ],
      "text/plain": [
       "  country_destination  lat_destination  lng_destination  distance_km  \\\n",
       "0                  AU       -26.853388       133.275160   15297.7440   \n",
       "1                  CA        62.393303       -96.818146    2828.1333   \n",
       "2                  DE        51.165707        10.452764    7879.5680   \n",
       "3                  ES        39.896027        -2.487694    7730.7240   \n",
       "4                  FR        46.232193         2.209667    7682.9450   \n",
       "5                  GB        54.633220        -3.432277    6883.6590   \n",
       "6                  IT        41.873990        12.564167    8636.6310   \n",
       "7                  NL        52.133057         5.295250    7524.3203   \n",
       "8                  PT        39.553444        -7.839319    7355.2534   \n",
       "9                  US        36.966427       -95.844030       0.0000   \n",
       "\n",
       "   destination_km2 destination_language   language_levenshtein_distance  \\\n",
       "0        7741220.0                   eng                           0.00   \n",
       "1        9984670.0                   eng                           0.00   \n",
       "2         357022.0                   deu                          72.61   \n",
       "3         505370.0                   spa                          92.25   \n",
       "4         643801.0                   fra                          92.06   \n",
       "5         243610.0                   eng                           0.00   \n",
       "6         301340.0                   ita                          89.40   \n",
       "7          41543.0                   nld                          63.22   \n",
       "8          92090.0                   por                          95.45   \n",
       "9        9826675.0                   eng                           0.00   \n",
       "\n",
       "  Destination_language  \n",
       "0              English  \n",
       "1              English  \n",
       "2               German  \n",
       "3              Spanish  \n",
       "4               French  \n",
       "5              English  \n",
       "6              Italian  \n",
       "7                Dutch  \n",
       "8           Portuguese  \n",
       "9              English  "
      ]
     },
     "execution_count": 68,
     "metadata": {},
     "output_type": "execute_result"
    }
   ],
   "source": [
    "countries.head(10)"
   ]
  },
  {
   "cell_type": "code",
   "execution_count": 69,
   "metadata": {},
   "outputs": [],
   "source": [
    "df_countries = countries[['Destination_language', 'language_levenshtein_distance']]"
   ]
  },
  {
   "cell_type": "code",
   "execution_count": 70,
   "metadata": {},
   "outputs": [],
   "source": [
    "df_countries.drop_duplicates(keep='first',inplace = True)"
   ]
  },
  {
   "cell_type": "code",
   "execution_count": 71,
   "metadata": {},
   "outputs": [
    {
     "data": {
      "text/html": [
       "<div>\n",
       "<style scoped>\n",
       "    .dataframe tbody tr th:only-of-type {\n",
       "        vertical-align: middle;\n",
       "    }\n",
       "\n",
       "    .dataframe tbody tr th {\n",
       "        vertical-align: top;\n",
       "    }\n",
       "\n",
       "    .dataframe thead th {\n",
       "        text-align: right;\n",
       "    }\n",
       "</style>\n",
       "<table border=\"1\" class=\"dataframe\">\n",
       "  <thead>\n",
       "    <tr style=\"text-align: right;\">\n",
       "      <th></th>\n",
       "      <th>Destination_language</th>\n",
       "      <th>language_levenshtein_distance</th>\n",
       "    </tr>\n",
       "  </thead>\n",
       "  <tbody>\n",
       "    <tr>\n",
       "      <th>0</th>\n",
       "      <td>English</td>\n",
       "      <td>0.00</td>\n",
       "    </tr>\n",
       "    <tr>\n",
       "      <th>2</th>\n",
       "      <td>German</td>\n",
       "      <td>72.61</td>\n",
       "    </tr>\n",
       "    <tr>\n",
       "      <th>3</th>\n",
       "      <td>Spanish</td>\n",
       "      <td>92.25</td>\n",
       "    </tr>\n",
       "    <tr>\n",
       "      <th>4</th>\n",
       "      <td>French</td>\n",
       "      <td>92.06</td>\n",
       "    </tr>\n",
       "    <tr>\n",
       "      <th>6</th>\n",
       "      <td>Italian</td>\n",
       "      <td>89.40</td>\n",
       "    </tr>\n",
       "  </tbody>\n",
       "</table>\n",
       "</div>"
      ],
      "text/plain": [
       "  Destination_language  language_levenshtein_distance\n",
       "0              English                           0.00\n",
       "2               German                          72.61\n",
       "3              Spanish                          92.25\n",
       "4               French                          92.06\n",
       "6              Italian                          89.40"
      ]
     },
     "execution_count": 71,
     "metadata": {},
     "output_type": "execute_result"
    }
   ],
   "source": [
    "df_countries.head()"
   ]
  },
  {
   "cell_type": "code",
   "execution_count": null,
   "metadata": {},
   "outputs": [],
   "source": [
    "sns.barplot(df_countries[\"Destination_language\"],df_countries[\"language_levenshtein_distance\"])"
   ]
  },
  {
   "cell_type": "code",
   "execution_count": 72,
   "metadata": {},
   "outputs": [],
   "source": [
    "def rename_languages_users(s):\n",
    "    \n",
    "    if s == 'en':\n",
    "        return 'English'\n",
    "    elif s=='es':\n",
    "        return 'Spanish'\n",
    "    elif s==\"fr\":\n",
    "        return 'French'\n",
    "    elif s=='de':\n",
    "        return 'German'\n",
    "    elif s=='it':\n",
    "        return 'Italian'\n",
    "    elif s=='nl':\n",
    "        return 'Dutch'\n",
    "    elif s=='pt':\n",
    "        return 'Portuguese'\n",
    "    else:\n",
    "        return 'Others'"
   ]
  },
  {
   "cell_type": "code",
   "execution_count": 73,
   "metadata": {},
   "outputs": [],
   "source": [
    "train_users[\"user_language\"] = train_users[\"language\"].apply(rename_languages_users)"
   ]
  },
  {
   "cell_type": "code",
   "execution_count": 74,
   "metadata": {},
   "outputs": [
    {
     "data": {
      "text/plain": [
       "user_language\n",
       "English       163795\n",
       "Others          2775\n",
       "French           929\n",
       "Spanish          725\n",
       "German           587\n",
       "Italian          411\n",
       "Portuguese       193\n",
       "Dutch             82\n",
       "Name: count, dtype: int64"
      ]
     },
     "execution_count": 74,
     "metadata": {},
     "output_type": "execute_result"
    }
   ],
   "source": [
    "train_users[\"user_language\"].value_counts()"
   ]
  },
  {
   "cell_type": "code",
   "execution_count": 75,
   "metadata": {},
   "outputs": [],
   "source": [
    "val_users[\"user_language\"] = val_users[\"language\"].apply(rename_languages_users)"
   ]
  },
  {
   "cell_type": "code",
   "execution_count": 76,
   "metadata": {},
   "outputs": [
    {
     "data": {
      "text/plain": [
       "user_language\n",
       "English       40965\n",
       "Others          677\n",
       "French          231\n",
       "Spanish         186\n",
       "German          144\n",
       "Italian          99\n",
       "Portuguese       45\n",
       "Dutch            15\n",
       "Name: count, dtype: int64"
      ]
     },
     "execution_count": 76,
     "metadata": {},
     "output_type": "execute_result"
    }
   ],
   "source": [
    "val_users[\"user_language\"].value_counts()"
   ]
  },
  {
   "cell_type": "code",
   "execution_count": null,
   "metadata": {},
   "outputs": [],
   "source": [
    "sns.countplot(train_users[\"user_language\"])"
   ]
  },
  {
   "cell_type": "markdown",
   "metadata": {},
   "source": [
    "*Even after adding an field called others to sum up lessa frequent languages, english dominates the list of most spoken languages among the touristor as expected since the uers\\customers are from US.*"
   ]
  },
  {
   "cell_type": "code",
   "execution_count": 77,
   "metadata": {},
   "outputs": [],
   "source": [
    "train_users = train_users.merge(df_countries,left_on = 'user_language',right_on = 'Destination_language',how = 'left')"
   ]
  },
  {
   "cell_type": "code",
   "execution_count": 78,
   "metadata": {},
   "outputs": [
    {
     "data": {
      "text/plain": [
       "(169497, 23)"
      ]
     },
     "execution_count": 78,
     "metadata": {},
     "output_type": "execute_result"
    }
   ],
   "source": [
    "train_users.shape"
   ]
  },
  {
   "cell_type": "code",
   "execution_count": 79,
   "metadata": {},
   "outputs": [],
   "source": [
    "val_users = val_users.merge(df_countries,left_on = 'user_language',right_on = 'Destination_language',how = 'left')"
   ]
  },
  {
   "cell_type": "code",
   "execution_count": 80,
   "metadata": {},
   "outputs": [
    {
     "data": {
      "text/plain": [
       "(42362, 23)"
      ]
     },
     "execution_count": 80,
     "metadata": {},
     "output_type": "execute_result"
    }
   ],
   "source": [
    "val_users.shape"
   ]
  },
  {
   "cell_type": "code",
   "execution_count": 81,
   "metadata": {},
   "outputs": [
    {
     "data": {
      "text/plain": [
       "user_language\n",
       "English       163795\n",
       "Others          2775\n",
       "French           929\n",
       "Spanish          725\n",
       "German           587\n",
       "Italian          411\n",
       "Portuguese       193\n",
       "Dutch             82\n",
       "Name: count, dtype: int64"
      ]
     },
     "execution_count": 81,
     "metadata": {},
     "output_type": "execute_result"
    }
   ],
   "source": [
    "train_users[\"user_language\"].value_counts()"
   ]
  },
  {
   "cell_type": "code",
   "execution_count": 82,
   "metadata": {},
   "outputs": [],
   "source": [
    "ohe_language = pd.get_dummies(train_users[\"user_language\"]) \n",
    "train_users = pd.concat([train_users,ohe_language],axis = 1) "
   ]
  },
  {
   "cell_type": "code",
   "execution_count": 83,
   "metadata": {},
   "outputs": [
    {
     "data": {
      "text/html": [
       "<div>\n",
       "<style scoped>\n",
       "    .dataframe tbody tr th:only-of-type {\n",
       "        vertical-align: middle;\n",
       "    }\n",
       "\n",
       "    .dataframe tbody tr th {\n",
       "        vertical-align: top;\n",
       "    }\n",
       "\n",
       "    .dataframe thead th {\n",
       "        text-align: right;\n",
       "    }\n",
       "</style>\n",
       "<table border=\"1\" class=\"dataframe\">\n",
       "  <thead>\n",
       "    <tr style=\"text-align: right;\">\n",
       "      <th></th>\n",
       "      <th>id</th>\n",
       "      <th>age</th>\n",
       "      <th>signup_flow</th>\n",
       "      <th>language</th>\n",
       "      <th>affiliate_channel</th>\n",
       "      <th>affiliate_provider</th>\n",
       "      <th>first_affiliate_tracked</th>\n",
       "      <th>signup_app</th>\n",
       "      <th>first_device_type</th>\n",
       "      <th>first_browser</th>\n",
       "      <th>...</th>\n",
       "      <th>Destination_language</th>\n",
       "      <th>language_levenshtein_distance</th>\n",
       "      <th>Dutch</th>\n",
       "      <th>English</th>\n",
       "      <th>French</th>\n",
       "      <th>German</th>\n",
       "      <th>Italian</th>\n",
       "      <th>Others</th>\n",
       "      <th>Portuguese</th>\n",
       "      <th>Spanish</th>\n",
       "    </tr>\n",
       "  </thead>\n",
       "  <tbody>\n",
       "    <tr>\n",
       "      <th>0</th>\n",
       "      <td>85nv87tbl4</td>\n",
       "      <td>31.0</td>\n",
       "      <td>0</td>\n",
       "      <td>en</td>\n",
       "      <td>direct</td>\n",
       "      <td>direct</td>\n",
       "      <td>untracked</td>\n",
       "      <td>Web</td>\n",
       "      <td>Mac Desktop</td>\n",
       "      <td>Chrome</td>\n",
       "      <td>...</td>\n",
       "      <td>English</td>\n",
       "      <td>0.0</td>\n",
       "      <td>False</td>\n",
       "      <td>True</td>\n",
       "      <td>False</td>\n",
       "      <td>False</td>\n",
       "      <td>False</td>\n",
       "      <td>False</td>\n",
       "      <td>False</td>\n",
       "      <td>False</td>\n",
       "    </tr>\n",
       "    <tr>\n",
       "      <th>1</th>\n",
       "      <td>svwo8gsij4</td>\n",
       "      <td>37.0</td>\n",
       "      <td>3</td>\n",
       "      <td>en</td>\n",
       "      <td>direct</td>\n",
       "      <td>direct</td>\n",
       "      <td>linked</td>\n",
       "      <td>Web</td>\n",
       "      <td>Mac Desktop</td>\n",
       "      <td>Chrome</td>\n",
       "      <td>...</td>\n",
       "      <td>English</td>\n",
       "      <td>0.0</td>\n",
       "      <td>False</td>\n",
       "      <td>True</td>\n",
       "      <td>False</td>\n",
       "      <td>False</td>\n",
       "      <td>False</td>\n",
       "      <td>False</td>\n",
       "      <td>False</td>\n",
       "      <td>False</td>\n",
       "    </tr>\n",
       "    <tr>\n",
       "      <th>2</th>\n",
       "      <td>35ja03ym7f</td>\n",
       "      <td>33.0</td>\n",
       "      <td>0</td>\n",
       "      <td>en</td>\n",
       "      <td>direct</td>\n",
       "      <td>direct</td>\n",
       "      <td>untracked</td>\n",
       "      <td>Web</td>\n",
       "      <td>Mac Desktop</td>\n",
       "      <td>Chrome</td>\n",
       "      <td>...</td>\n",
       "      <td>English</td>\n",
       "      <td>0.0</td>\n",
       "      <td>False</td>\n",
       "      <td>True</td>\n",
       "      <td>False</td>\n",
       "      <td>False</td>\n",
       "      <td>False</td>\n",
       "      <td>False</td>\n",
       "      <td>False</td>\n",
       "      <td>False</td>\n",
       "    </tr>\n",
       "    <tr>\n",
       "      <th>3</th>\n",
       "      <td>ograyifw83</td>\n",
       "      <td>33.0</td>\n",
       "      <td>0</td>\n",
       "      <td>en</td>\n",
       "      <td>sem-brand</td>\n",
       "      <td>google</td>\n",
       "      <td>omg</td>\n",
       "      <td>Web</td>\n",
       "      <td>Windows Desktop</td>\n",
       "      <td>Chrome</td>\n",
       "      <td>...</td>\n",
       "      <td>English</td>\n",
       "      <td>0.0</td>\n",
       "      <td>False</td>\n",
       "      <td>True</td>\n",
       "      <td>False</td>\n",
       "      <td>False</td>\n",
       "      <td>False</td>\n",
       "      <td>False</td>\n",
       "      <td>False</td>\n",
       "      <td>False</td>\n",
       "    </tr>\n",
       "    <tr>\n",
       "      <th>4</th>\n",
       "      <td>a8tr2x328d</td>\n",
       "      <td>28.0</td>\n",
       "      <td>0</td>\n",
       "      <td>en</td>\n",
       "      <td>sem-brand</td>\n",
       "      <td>google</td>\n",
       "      <td>untracked</td>\n",
       "      <td>Web</td>\n",
       "      <td>Mac Desktop</td>\n",
       "      <td>Chrome</td>\n",
       "      <td>...</td>\n",
       "      <td>English</td>\n",
       "      <td>0.0</td>\n",
       "      <td>False</td>\n",
       "      <td>True</td>\n",
       "      <td>False</td>\n",
       "      <td>False</td>\n",
       "      <td>False</td>\n",
       "      <td>False</td>\n",
       "      <td>False</td>\n",
       "      <td>False</td>\n",
       "    </tr>\n",
       "  </tbody>\n",
       "</table>\n",
       "<p>5 rows × 31 columns</p>\n",
       "</div>"
      ],
      "text/plain": [
       "           id   age  signup_flow language affiliate_channel  \\\n",
       "0  85nv87tbl4  31.0            0       en            direct   \n",
       "1  svwo8gsij4  37.0            3       en            direct   \n",
       "2  35ja03ym7f  33.0            0       en            direct   \n",
       "3  ograyifw83  33.0            0       en         sem-brand   \n",
       "4  a8tr2x328d  28.0            0       en         sem-brand   \n",
       "\n",
       "  affiliate_provider first_affiliate_tracked signup_app first_device_type  \\\n",
       "0             direct               untracked        Web       Mac Desktop   \n",
       "1             direct                  linked        Web       Mac Desktop   \n",
       "2             direct               untracked        Web       Mac Desktop   \n",
       "3             google                     omg        Web   Windows Desktop   \n",
       "4             google               untracked        Web       Mac Desktop   \n",
       "\n",
       "  first_browser  ... Destination_language  language_levenshtein_distance  \\\n",
       "0        Chrome  ...              English                            0.0   \n",
       "1        Chrome  ...              English                            0.0   \n",
       "2        Chrome  ...              English                            0.0   \n",
       "3        Chrome  ...              English                            0.0   \n",
       "4        Chrome  ...              English                            0.0   \n",
       "\n",
       "   Dutch  English  French  German  Italian  Others  Portuguese  Spanish  \n",
       "0  False     True   False   False    False   False       False    False  \n",
       "1  False     True   False   False    False   False       False    False  \n",
       "2  False     True   False   False    False   False       False    False  \n",
       "3  False     True   False   False    False   False       False    False  \n",
       "4  False     True   False   False    False   False       False    False  \n",
       "\n",
       "[5 rows x 31 columns]"
      ]
     },
     "execution_count": 83,
     "metadata": {},
     "output_type": "execute_result"
    }
   ],
   "source": [
    "train_users.head()"
   ]
  },
  {
   "cell_type": "code",
   "execution_count": 84,
   "metadata": {},
   "outputs": [],
   "source": [
    "train_users.rename({'Others':'Other_Language'},axis = 1, inplace = True)"
   ]
  },
  {
   "cell_type": "code",
   "execution_count": 85,
   "metadata": {},
   "outputs": [],
   "source": [
    "train_users.drop([\"user_language\",\"Destination_language\"], axis = 1, inplace = True)"
   ]
  },
  {
   "cell_type": "code",
   "execution_count": 86,
   "metadata": {},
   "outputs": [
    {
     "data": {
      "text/html": [
       "<div>\n",
       "<style scoped>\n",
       "    .dataframe tbody tr th:only-of-type {\n",
       "        vertical-align: middle;\n",
       "    }\n",
       "\n",
       "    .dataframe tbody tr th {\n",
       "        vertical-align: top;\n",
       "    }\n",
       "\n",
       "    .dataframe thead th {\n",
       "        text-align: right;\n",
       "    }\n",
       "</style>\n",
       "<table border=\"1\" class=\"dataframe\">\n",
       "  <thead>\n",
       "    <tr style=\"text-align: right;\">\n",
       "      <th></th>\n",
       "      <th>id</th>\n",
       "      <th>age</th>\n",
       "      <th>signup_flow</th>\n",
       "      <th>language</th>\n",
       "      <th>affiliate_channel</th>\n",
       "      <th>affiliate_provider</th>\n",
       "      <th>first_affiliate_tracked</th>\n",
       "      <th>signup_app</th>\n",
       "      <th>first_device_type</th>\n",
       "      <th>first_browser</th>\n",
       "      <th>...</th>\n",
       "      <th>Signup_Google</th>\n",
       "      <th>language_levenshtein_distance</th>\n",
       "      <th>Dutch</th>\n",
       "      <th>English</th>\n",
       "      <th>French</th>\n",
       "      <th>German</th>\n",
       "      <th>Italian</th>\n",
       "      <th>Other_Language</th>\n",
       "      <th>Portuguese</th>\n",
       "      <th>Spanish</th>\n",
       "    </tr>\n",
       "  </thead>\n",
       "  <tbody>\n",
       "    <tr>\n",
       "      <th>0</th>\n",
       "      <td>85nv87tbl4</td>\n",
       "      <td>31.0</td>\n",
       "      <td>0</td>\n",
       "      <td>en</td>\n",
       "      <td>direct</td>\n",
       "      <td>direct</td>\n",
       "      <td>untracked</td>\n",
       "      <td>Web</td>\n",
       "      <td>Mac Desktop</td>\n",
       "      <td>Chrome</td>\n",
       "      <td>...</td>\n",
       "      <td>False</td>\n",
       "      <td>0.0</td>\n",
       "      <td>False</td>\n",
       "      <td>True</td>\n",
       "      <td>False</td>\n",
       "      <td>False</td>\n",
       "      <td>False</td>\n",
       "      <td>False</td>\n",
       "      <td>False</td>\n",
       "      <td>False</td>\n",
       "    </tr>\n",
       "    <tr>\n",
       "      <th>1</th>\n",
       "      <td>svwo8gsij4</td>\n",
       "      <td>37.0</td>\n",
       "      <td>3</td>\n",
       "      <td>en</td>\n",
       "      <td>direct</td>\n",
       "      <td>direct</td>\n",
       "      <td>linked</td>\n",
       "      <td>Web</td>\n",
       "      <td>Mac Desktop</td>\n",
       "      <td>Chrome</td>\n",
       "      <td>...</td>\n",
       "      <td>False</td>\n",
       "      <td>0.0</td>\n",
       "      <td>False</td>\n",
       "      <td>True</td>\n",
       "      <td>False</td>\n",
       "      <td>False</td>\n",
       "      <td>False</td>\n",
       "      <td>False</td>\n",
       "      <td>False</td>\n",
       "      <td>False</td>\n",
       "    </tr>\n",
       "    <tr>\n",
       "      <th>2</th>\n",
       "      <td>35ja03ym7f</td>\n",
       "      <td>33.0</td>\n",
       "      <td>0</td>\n",
       "      <td>en</td>\n",
       "      <td>direct</td>\n",
       "      <td>direct</td>\n",
       "      <td>untracked</td>\n",
       "      <td>Web</td>\n",
       "      <td>Mac Desktop</td>\n",
       "      <td>Chrome</td>\n",
       "      <td>...</td>\n",
       "      <td>False</td>\n",
       "      <td>0.0</td>\n",
       "      <td>False</td>\n",
       "      <td>True</td>\n",
       "      <td>False</td>\n",
       "      <td>False</td>\n",
       "      <td>False</td>\n",
       "      <td>False</td>\n",
       "      <td>False</td>\n",
       "      <td>False</td>\n",
       "    </tr>\n",
       "    <tr>\n",
       "      <th>3</th>\n",
       "      <td>ograyifw83</td>\n",
       "      <td>33.0</td>\n",
       "      <td>0</td>\n",
       "      <td>en</td>\n",
       "      <td>sem-brand</td>\n",
       "      <td>google</td>\n",
       "      <td>omg</td>\n",
       "      <td>Web</td>\n",
       "      <td>Windows Desktop</td>\n",
       "      <td>Chrome</td>\n",
       "      <td>...</td>\n",
       "      <td>False</td>\n",
       "      <td>0.0</td>\n",
       "      <td>False</td>\n",
       "      <td>True</td>\n",
       "      <td>False</td>\n",
       "      <td>False</td>\n",
       "      <td>False</td>\n",
       "      <td>False</td>\n",
       "      <td>False</td>\n",
       "      <td>False</td>\n",
       "    </tr>\n",
       "    <tr>\n",
       "      <th>4</th>\n",
       "      <td>a8tr2x328d</td>\n",
       "      <td>28.0</td>\n",
       "      <td>0</td>\n",
       "      <td>en</td>\n",
       "      <td>sem-brand</td>\n",
       "      <td>google</td>\n",
       "      <td>untracked</td>\n",
       "      <td>Web</td>\n",
       "      <td>Mac Desktop</td>\n",
       "      <td>Chrome</td>\n",
       "      <td>...</td>\n",
       "      <td>False</td>\n",
       "      <td>0.0</td>\n",
       "      <td>False</td>\n",
       "      <td>True</td>\n",
       "      <td>False</td>\n",
       "      <td>False</td>\n",
       "      <td>False</td>\n",
       "      <td>False</td>\n",
       "      <td>False</td>\n",
       "      <td>False</td>\n",
       "    </tr>\n",
       "  </tbody>\n",
       "</table>\n",
       "<p>5 rows × 29 columns</p>\n",
       "</div>"
      ],
      "text/plain": [
       "           id   age  signup_flow language affiliate_channel  \\\n",
       "0  85nv87tbl4  31.0            0       en            direct   \n",
       "1  svwo8gsij4  37.0            3       en            direct   \n",
       "2  35ja03ym7f  33.0            0       en            direct   \n",
       "3  ograyifw83  33.0            0       en         sem-brand   \n",
       "4  a8tr2x328d  28.0            0       en         sem-brand   \n",
       "\n",
       "  affiliate_provider first_affiliate_tracked signup_app first_device_type  \\\n",
       "0             direct               untracked        Web       Mac Desktop   \n",
       "1             direct                  linked        Web       Mac Desktop   \n",
       "2             direct               untracked        Web       Mac Desktop   \n",
       "3             google                     omg        Web   Windows Desktop   \n",
       "4             google               untracked        Web       Mac Desktop   \n",
       "\n",
       "  first_browser  ... Signup_Google  language_levenshtein_distance  Dutch  \\\n",
       "0        Chrome  ...         False                            0.0  False   \n",
       "1        Chrome  ...         False                            0.0  False   \n",
       "2        Chrome  ...         False                            0.0  False   \n",
       "3        Chrome  ...         False                            0.0  False   \n",
       "4        Chrome  ...         False                            0.0  False   \n",
       "\n",
       "   English  French  German  Italian  Other_Language  Portuguese  Spanish  \n",
       "0     True   False   False    False           False       False    False  \n",
       "1     True   False   False    False           False       False    False  \n",
       "2     True   False   False    False           False       False    False  \n",
       "3     True   False   False    False           False       False    False  \n",
       "4     True   False   False    False           False       False    False  \n",
       "\n",
       "[5 rows x 29 columns]"
      ]
     },
     "execution_count": 86,
     "metadata": {},
     "output_type": "execute_result"
    }
   ],
   "source": [
    "train_users.head()"
   ]
  },
  {
   "cell_type": "code",
   "execution_count": 87,
   "metadata": {},
   "outputs": [],
   "source": [
    "train_users.drop([\"language\"], axis = 1, inplace = True)"
   ]
  },
  {
   "cell_type": "code",
   "execution_count": 88,
   "metadata": {},
   "outputs": [
    {
     "data": {
      "text/html": [
       "<div>\n",
       "<style scoped>\n",
       "    .dataframe tbody tr th:only-of-type {\n",
       "        vertical-align: middle;\n",
       "    }\n",
       "\n",
       "    .dataframe tbody tr th {\n",
       "        vertical-align: top;\n",
       "    }\n",
       "\n",
       "    .dataframe thead th {\n",
       "        text-align: right;\n",
       "    }\n",
       "</style>\n",
       "<table border=\"1\" class=\"dataframe\">\n",
       "  <thead>\n",
       "    <tr style=\"text-align: right;\">\n",
       "      <th></th>\n",
       "      <th>id</th>\n",
       "      <th>age</th>\n",
       "      <th>signup_flow</th>\n",
       "      <th>affiliate_channel</th>\n",
       "      <th>affiliate_provider</th>\n",
       "      <th>first_affiliate_tracked</th>\n",
       "      <th>signup_app</th>\n",
       "      <th>first_device_type</th>\n",
       "      <th>first_browser</th>\n",
       "      <th>country_destination</th>\n",
       "      <th>...</th>\n",
       "      <th>Signup_Google</th>\n",
       "      <th>language_levenshtein_distance</th>\n",
       "      <th>Dutch</th>\n",
       "      <th>English</th>\n",
       "      <th>French</th>\n",
       "      <th>German</th>\n",
       "      <th>Italian</th>\n",
       "      <th>Other_Language</th>\n",
       "      <th>Portuguese</th>\n",
       "      <th>Spanish</th>\n",
       "    </tr>\n",
       "  </thead>\n",
       "  <tbody>\n",
       "    <tr>\n",
       "      <th>0</th>\n",
       "      <td>85nv87tbl4</td>\n",
       "      <td>31.0</td>\n",
       "      <td>0</td>\n",
       "      <td>direct</td>\n",
       "      <td>direct</td>\n",
       "      <td>untracked</td>\n",
       "      <td>Web</td>\n",
       "      <td>Mac Desktop</td>\n",
       "      <td>Chrome</td>\n",
       "      <td>US</td>\n",
       "      <td>...</td>\n",
       "      <td>False</td>\n",
       "      <td>0.0</td>\n",
       "      <td>False</td>\n",
       "      <td>True</td>\n",
       "      <td>False</td>\n",
       "      <td>False</td>\n",
       "      <td>False</td>\n",
       "      <td>False</td>\n",
       "      <td>False</td>\n",
       "      <td>False</td>\n",
       "    </tr>\n",
       "    <tr>\n",
       "      <th>1</th>\n",
       "      <td>svwo8gsij4</td>\n",
       "      <td>37.0</td>\n",
       "      <td>3</td>\n",
       "      <td>direct</td>\n",
       "      <td>direct</td>\n",
       "      <td>linked</td>\n",
       "      <td>Web</td>\n",
       "      <td>Mac Desktop</td>\n",
       "      <td>Chrome</td>\n",
       "      <td>US</td>\n",
       "      <td>...</td>\n",
       "      <td>False</td>\n",
       "      <td>0.0</td>\n",
       "      <td>False</td>\n",
       "      <td>True</td>\n",
       "      <td>False</td>\n",
       "      <td>False</td>\n",
       "      <td>False</td>\n",
       "      <td>False</td>\n",
       "      <td>False</td>\n",
       "      <td>False</td>\n",
       "    </tr>\n",
       "    <tr>\n",
       "      <th>2</th>\n",
       "      <td>35ja03ym7f</td>\n",
       "      <td>33.0</td>\n",
       "      <td>0</td>\n",
       "      <td>direct</td>\n",
       "      <td>direct</td>\n",
       "      <td>untracked</td>\n",
       "      <td>Web</td>\n",
       "      <td>Mac Desktop</td>\n",
       "      <td>Chrome</td>\n",
       "      <td>NDF</td>\n",
       "      <td>...</td>\n",
       "      <td>False</td>\n",
       "      <td>0.0</td>\n",
       "      <td>False</td>\n",
       "      <td>True</td>\n",
       "      <td>False</td>\n",
       "      <td>False</td>\n",
       "      <td>False</td>\n",
       "      <td>False</td>\n",
       "      <td>False</td>\n",
       "      <td>False</td>\n",
       "    </tr>\n",
       "    <tr>\n",
       "      <th>3</th>\n",
       "      <td>ograyifw83</td>\n",
       "      <td>33.0</td>\n",
       "      <td>0</td>\n",
       "      <td>sem-brand</td>\n",
       "      <td>google</td>\n",
       "      <td>omg</td>\n",
       "      <td>Web</td>\n",
       "      <td>Windows Desktop</td>\n",
       "      <td>Chrome</td>\n",
       "      <td>NDF</td>\n",
       "      <td>...</td>\n",
       "      <td>False</td>\n",
       "      <td>0.0</td>\n",
       "      <td>False</td>\n",
       "      <td>True</td>\n",
       "      <td>False</td>\n",
       "      <td>False</td>\n",
       "      <td>False</td>\n",
       "      <td>False</td>\n",
       "      <td>False</td>\n",
       "      <td>False</td>\n",
       "    </tr>\n",
       "    <tr>\n",
       "      <th>4</th>\n",
       "      <td>a8tr2x328d</td>\n",
       "      <td>28.0</td>\n",
       "      <td>0</td>\n",
       "      <td>sem-brand</td>\n",
       "      <td>google</td>\n",
       "      <td>untracked</td>\n",
       "      <td>Web</td>\n",
       "      <td>Mac Desktop</td>\n",
       "      <td>Chrome</td>\n",
       "      <td>US</td>\n",
       "      <td>...</td>\n",
       "      <td>False</td>\n",
       "      <td>0.0</td>\n",
       "      <td>False</td>\n",
       "      <td>True</td>\n",
       "      <td>False</td>\n",
       "      <td>False</td>\n",
       "      <td>False</td>\n",
       "      <td>False</td>\n",
       "      <td>False</td>\n",
       "      <td>False</td>\n",
       "    </tr>\n",
       "  </tbody>\n",
       "</table>\n",
       "<p>5 rows × 28 columns</p>\n",
       "</div>"
      ],
      "text/plain": [
       "           id   age  signup_flow affiliate_channel affiliate_provider  \\\n",
       "0  85nv87tbl4  31.0            0            direct             direct   \n",
       "1  svwo8gsij4  37.0            3            direct             direct   \n",
       "2  35ja03ym7f  33.0            0            direct             direct   \n",
       "3  ograyifw83  33.0            0         sem-brand             google   \n",
       "4  a8tr2x328d  28.0            0         sem-brand             google   \n",
       "\n",
       "  first_affiliate_tracked signup_app first_device_type first_browser  \\\n",
       "0               untracked        Web       Mac Desktop        Chrome   \n",
       "1                  linked        Web       Mac Desktop        Chrome   \n",
       "2               untracked        Web       Mac Desktop        Chrome   \n",
       "3                     omg        Web   Windows Desktop        Chrome   \n",
       "4               untracked        Web       Mac Desktop        Chrome   \n",
       "\n",
       "  country_destination  ...  Signup_Google  language_levenshtein_distance  \\\n",
       "0                  US  ...          False                            0.0   \n",
       "1                  US  ...          False                            0.0   \n",
       "2                 NDF  ...          False                            0.0   \n",
       "3                 NDF  ...          False                            0.0   \n",
       "4                  US  ...          False                            0.0   \n",
       "\n",
       "   Dutch  English  French  German  Italian  Other_Language  Portuguese  \\\n",
       "0  False     True   False   False    False           False       False   \n",
       "1  False     True   False   False    False           False       False   \n",
       "2  False     True   False   False    False           False       False   \n",
       "3  False     True   False   False    False           False       False   \n",
       "4  False     True   False   False    False           False       False   \n",
       "\n",
       "   Spanish  \n",
       "0    False  \n",
       "1    False  \n",
       "2    False  \n",
       "3    False  \n",
       "4    False  \n",
       "\n",
       "[5 rows x 28 columns]"
      ]
     },
     "execution_count": 88,
     "metadata": {},
     "output_type": "execute_result"
    }
   ],
   "source": [
    "train_users.head()"
   ]
  },
  {
   "cell_type": "code",
   "execution_count": 89,
   "metadata": {},
   "outputs": [],
   "source": [
    "ohe_language = pd.get_dummies(val_users[\"user_language\"]) \n",
    "val_users = pd.concat([val_users,ohe_language],axis = 1) \n",
    "\n",
    "val_users.rename({'Others':'Other_Language'},axis = 1, inplace = True)\n",
    "val_users.drop([\"user_language\",\"Destination_language\",\"language\"], axis = 1, inplace = True)"
   ]
  },
  {
   "cell_type": "code",
   "execution_count": 90,
   "metadata": {},
   "outputs": [],
   "source": [
    "train_users[\"language_levenshtein_distance\"] = train_users[\"language_levenshtein_distance\"].fillna(train_users[\"age\"].mean())"
   ]
  },
  {
   "cell_type": "code",
   "execution_count": 91,
   "metadata": {},
   "outputs": [],
   "source": [
    "val_users[\"language_levenshtein_distance\"] = val_users[\"language_levenshtein_distance\"].fillna(val_users[\"age\"].mean())"
   ]
  },
  {
   "cell_type": "code",
   "execution_count": null,
   "metadata": {},
   "outputs": [],
   "source": [
    "sns.kdeplot(train_users[\"language_levenshtein_distance\"])"
   ]
  },
  {
   "cell_type": "code",
   "execution_count": 92,
   "metadata": {},
   "outputs": [
    {
     "data": {
      "text/plain": [
       "affiliate_channel\n",
       "direct           109343\n",
       "sem-brand         20542\n",
       "sem-non-brand     15046\n",
       "other              7185\n",
       "seo                6906\n",
       "api                6520\n",
       "content            3081\n",
       "remarketing         874\n",
       "Name: count, dtype: int64"
      ]
     },
     "execution_count": 92,
     "metadata": {},
     "output_type": "execute_result"
    }
   ],
   "source": [
    "train_users[\"affiliate_channel\"].value_counts()"
   ]
  },
  {
   "cell_type": "code",
   "execution_count": 93,
   "metadata": {},
   "outputs": [],
   "source": [
    "def affiliate_channel(s):\n",
    "    \n",
    "    if s == \"direct\":\n",
    "        return \"direct_channel\"\n",
    "    elif s == \"sem-brand\":\n",
    "        return \"sem-brand_channel\"\n",
    "    elif s == \"sem-non-brand\":\n",
    "        return \"sem-non-brand_channel\"\n",
    "    else:\n",
    "        return \"other_channels\""
   ]
  },
  {
   "cell_type": "code",
   "execution_count": 94,
   "metadata": {},
   "outputs": [],
   "source": [
    "train_users[\"affiliate_channel\"] = train_users[\"affiliate_channel\"].apply(affiliate_channel)"
   ]
  },
  {
   "cell_type": "code",
   "execution_count": null,
   "metadata": {},
   "outputs": [],
   "source": [
    "sns.countplot(train_users[\"affiliate_channel\"])"
   ]
  },
  {
   "cell_type": "code",
   "execution_count": 95,
   "metadata": {},
   "outputs": [],
   "source": [
    "ohe_channel = pd.get_dummies(train_users[\"affiliate_channel\"]) \n",
    "train_users = pd.concat([train_users,ohe_channel],axis = 1) \n",
    "train_users.drop(\"affiliate_channel\", axis = 1, inplace = True)"
   ]
  },
  {
   "cell_type": "code",
   "execution_count": 96,
   "metadata": {},
   "outputs": [
    {
     "data": {
      "text/plain": [
       "Index(['id', 'age', 'signup_flow', 'affiliate_channel', 'affiliate_provider',\n",
       "       'first_affiliate_tracked', 'signup_app', 'first_device_type',\n",
       "       'first_browser', 'country_destination', 'account_created_month',\n",
       "       'first_active_month', 'Gender_Unknown', 'Gender_Female', 'Gender_Male',\n",
       "       'Gender_Other', 'Signup_Basic', 'Signup_Facebook', 'Signup_Google',\n",
       "       'language_levenshtein_distance', 'Dutch', 'English', 'French', 'German',\n",
       "       'Italian', 'Other_Language', 'Portuguese', 'Spanish'],\n",
       "      dtype='object')"
      ]
     },
     "execution_count": 96,
     "metadata": {},
     "output_type": "execute_result"
    }
   ],
   "source": [
    "val_users.columns"
   ]
  },
  {
   "cell_type": "code",
   "execution_count": 97,
   "metadata": {},
   "outputs": [],
   "source": [
    "val_users[\"affiliate_channel\"] = val_users[\"affiliate_channel\"].apply(affiliate_channel)\n",
    "ohe_channel = pd.get_dummies(val_users[\"affiliate_channel\"]) \n",
    "val_users = pd.concat([val_users,ohe_channel],axis = 1) \n",
    "val_users.drop(\"affiliate_channel\", axis = 1, inplace = True)"
   ]
  },
  {
   "cell_type": "code",
   "execution_count": 98,
   "metadata": {},
   "outputs": [
    {
     "data": {
      "text/plain": [
       "affiliate_provider\n",
       "direct                 109090\n",
       "google                  40934\n",
       "other                   10057\n",
       "craigslist               2805\n",
       "bing                     1883\n",
       "facebook                 1806\n",
       "vast                      653\n",
       "padmapper                 609\n",
       "facebook-open-graph       436\n",
       "yahoo                     390\n",
       "gsp                       353\n",
       "meetup                    275\n",
       "email-marketing           127\n",
       "naver                      39\n",
       "baidu                      22\n",
       "yandex                     12\n",
       "wayn                        5\n",
       "daum                        1\n",
       "Name: count, dtype: int64"
      ]
     },
     "execution_count": 98,
     "metadata": {},
     "output_type": "execute_result"
    }
   ],
   "source": [
    "train_users[\"affiliate_provider\"].value_counts()"
   ]
  },
  {
   "cell_type": "code",
   "execution_count": null,
   "metadata": {},
   "outputs": [],
   "source": [
    "sns.countplot(train_users[\"affiliate_provider\"])"
   ]
  },
  {
   "cell_type": "code",
   "execution_count": 99,
   "metadata": {},
   "outputs": [],
   "source": [
    "def affiliate_provider (s):\n",
    "    \n",
    "    if s==\"direct\":\n",
    "        return \"direct_provider\"\n",
    "    elif s==\"google\":\n",
    "        return \"google_provider\"\n",
    "    elif s==\"craigslist\":\n",
    "        return \"craiglist_provider\"\n",
    "    elif s==\"bing\":\n",
    "        return \"bing_provider\"\n",
    "    elif s==\"facebook\" or s==\"facebook-open-graph\":\n",
    "        return \"facebook_provider\"\n",
    "    else:\n",
    "        return \"other_providers\""
   ]
  },
  {
   "cell_type": "code",
   "execution_count": 100,
   "metadata": {},
   "outputs": [],
   "source": [
    "train_users[\"affiliate_provider\"] = train_users[\"affiliate_provider\"].apply(affiliate_provider)"
   ]
  },
  {
   "cell_type": "code",
   "execution_count": 101,
   "metadata": {},
   "outputs": [],
   "source": [
    "ohe_provider = pd.get_dummies(train_users[\"affiliate_provider\"]) \n",
    "train_users = pd.concat([train_users,ohe_provider],axis = 1) \n",
    "train_users.drop(\"affiliate_provider\", axis = 1, inplace = True)"
   ]
  },
  {
   "cell_type": "code",
   "execution_count": 102,
   "metadata": {},
   "outputs": [
    {
     "data": {
      "text/plain": [
       "Index(['id', 'age', 'signup_flow', 'first_affiliate_tracked', 'signup_app',\n",
       "       'first_device_type', 'first_browser', 'country_destination',\n",
       "       'account_created_month', 'first_active_month', 'Gender_Unknown',\n",
       "       'Gender_Female', 'Gender_Male', 'Gender_Other', 'Signup_Basic',\n",
       "       'Signup_Facebook', 'Signup_Google', 'language_levenshtein_distance',\n",
       "       'Dutch', 'English', 'French', 'German', 'Italian', 'Other_Language',\n",
       "       'Portuguese', 'Spanish', 'direct_channel', 'other_channels',\n",
       "       'sem-brand_channel', 'sem-non-brand_channel', 'bing_provider',\n",
       "       'craiglist_provider', 'direct_provider', 'facebook_provider',\n",
       "       'google_provider', 'other_providers'],\n",
       "      dtype='object')"
      ]
     },
     "execution_count": 102,
     "metadata": {},
     "output_type": "execute_result"
    }
   ],
   "source": [
    "train_users.columns"
   ]
  },
  {
   "cell_type": "code",
   "execution_count": 103,
   "metadata": {},
   "outputs": [],
   "source": [
    "val_users[\"affiliate_provider\"] = val_users[\"affiliate_provider\"].apply(affiliate_provider)\n",
    "ohe_provider = pd.get_dummies(val_users[\"affiliate_provider\"]) \n",
    "val_users = pd.concat([val_users,ohe_provider],axis = 1) \n",
    "val_users.drop(\"affiliate_provider\", axis = 1, inplace = True)"
   ]
  },
  {
   "cell_type": "code",
   "execution_count": 104,
   "metadata": {},
   "outputs": [
    {
     "data": {
      "text/plain": [
       "first_affiliate_tracked\n",
       "untracked        91450\n",
       "linked           36821\n",
       "omg              34927\n",
       "tracked-other     4902\n",
       "product           1255\n",
       "marketing          115\n",
       "local ops           27\n",
       "Name: count, dtype: int64"
      ]
     },
     "execution_count": 104,
     "metadata": {},
     "output_type": "execute_result"
    }
   ],
   "source": [
    "train_users[\"first_affiliate_tracked\"].value_counts()"
   ]
  },
  {
   "cell_type": "code",
   "execution_count": null,
   "metadata": {},
   "outputs": [],
   "source": [
    "sns.countplot(train_users[\"first_affiliate_tracked\"])"
   ]
  },
  {
   "cell_type": "code",
   "execution_count": 105,
   "metadata": {},
   "outputs": [],
   "source": [
    "def affiliate_tracker (s):\n",
    "    \n",
    "    if s==\"untracked\":\n",
    "        return s\n",
    "    elif s == \"linked\":\n",
    "        return \"linked_tracker\"\n",
    "    elif s == \"omg\":\n",
    "        return \"omg_tracker\"\n",
    "    else:\n",
    "        return \"other_tracker\""
   ]
  },
  {
   "cell_type": "code",
   "execution_count": 106,
   "metadata": {},
   "outputs": [],
   "source": [
    "train_users[\"first_affiliate_tracked\"] = train_users[\"first_affiliate_tracked\"].apply(affiliate_tracker)"
   ]
  },
  {
   "cell_type": "markdown",
   "metadata": {},
   "source": [
    "*Most of the requestors were untracked during initial activities.*"
   ]
  },
  {
   "cell_type": "code",
   "execution_count": 107,
   "metadata": {},
   "outputs": [],
   "source": [
    "ohe_tracker = pd.get_dummies(train_users[\"first_affiliate_tracked\"]) \n",
    "train_users = pd.concat([train_users,ohe_tracker],axis = 1) \n",
    "train_users.drop(\"first_affiliate_tracked\", axis = 1, inplace = True)"
   ]
  },
  {
   "cell_type": "code",
   "execution_count": 108,
   "metadata": {},
   "outputs": [],
   "source": [
    "val_users[\"first_affiliate_tracked\"] = val_users[\"first_affiliate_tracked\"].apply(affiliate_tracker)\n",
    "ohe_tracker = pd.get_dummies(val_users[\"first_affiliate_tracked\"]) \n",
    "val_users = pd.concat([val_users,ohe_tracker],axis = 1) \n",
    "val_users.drop(\"first_affiliate_tracked\", axis = 1, inplace = True)"
   ]
  },
  {
   "cell_type": "code",
   "execution_count": 109,
   "metadata": {},
   "outputs": [
    {
     "data": {
      "text/html": [
       "<div>\n",
       "<style scoped>\n",
       "    .dataframe tbody tr th:only-of-type {\n",
       "        vertical-align: middle;\n",
       "    }\n",
       "\n",
       "    .dataframe tbody tr th {\n",
       "        vertical-align: top;\n",
       "    }\n",
       "\n",
       "    .dataframe thead th {\n",
       "        text-align: right;\n",
       "    }\n",
       "</style>\n",
       "<table border=\"1\" class=\"dataframe\">\n",
       "  <thead>\n",
       "    <tr style=\"text-align: right;\">\n",
       "      <th></th>\n",
       "      <th>id</th>\n",
       "      <th>age</th>\n",
       "      <th>signup_flow</th>\n",
       "      <th>signup_app</th>\n",
       "      <th>first_device_type</th>\n",
       "      <th>first_browser</th>\n",
       "      <th>country_destination</th>\n",
       "      <th>account_created_month</th>\n",
       "      <th>first_active_month</th>\n",
       "      <th>Gender_Unknown</th>\n",
       "      <th>...</th>\n",
       "      <th>bing_provider</th>\n",
       "      <th>craiglist_provider</th>\n",
       "      <th>direct_provider</th>\n",
       "      <th>facebook_provider</th>\n",
       "      <th>google_provider</th>\n",
       "      <th>other_providers</th>\n",
       "      <th>linked_tracker</th>\n",
       "      <th>omg_tracker</th>\n",
       "      <th>other_tracker</th>\n",
       "      <th>untracked</th>\n",
       "    </tr>\n",
       "  </thead>\n",
       "  <tbody>\n",
       "    <tr>\n",
       "      <th>0</th>\n",
       "      <td>q9pfrw6si7</td>\n",
       "      <td>27.0</td>\n",
       "      <td>0</td>\n",
       "      <td>Web</td>\n",
       "      <td>Windows Desktop</td>\n",
       "      <td>Firefox</td>\n",
       "      <td>ES</td>\n",
       "      <td>2</td>\n",
       "      <td>2</td>\n",
       "      <td>False</td>\n",
       "      <td>...</td>\n",
       "      <td>False</td>\n",
       "      <td>False</td>\n",
       "      <td>True</td>\n",
       "      <td>False</td>\n",
       "      <td>False</td>\n",
       "      <td>False</td>\n",
       "      <td>False</td>\n",
       "      <td>False</td>\n",
       "      <td>False</td>\n",
       "      <td>True</td>\n",
       "    </tr>\n",
       "    <tr>\n",
       "      <th>1</th>\n",
       "      <td>9bzevnmq4v</td>\n",
       "      <td>33.0</td>\n",
       "      <td>0</td>\n",
       "      <td>Web</td>\n",
       "      <td>Mac Desktop</td>\n",
       "      <td>Chrome</td>\n",
       "      <td>NDF</td>\n",
       "      <td>3</td>\n",
       "      <td>3</td>\n",
       "      <td>True</td>\n",
       "      <td>...</td>\n",
       "      <td>False</td>\n",
       "      <td>False</td>\n",
       "      <td>True</td>\n",
       "      <td>False</td>\n",
       "      <td>False</td>\n",
       "      <td>False</td>\n",
       "      <td>False</td>\n",
       "      <td>False</td>\n",
       "      <td>False</td>\n",
       "      <td>True</td>\n",
       "    </tr>\n",
       "    <tr>\n",
       "      <th>2</th>\n",
       "      <td>kux37wpcfo</td>\n",
       "      <td>52.0</td>\n",
       "      <td>0</td>\n",
       "      <td>Web</td>\n",
       "      <td>Mac Desktop</td>\n",
       "      <td>Safari</td>\n",
       "      <td>NDF</td>\n",
       "      <td>6</td>\n",
       "      <td>6</td>\n",
       "      <td>False</td>\n",
       "      <td>...</td>\n",
       "      <td>False</td>\n",
       "      <td>False</td>\n",
       "      <td>True</td>\n",
       "      <td>False</td>\n",
       "      <td>False</td>\n",
       "      <td>False</td>\n",
       "      <td>False</td>\n",
       "      <td>False</td>\n",
       "      <td>False</td>\n",
       "      <td>True</td>\n",
       "    </tr>\n",
       "    <tr>\n",
       "      <th>3</th>\n",
       "      <td>qqnj6ohayo</td>\n",
       "      <td>45.0</td>\n",
       "      <td>0</td>\n",
       "      <td>Web</td>\n",
       "      <td>Mac Desktop</td>\n",
       "      <td>Safari</td>\n",
       "      <td>NDF</td>\n",
       "      <td>8</td>\n",
       "      <td>8</td>\n",
       "      <td>False</td>\n",
       "      <td>...</td>\n",
       "      <td>False</td>\n",
       "      <td>False</td>\n",
       "      <td>True</td>\n",
       "      <td>False</td>\n",
       "      <td>False</td>\n",
       "      <td>False</td>\n",
       "      <td>False</td>\n",
       "      <td>False</td>\n",
       "      <td>False</td>\n",
       "      <td>True</td>\n",
       "    </tr>\n",
       "    <tr>\n",
       "      <th>4</th>\n",
       "      <td>nw97iy2dzi</td>\n",
       "      <td>35.0</td>\n",
       "      <td>0</td>\n",
       "      <td>Web</td>\n",
       "      <td>Mac Desktop</td>\n",
       "      <td>Firefox</td>\n",
       "      <td>FR</td>\n",
       "      <td>5</td>\n",
       "      <td>5</td>\n",
       "      <td>False</td>\n",
       "      <td>...</td>\n",
       "      <td>False</td>\n",
       "      <td>False</td>\n",
       "      <td>True</td>\n",
       "      <td>False</td>\n",
       "      <td>False</td>\n",
       "      <td>False</td>\n",
       "      <td>True</td>\n",
       "      <td>False</td>\n",
       "      <td>False</td>\n",
       "      <td>False</td>\n",
       "    </tr>\n",
       "  </tbody>\n",
       "</table>\n",
       "<p>5 rows × 39 columns</p>\n",
       "</div>"
      ],
      "text/plain": [
       "           id   age  signup_flow signup_app first_device_type first_browser  \\\n",
       "0  q9pfrw6si7  27.0            0        Web   Windows Desktop       Firefox   \n",
       "1  9bzevnmq4v  33.0            0        Web       Mac Desktop        Chrome   \n",
       "2  kux37wpcfo  52.0            0        Web       Mac Desktop        Safari   \n",
       "3  qqnj6ohayo  45.0            0        Web       Mac Desktop        Safari   \n",
       "4  nw97iy2dzi  35.0            0        Web       Mac Desktop       Firefox   \n",
       "\n",
       "  country_destination  account_created_month  first_active_month  \\\n",
       "0                  ES                      2                   2   \n",
       "1                 NDF                      3                   3   \n",
       "2                 NDF                      6                   6   \n",
       "3                 NDF                      8                   8   \n",
       "4                  FR                      5                   5   \n",
       "\n",
       "   Gender_Unknown  ...  bing_provider  craiglist_provider  direct_provider  \\\n",
       "0           False  ...          False               False             True   \n",
       "1            True  ...          False               False             True   \n",
       "2           False  ...          False               False             True   \n",
       "3           False  ...          False               False             True   \n",
       "4           False  ...          False               False             True   \n",
       "\n",
       "   facebook_provider  google_provider  other_providers  linked_tracker  \\\n",
       "0              False            False            False           False   \n",
       "1              False            False            False           False   \n",
       "2              False            False            False           False   \n",
       "3              False            False            False           False   \n",
       "4              False            False            False            True   \n",
       "\n",
       "   omg_tracker  other_tracker  untracked  \n",
       "0        False          False       True  \n",
       "1        False          False       True  \n",
       "2        False          False       True  \n",
       "3        False          False       True  \n",
       "4        False          False      False  \n",
       "\n",
       "[5 rows x 39 columns]"
      ]
     },
     "execution_count": 109,
     "metadata": {},
     "output_type": "execute_result"
    }
   ],
   "source": [
    "val_users.head()"
   ]
  },
  {
   "cell_type": "code",
   "execution_count": null,
   "metadata": {},
   "outputs": [],
   "source": [
    "sns.countplot(train_users[\"signup_app\"])"
   ]
  },
  {
   "cell_type": "code",
   "execution_count": 110,
   "metadata": {},
   "outputs": [],
   "source": [
    "ohe_app = pd.get_dummies(train_users[\"signup_app\"]) \n",
    "train_users = pd.concat([train_users,ohe_app],axis = 1) "
   ]
  },
  {
   "cell_type": "code",
   "execution_count": 111,
   "metadata": {},
   "outputs": [
    {
     "data": {
      "text/html": [
       "<div>\n",
       "<style scoped>\n",
       "    .dataframe tbody tr th:only-of-type {\n",
       "        vertical-align: middle;\n",
       "    }\n",
       "\n",
       "    .dataframe tbody tr th {\n",
       "        vertical-align: top;\n",
       "    }\n",
       "\n",
       "    .dataframe thead th {\n",
       "        text-align: right;\n",
       "    }\n",
       "</style>\n",
       "<table border=\"1\" class=\"dataframe\">\n",
       "  <thead>\n",
       "    <tr style=\"text-align: right;\">\n",
       "      <th></th>\n",
       "      <th>id</th>\n",
       "      <th>age</th>\n",
       "      <th>signup_flow</th>\n",
       "      <th>signup_app</th>\n",
       "      <th>first_device_type</th>\n",
       "      <th>first_browser</th>\n",
       "      <th>country_destination</th>\n",
       "      <th>account_created_month</th>\n",
       "      <th>first_active_month</th>\n",
       "      <th>Gender_Unknown</th>\n",
       "      <th>...</th>\n",
       "      <th>google_provider</th>\n",
       "      <th>other_providers</th>\n",
       "      <th>linked_tracker</th>\n",
       "      <th>omg_tracker</th>\n",
       "      <th>other_tracker</th>\n",
       "      <th>untracked</th>\n",
       "      <th>Android</th>\n",
       "      <th>Moweb</th>\n",
       "      <th>Web</th>\n",
       "      <th>iOS</th>\n",
       "    </tr>\n",
       "  </thead>\n",
       "  <tbody>\n",
       "    <tr>\n",
       "      <th>0</th>\n",
       "      <td>85nv87tbl4</td>\n",
       "      <td>31.0</td>\n",
       "      <td>0</td>\n",
       "      <td>Web</td>\n",
       "      <td>Mac Desktop</td>\n",
       "      <td>Chrome</td>\n",
       "      <td>US</td>\n",
       "      <td>1</td>\n",
       "      <td>1</td>\n",
       "      <td>False</td>\n",
       "      <td>...</td>\n",
       "      <td>False</td>\n",
       "      <td>False</td>\n",
       "      <td>False</td>\n",
       "      <td>False</td>\n",
       "      <td>False</td>\n",
       "      <td>True</td>\n",
       "      <td>False</td>\n",
       "      <td>False</td>\n",
       "      <td>True</td>\n",
       "      <td>False</td>\n",
       "    </tr>\n",
       "    <tr>\n",
       "      <th>1</th>\n",
       "      <td>svwo8gsij4</td>\n",
       "      <td>37.0</td>\n",
       "      <td>3</td>\n",
       "      <td>Web</td>\n",
       "      <td>Mac Desktop</td>\n",
       "      <td>Chrome</td>\n",
       "      <td>US</td>\n",
       "      <td>5</td>\n",
       "      <td>5</td>\n",
       "      <td>False</td>\n",
       "      <td>...</td>\n",
       "      <td>False</td>\n",
       "      <td>False</td>\n",
       "      <td>True</td>\n",
       "      <td>False</td>\n",
       "      <td>False</td>\n",
       "      <td>False</td>\n",
       "      <td>False</td>\n",
       "      <td>False</td>\n",
       "      <td>True</td>\n",
       "      <td>False</td>\n",
       "    </tr>\n",
       "    <tr>\n",
       "      <th>2</th>\n",
       "      <td>35ja03ym7f</td>\n",
       "      <td>33.0</td>\n",
       "      <td>0</td>\n",
       "      <td>Web</td>\n",
       "      <td>Mac Desktop</td>\n",
       "      <td>Chrome</td>\n",
       "      <td>NDF</td>\n",
       "      <td>10</td>\n",
       "      <td>10</td>\n",
       "      <td>True</td>\n",
       "      <td>...</td>\n",
       "      <td>False</td>\n",
       "      <td>False</td>\n",
       "      <td>False</td>\n",
       "      <td>False</td>\n",
       "      <td>False</td>\n",
       "      <td>True</td>\n",
       "      <td>False</td>\n",
       "      <td>False</td>\n",
       "      <td>True</td>\n",
       "      <td>False</td>\n",
       "    </tr>\n",
       "    <tr>\n",
       "      <th>3</th>\n",
       "      <td>ograyifw83</td>\n",
       "      <td>33.0</td>\n",
       "      <td>0</td>\n",
       "      <td>Web</td>\n",
       "      <td>Windows Desktop</td>\n",
       "      <td>Chrome</td>\n",
       "      <td>NDF</td>\n",
       "      <td>6</td>\n",
       "      <td>6</td>\n",
       "      <td>True</td>\n",
       "      <td>...</td>\n",
       "      <td>True</td>\n",
       "      <td>False</td>\n",
       "      <td>False</td>\n",
       "      <td>True</td>\n",
       "      <td>False</td>\n",
       "      <td>False</td>\n",
       "      <td>False</td>\n",
       "      <td>False</td>\n",
       "      <td>True</td>\n",
       "      <td>False</td>\n",
       "    </tr>\n",
       "    <tr>\n",
       "      <th>4</th>\n",
       "      <td>a8tr2x328d</td>\n",
       "      <td>28.0</td>\n",
       "      <td>0</td>\n",
       "      <td>Web</td>\n",
       "      <td>Mac Desktop</td>\n",
       "      <td>Chrome</td>\n",
       "      <td>US</td>\n",
       "      <td>5</td>\n",
       "      <td>5</td>\n",
       "      <td>False</td>\n",
       "      <td>...</td>\n",
       "      <td>True</td>\n",
       "      <td>False</td>\n",
       "      <td>False</td>\n",
       "      <td>False</td>\n",
       "      <td>False</td>\n",
       "      <td>True</td>\n",
       "      <td>False</td>\n",
       "      <td>False</td>\n",
       "      <td>True</td>\n",
       "      <td>False</td>\n",
       "    </tr>\n",
       "  </tbody>\n",
       "</table>\n",
       "<p>5 rows × 43 columns</p>\n",
       "</div>"
      ],
      "text/plain": [
       "           id   age  signup_flow signup_app first_device_type first_browser  \\\n",
       "0  85nv87tbl4  31.0            0        Web       Mac Desktop        Chrome   \n",
       "1  svwo8gsij4  37.0            3        Web       Mac Desktop        Chrome   \n",
       "2  35ja03ym7f  33.0            0        Web       Mac Desktop        Chrome   \n",
       "3  ograyifw83  33.0            0        Web   Windows Desktop        Chrome   \n",
       "4  a8tr2x328d  28.0            0        Web       Mac Desktop        Chrome   \n",
       "\n",
       "  country_destination  account_created_month  first_active_month  \\\n",
       "0                  US                      1                   1   \n",
       "1                  US                      5                   5   \n",
       "2                 NDF                     10                  10   \n",
       "3                 NDF                      6                   6   \n",
       "4                  US                      5                   5   \n",
       "\n",
       "   Gender_Unknown  ...  google_provider  other_providers  linked_tracker  \\\n",
       "0           False  ...            False            False           False   \n",
       "1           False  ...            False            False            True   \n",
       "2            True  ...            False            False           False   \n",
       "3            True  ...             True            False           False   \n",
       "4           False  ...             True            False           False   \n",
       "\n",
       "   omg_tracker  other_tracker  untracked  Android  Moweb   Web    iOS  \n",
       "0        False          False       True    False  False  True  False  \n",
       "1        False          False      False    False  False  True  False  \n",
       "2        False          False       True    False  False  True  False  \n",
       "3         True          False      False    False  False  True  False  \n",
       "4        False          False       True    False  False  True  False  \n",
       "\n",
       "[5 rows x 43 columns]"
      ]
     },
     "execution_count": 111,
     "metadata": {},
     "output_type": "execute_result"
    }
   ],
   "source": [
    "train_users.head()"
   ]
  },
  {
   "cell_type": "code",
   "execution_count": 112,
   "metadata": {},
   "outputs": [],
   "source": [
    "train_users.rename({'Moweb':'Mobile_Web'},axis = 1, inplace = True)"
   ]
  },
  {
   "cell_type": "code",
   "execution_count": 113,
   "metadata": {},
   "outputs": [],
   "source": [
    "train_users.drop(\"signup_app\", axis = 1, inplace = True)"
   ]
  },
  {
   "cell_type": "code",
   "execution_count": 114,
   "metadata": {},
   "outputs": [
    {
     "data": {
      "text/html": [
       "<div>\n",
       "<style scoped>\n",
       "    .dataframe tbody tr th:only-of-type {\n",
       "        vertical-align: middle;\n",
       "    }\n",
       "\n",
       "    .dataframe tbody tr th {\n",
       "        vertical-align: top;\n",
       "    }\n",
       "\n",
       "    .dataframe thead th {\n",
       "        text-align: right;\n",
       "    }\n",
       "</style>\n",
       "<table border=\"1\" class=\"dataframe\">\n",
       "  <thead>\n",
       "    <tr style=\"text-align: right;\">\n",
       "      <th></th>\n",
       "      <th>id</th>\n",
       "      <th>age</th>\n",
       "      <th>signup_flow</th>\n",
       "      <th>first_device_type</th>\n",
       "      <th>first_browser</th>\n",
       "      <th>country_destination</th>\n",
       "      <th>account_created_month</th>\n",
       "      <th>first_active_month</th>\n",
       "      <th>Gender_Unknown</th>\n",
       "      <th>Gender_Female</th>\n",
       "      <th>...</th>\n",
       "      <th>google_provider</th>\n",
       "      <th>other_providers</th>\n",
       "      <th>linked_tracker</th>\n",
       "      <th>omg_tracker</th>\n",
       "      <th>other_tracker</th>\n",
       "      <th>untracked</th>\n",
       "      <th>Android</th>\n",
       "      <th>Mobile_Web</th>\n",
       "      <th>Web</th>\n",
       "      <th>iOS</th>\n",
       "    </tr>\n",
       "  </thead>\n",
       "  <tbody>\n",
       "    <tr>\n",
       "      <th>0</th>\n",
       "      <td>85nv87tbl4</td>\n",
       "      <td>31.0</td>\n",
       "      <td>0</td>\n",
       "      <td>Mac Desktop</td>\n",
       "      <td>Chrome</td>\n",
       "      <td>US</td>\n",
       "      <td>1</td>\n",
       "      <td>1</td>\n",
       "      <td>False</td>\n",
       "      <td>False</td>\n",
       "      <td>...</td>\n",
       "      <td>False</td>\n",
       "      <td>False</td>\n",
       "      <td>False</td>\n",
       "      <td>False</td>\n",
       "      <td>False</td>\n",
       "      <td>True</td>\n",
       "      <td>False</td>\n",
       "      <td>False</td>\n",
       "      <td>True</td>\n",
       "      <td>False</td>\n",
       "    </tr>\n",
       "    <tr>\n",
       "      <th>1</th>\n",
       "      <td>svwo8gsij4</td>\n",
       "      <td>37.0</td>\n",
       "      <td>3</td>\n",
       "      <td>Mac Desktop</td>\n",
       "      <td>Chrome</td>\n",
       "      <td>US</td>\n",
       "      <td>5</td>\n",
       "      <td>5</td>\n",
       "      <td>False</td>\n",
       "      <td>True</td>\n",
       "      <td>...</td>\n",
       "      <td>False</td>\n",
       "      <td>False</td>\n",
       "      <td>True</td>\n",
       "      <td>False</td>\n",
       "      <td>False</td>\n",
       "      <td>False</td>\n",
       "      <td>False</td>\n",
       "      <td>False</td>\n",
       "      <td>True</td>\n",
       "      <td>False</td>\n",
       "    </tr>\n",
       "    <tr>\n",
       "      <th>2</th>\n",
       "      <td>35ja03ym7f</td>\n",
       "      <td>33.0</td>\n",
       "      <td>0</td>\n",
       "      <td>Mac Desktop</td>\n",
       "      <td>Chrome</td>\n",
       "      <td>NDF</td>\n",
       "      <td>10</td>\n",
       "      <td>10</td>\n",
       "      <td>True</td>\n",
       "      <td>False</td>\n",
       "      <td>...</td>\n",
       "      <td>False</td>\n",
       "      <td>False</td>\n",
       "      <td>False</td>\n",
       "      <td>False</td>\n",
       "      <td>False</td>\n",
       "      <td>True</td>\n",
       "      <td>False</td>\n",
       "      <td>False</td>\n",
       "      <td>True</td>\n",
       "      <td>False</td>\n",
       "    </tr>\n",
       "    <tr>\n",
       "      <th>3</th>\n",
       "      <td>ograyifw83</td>\n",
       "      <td>33.0</td>\n",
       "      <td>0</td>\n",
       "      <td>Windows Desktop</td>\n",
       "      <td>Chrome</td>\n",
       "      <td>NDF</td>\n",
       "      <td>6</td>\n",
       "      <td>6</td>\n",
       "      <td>True</td>\n",
       "      <td>False</td>\n",
       "      <td>...</td>\n",
       "      <td>True</td>\n",
       "      <td>False</td>\n",
       "      <td>False</td>\n",
       "      <td>True</td>\n",
       "      <td>False</td>\n",
       "      <td>False</td>\n",
       "      <td>False</td>\n",
       "      <td>False</td>\n",
       "      <td>True</td>\n",
       "      <td>False</td>\n",
       "    </tr>\n",
       "    <tr>\n",
       "      <th>4</th>\n",
       "      <td>a8tr2x328d</td>\n",
       "      <td>28.0</td>\n",
       "      <td>0</td>\n",
       "      <td>Mac Desktop</td>\n",
       "      <td>Chrome</td>\n",
       "      <td>US</td>\n",
       "      <td>5</td>\n",
       "      <td>5</td>\n",
       "      <td>False</td>\n",
       "      <td>True</td>\n",
       "      <td>...</td>\n",
       "      <td>True</td>\n",
       "      <td>False</td>\n",
       "      <td>False</td>\n",
       "      <td>False</td>\n",
       "      <td>False</td>\n",
       "      <td>True</td>\n",
       "      <td>False</td>\n",
       "      <td>False</td>\n",
       "      <td>True</td>\n",
       "      <td>False</td>\n",
       "    </tr>\n",
       "  </tbody>\n",
       "</table>\n",
       "<p>5 rows × 42 columns</p>\n",
       "</div>"
      ],
      "text/plain": [
       "           id   age  signup_flow first_device_type first_browser  \\\n",
       "0  85nv87tbl4  31.0            0       Mac Desktop        Chrome   \n",
       "1  svwo8gsij4  37.0            3       Mac Desktop        Chrome   \n",
       "2  35ja03ym7f  33.0            0       Mac Desktop        Chrome   \n",
       "3  ograyifw83  33.0            0   Windows Desktop        Chrome   \n",
       "4  a8tr2x328d  28.0            0       Mac Desktop        Chrome   \n",
       "\n",
       "  country_destination  account_created_month  first_active_month  \\\n",
       "0                  US                      1                   1   \n",
       "1                  US                      5                   5   \n",
       "2                 NDF                     10                  10   \n",
       "3                 NDF                      6                   6   \n",
       "4                  US                      5                   5   \n",
       "\n",
       "   Gender_Unknown  Gender_Female  ...  google_provider  other_providers  \\\n",
       "0           False          False  ...            False            False   \n",
       "1           False           True  ...            False            False   \n",
       "2            True          False  ...            False            False   \n",
       "3            True          False  ...             True            False   \n",
       "4           False           True  ...             True            False   \n",
       "\n",
       "   linked_tracker  omg_tracker  other_tracker  untracked  Android  Mobile_Web  \\\n",
       "0           False        False          False       True    False       False   \n",
       "1            True        False          False      False    False       False   \n",
       "2           False        False          False       True    False       False   \n",
       "3           False         True          False      False    False       False   \n",
       "4           False        False          False       True    False       False   \n",
       "\n",
       "    Web    iOS  \n",
       "0  True  False  \n",
       "1  True  False  \n",
       "2  True  False  \n",
       "3  True  False  \n",
       "4  True  False  \n",
       "\n",
       "[5 rows x 42 columns]"
      ]
     },
     "execution_count": 114,
     "metadata": {},
     "output_type": "execute_result"
    }
   ],
   "source": [
    "train_users.head()"
   ]
  },
  {
   "cell_type": "code",
   "execution_count": 115,
   "metadata": {},
   "outputs": [],
   "source": [
    "ohe_app = pd.get_dummies(val_users[\"signup_app\"]) \n",
    "val_users = pd.concat([val_users,ohe_app],axis = 1) \n",
    "val_users.rename({'Moweb':'Mobile_Web'},axis = 1, inplace = True)\n",
    "val_users.drop(\"signup_app\", axis = 1, inplace = True)"
   ]
  },
  {
   "cell_type": "code",
   "execution_count": 116,
   "metadata": {},
   "outputs": [
    {
     "data": {
      "text/plain": [
       "first_device_type\n",
       "Mac Desktop           70979\n",
       "Windows Desktop       57784\n",
       "iPhone                16538\n",
       "iPad                  11375\n",
       "Other/Unknown          8542\n",
       "Android Phone          2265\n",
       "Android Tablet         1029\n",
       "Desktop (Other)         924\n",
       "SmartPhone (Other)       61\n",
       "Name: count, dtype: int64"
      ]
     },
     "execution_count": 116,
     "metadata": {},
     "output_type": "execute_result"
    }
   ],
   "source": [
    "train_users[\"first_device_type\"].value_counts()"
   ]
  },
  {
   "cell_type": "code",
   "execution_count": 117,
   "metadata": {},
   "outputs": [],
   "source": [
    "def device(s):\n",
    "    \n",
    "    if s == \"Mac Desktop\" or s == \"Windows Desktop\" or s == \"Desktop (Other)\":\n",
    "        return \"Desktop\"\n",
    "    elif s == \"iPhone\" or s == \"Android Phone\" or s == \"SmartPhone (Other)\":\n",
    "        return \"Phone\"\n",
    "    elif s == \"iPad\" or s == \"Android Tablet\":\n",
    "        return \"Tablet\"\n",
    "    else:\n",
    "        return \"Other_Device\""
   ]
  },
  {
   "cell_type": "code",
   "execution_count": 118,
   "metadata": {},
   "outputs": [],
   "source": [
    "train_users[\"first_device_type\"] = train_users[\"first_device_type\"].apply(device)"
   ]
  },
  {
   "cell_type": "code",
   "execution_count": null,
   "metadata": {},
   "outputs": [],
   "source": [
    "sns.countplot(train_users[\"first_device_type\"])"
   ]
  },
  {
   "cell_type": "code",
   "execution_count": 119,
   "metadata": {},
   "outputs": [],
   "source": [
    "ohe_device = pd.get_dummies(train_users[\"first_device_type\"]) \n",
    "train_users = pd.concat([train_users,ohe_device],axis = 1) \n",
    "train_users.drop(\"first_device_type\", axis = 1, inplace = True)"
   ]
  },
  {
   "cell_type": "code",
   "execution_count": 120,
   "metadata": {},
   "outputs": [],
   "source": [
    "val_users[\"first_device_type\"] = val_users[\"first_device_type\"].apply(device)\n",
    "ohe_device = pd.get_dummies(val_users[\"first_device_type\"]) \n",
    "val_users = pd.concat([val_users,ohe_device],axis = 1) \n",
    "val_users.drop(\"first_device_type\", axis = 1, inplace = True)"
   ]
  },
  {
   "cell_type": "code",
   "execution_count": 121,
   "metadata": {},
   "outputs": [
    {
     "data": {
      "text/plain": [
       "first_browser\n",
       "Chrome                  50664\n",
       "Safari                  35704\n",
       "Firefox                 26741\n",
       "-unknown-               21789\n",
       "IE                      16753\n",
       "Mobile Safari           15270\n",
       "Chrome Mobile            1053\n",
       "Android Browser           685\n",
       "AOL Explorer              188\n",
       "Opera                     151\n",
       "Silk                       99\n",
       "Chromium                   55\n",
       "BlackBerry Browser         42\n",
       "Maxthon                    41\n",
       "Apple Mail                 30\n",
       "IE Mobile                  26\n",
       "Mobile Firefox             25\n",
       "Sogou Explorer             25\n",
       "SiteKiosk                  23\n",
       "RockMelt                   21\n",
       "Iron                       14\n",
       "Pale Moon                  11\n",
       "Yandex.Browser              9\n",
       "IceWeasel                   9\n",
       "Camino                      8\n",
       "CometBird                   8\n",
       "TenFourFox                  7\n",
       "CoolNovo                    6\n",
       "wOSBrowser                  6\n",
       "SeaMonkey                   6\n",
       "Opera Mini                  4\n",
       "Avant Browser               3\n",
       "SlimBrowser                 2\n",
       "TheWorld Browser            2\n",
       "Flock                       2\n",
       "PS Vita browser             1\n",
       "Palm Pre web browser        1\n",
       "IceDragon                   1\n",
       "NetNewsWire                 1\n",
       "Epic                        1\n",
       "Google Earth                1\n",
       "Kindle Browser              1\n",
       "Outlook 2007                1\n",
       "Arora                       1\n",
       "Comodo Dragon               1\n",
       "Googlebot                   1\n",
       "Crazy Browser               1\n",
       "Opera Mobile                1\n",
       "Mozilla                     1\n",
       "OmniWeb                     1\n",
       "Name: count, dtype: int64"
      ]
     },
     "execution_count": 121,
     "metadata": {},
     "output_type": "execute_result"
    }
   ],
   "source": [
    "train_users[\"first_browser\"].value_counts()"
   ]
  },
  {
   "cell_type": "code",
   "execution_count": 122,
   "metadata": {},
   "outputs": [],
   "source": [
    "def browser(s):\n",
    "    \n",
    "    if s == \"Mobile Safari\":\n",
    "        return \"Safari\"\n",
    "    elif s == \"Safari\":\n",
    "        return \"Safari\"\n",
    "    elif s == \"Chrome Mobile\":\n",
    "        return \"Chrome\"\n",
    "    elif s == \"Chrome\":\n",
    "        return \"Chrome\"\n",
    "    elif s == \"Android Browser\":\n",
    "        return \"Chrome\"\n",
    "    elif s == \"Firefox\":\n",
    "        return \"Firefox\"\n",
    "    elif s == \"IE\":\n",
    "        return \"IE\"\n",
    "    else:\n",
    "        return \"Other Browser\""
   ]
  },
  {
   "cell_type": "code",
   "execution_count": 123,
   "metadata": {},
   "outputs": [],
   "source": [
    "train_users[\"first_browser\"] = train_users[\"first_browser\"].apply(browser)"
   ]
  },
  {
   "cell_type": "code",
   "execution_count": null,
   "metadata": {},
   "outputs": [],
   "source": [
    "sns.countplot(train_users[\"first_browser\"]) "
   ]
  },
  {
   "cell_type": "code",
   "execution_count": 124,
   "metadata": {},
   "outputs": [],
   "source": [
    "ohe_browser = pd.get_dummies(train_users[\"first_browser\"]) \n",
    "train_users = pd.concat([train_users,ohe_browser],axis = 1) \n",
    "train_users.drop(\"first_browser\", axis = 1, inplace = True)"
   ]
  },
  {
   "cell_type": "code",
   "execution_count": 125,
   "metadata": {},
   "outputs": [],
   "source": [
    "val_users[\"first_browser\"] = val_users[\"first_browser\"].apply(browser)\n",
    "ohe_browser = pd.get_dummies(val_users[\"first_browser\"]) \n",
    "val_users = pd.concat([val_users,ohe_browser],axis = 1) \n",
    "val_users.drop(\"first_browser\", axis = 1, inplace = True)"
   ]
  },
  {
   "cell_type": "code",
   "execution_count": 126,
   "metadata": {},
   "outputs": [
    {
     "data": {
      "text/html": [
       "<div>\n",
       "<style scoped>\n",
       "    .dataframe tbody tr th:only-of-type {\n",
       "        vertical-align: middle;\n",
       "    }\n",
       "\n",
       "    .dataframe tbody tr th {\n",
       "        vertical-align: top;\n",
       "    }\n",
       "\n",
       "    .dataframe thead th {\n",
       "        text-align: right;\n",
       "    }\n",
       "</style>\n",
       "<table border=\"1\" class=\"dataframe\">\n",
       "  <thead>\n",
       "    <tr style=\"text-align: right;\">\n",
       "      <th></th>\n",
       "      <th>id</th>\n",
       "      <th>age</th>\n",
       "      <th>signup_flow</th>\n",
       "      <th>country_destination</th>\n",
       "      <th>account_created_month</th>\n",
       "      <th>first_active_month</th>\n",
       "      <th>Gender_Unknown</th>\n",
       "      <th>Gender_Female</th>\n",
       "      <th>Gender_Male</th>\n",
       "      <th>Gender_Other</th>\n",
       "      <th>...</th>\n",
       "      <th>iOS</th>\n",
       "      <th>Desktop</th>\n",
       "      <th>Other_Device</th>\n",
       "      <th>Phone</th>\n",
       "      <th>Tablet</th>\n",
       "      <th>Chrome</th>\n",
       "      <th>Firefox</th>\n",
       "      <th>IE</th>\n",
       "      <th>Other Browser</th>\n",
       "      <th>Safari</th>\n",
       "    </tr>\n",
       "  </thead>\n",
       "  <tbody>\n",
       "    <tr>\n",
       "      <th>0</th>\n",
       "      <td>85nv87tbl4</td>\n",
       "      <td>31.0</td>\n",
       "      <td>0</td>\n",
       "      <td>US</td>\n",
       "      <td>1</td>\n",
       "      <td>1</td>\n",
       "      <td>False</td>\n",
       "      <td>False</td>\n",
       "      <td>True</td>\n",
       "      <td>False</td>\n",
       "      <td>...</td>\n",
       "      <td>False</td>\n",
       "      <td>True</td>\n",
       "      <td>False</td>\n",
       "      <td>False</td>\n",
       "      <td>False</td>\n",
       "      <td>True</td>\n",
       "      <td>False</td>\n",
       "      <td>False</td>\n",
       "      <td>False</td>\n",
       "      <td>False</td>\n",
       "    </tr>\n",
       "    <tr>\n",
       "      <th>1</th>\n",
       "      <td>svwo8gsij4</td>\n",
       "      <td>37.0</td>\n",
       "      <td>3</td>\n",
       "      <td>US</td>\n",
       "      <td>5</td>\n",
       "      <td>5</td>\n",
       "      <td>False</td>\n",
       "      <td>True</td>\n",
       "      <td>False</td>\n",
       "      <td>False</td>\n",
       "      <td>...</td>\n",
       "      <td>False</td>\n",
       "      <td>True</td>\n",
       "      <td>False</td>\n",
       "      <td>False</td>\n",
       "      <td>False</td>\n",
       "      <td>True</td>\n",
       "      <td>False</td>\n",
       "      <td>False</td>\n",
       "      <td>False</td>\n",
       "      <td>False</td>\n",
       "    </tr>\n",
       "    <tr>\n",
       "      <th>2</th>\n",
       "      <td>35ja03ym7f</td>\n",
       "      <td>33.0</td>\n",
       "      <td>0</td>\n",
       "      <td>NDF</td>\n",
       "      <td>10</td>\n",
       "      <td>10</td>\n",
       "      <td>True</td>\n",
       "      <td>False</td>\n",
       "      <td>False</td>\n",
       "      <td>False</td>\n",
       "      <td>...</td>\n",
       "      <td>False</td>\n",
       "      <td>True</td>\n",
       "      <td>False</td>\n",
       "      <td>False</td>\n",
       "      <td>False</td>\n",
       "      <td>True</td>\n",
       "      <td>False</td>\n",
       "      <td>False</td>\n",
       "      <td>False</td>\n",
       "      <td>False</td>\n",
       "    </tr>\n",
       "    <tr>\n",
       "      <th>3</th>\n",
       "      <td>ograyifw83</td>\n",
       "      <td>33.0</td>\n",
       "      <td>0</td>\n",
       "      <td>NDF</td>\n",
       "      <td>6</td>\n",
       "      <td>6</td>\n",
       "      <td>True</td>\n",
       "      <td>False</td>\n",
       "      <td>False</td>\n",
       "      <td>False</td>\n",
       "      <td>...</td>\n",
       "      <td>False</td>\n",
       "      <td>True</td>\n",
       "      <td>False</td>\n",
       "      <td>False</td>\n",
       "      <td>False</td>\n",
       "      <td>True</td>\n",
       "      <td>False</td>\n",
       "      <td>False</td>\n",
       "      <td>False</td>\n",
       "      <td>False</td>\n",
       "    </tr>\n",
       "    <tr>\n",
       "      <th>4</th>\n",
       "      <td>a8tr2x328d</td>\n",
       "      <td>28.0</td>\n",
       "      <td>0</td>\n",
       "      <td>US</td>\n",
       "      <td>5</td>\n",
       "      <td>5</td>\n",
       "      <td>False</td>\n",
       "      <td>True</td>\n",
       "      <td>False</td>\n",
       "      <td>False</td>\n",
       "      <td>...</td>\n",
       "      <td>False</td>\n",
       "      <td>True</td>\n",
       "      <td>False</td>\n",
       "      <td>False</td>\n",
       "      <td>False</td>\n",
       "      <td>True</td>\n",
       "      <td>False</td>\n",
       "      <td>False</td>\n",
       "      <td>False</td>\n",
       "      <td>False</td>\n",
       "    </tr>\n",
       "  </tbody>\n",
       "</table>\n",
       "<p>5 rows × 49 columns</p>\n",
       "</div>"
      ],
      "text/plain": [
       "           id   age  signup_flow country_destination  account_created_month  \\\n",
       "0  85nv87tbl4  31.0            0                  US                      1   \n",
       "1  svwo8gsij4  37.0            3                  US                      5   \n",
       "2  35ja03ym7f  33.0            0                 NDF                     10   \n",
       "3  ograyifw83  33.0            0                 NDF                      6   \n",
       "4  a8tr2x328d  28.0            0                  US                      5   \n",
       "\n",
       "   first_active_month  Gender_Unknown  Gender_Female  Gender_Male  \\\n",
       "0                   1           False          False         True   \n",
       "1                   5           False           True        False   \n",
       "2                  10            True          False        False   \n",
       "3                   6            True          False        False   \n",
       "4                   5           False           True        False   \n",
       "\n",
       "   Gender_Other  ...    iOS  Desktop  Other_Device  Phone  Tablet  Chrome  \\\n",
       "0         False  ...  False     True         False  False   False    True   \n",
       "1         False  ...  False     True         False  False   False    True   \n",
       "2         False  ...  False     True         False  False   False    True   \n",
       "3         False  ...  False     True         False  False   False    True   \n",
       "4         False  ...  False     True         False  False   False    True   \n",
       "\n",
       "   Firefox     IE  Other Browser  Safari  \n",
       "0    False  False          False   False  \n",
       "1    False  False          False   False  \n",
       "2    False  False          False   False  \n",
       "3    False  False          False   False  \n",
       "4    False  False          False   False  \n",
       "\n",
       "[5 rows x 49 columns]"
      ]
     },
     "execution_count": 126,
     "metadata": {},
     "output_type": "execute_result"
    }
   ],
   "source": [
    "train_users.head()"
   ]
  },
  {
   "cell_type": "code",
   "execution_count": 127,
   "metadata": {},
   "outputs": [
    {
     "data": {
      "text/plain": [
       "(169497, 49)"
      ]
     },
     "execution_count": 127,
     "metadata": {},
     "output_type": "execute_result"
    }
   ],
   "source": [
    "train_users.shape"
   ]
  },
  {
   "cell_type": "code",
   "execution_count": 128,
   "metadata": {},
   "outputs": [
    {
     "data": {
      "text/plain": [
       "(42362, 49)"
      ]
     },
     "execution_count": 128,
     "metadata": {},
     "output_type": "execute_result"
    }
   ],
   "source": [
    "val_users.shape"
   ]
  },
  {
   "cell_type": "markdown",
   "metadata": {},
   "source": [
    "*Dropping id column since it is not a required field during training.*"
   ]
  },
  {
   "cell_type": "code",
   "execution_count": 129,
   "metadata": {},
   "outputs": [],
   "source": [
    "train_users.drop(\"id\", axis = 1, inplace = True)"
   ]
  },
  {
   "cell_type": "code",
   "execution_count": 130,
   "metadata": {},
   "outputs": [],
   "source": [
    "val_users.drop(\"id\", axis = 1, inplace = True)"
   ]
  },
  {
   "cell_type": "markdown",
   "metadata": {},
   "source": [
    "*y_train and y_val stands for target variable.*"
   ]
  },
  {
   "cell_type": "code",
   "execution_count": 131,
   "metadata": {},
   "outputs": [],
   "source": [
    "y_train = train_users[\"country_destination\"]\n",
    "y_val = val_users[\"country_destination\"]"
   ]
  },
  {
   "cell_type": "code",
   "execution_count": 132,
   "metadata": {},
   "outputs": [],
   "source": [
    "train_users.drop(\"country_destination\", axis = 1, inplace = True)\n",
    "val_users.drop(\"country_destination\", axis = 1, inplace = True)"
   ]
  },
  {
   "cell_type": "code",
   "execution_count": 133,
   "metadata": {},
   "outputs": [
    {
     "data": {
      "text/html": [
       "<div>\n",
       "<style scoped>\n",
       "    .dataframe tbody tr th:only-of-type {\n",
       "        vertical-align: middle;\n",
       "    }\n",
       "\n",
       "    .dataframe tbody tr th {\n",
       "        vertical-align: top;\n",
       "    }\n",
       "\n",
       "    .dataframe thead th {\n",
       "        text-align: right;\n",
       "    }\n",
       "</style>\n",
       "<table border=\"1\" class=\"dataframe\">\n",
       "  <thead>\n",
       "    <tr style=\"text-align: right;\">\n",
       "      <th></th>\n",
       "      <th>age</th>\n",
       "      <th>signup_flow</th>\n",
       "      <th>account_created_month</th>\n",
       "      <th>first_active_month</th>\n",
       "      <th>Gender_Unknown</th>\n",
       "      <th>Gender_Female</th>\n",
       "      <th>Gender_Male</th>\n",
       "      <th>Gender_Other</th>\n",
       "      <th>Signup_Basic</th>\n",
       "      <th>Signup_Facebook</th>\n",
       "      <th>...</th>\n",
       "      <th>iOS</th>\n",
       "      <th>Desktop</th>\n",
       "      <th>Other_Device</th>\n",
       "      <th>Phone</th>\n",
       "      <th>Tablet</th>\n",
       "      <th>Chrome</th>\n",
       "      <th>Firefox</th>\n",
       "      <th>IE</th>\n",
       "      <th>Other Browser</th>\n",
       "      <th>Safari</th>\n",
       "    </tr>\n",
       "  </thead>\n",
       "  <tbody>\n",
       "    <tr>\n",
       "      <th>0</th>\n",
       "      <td>31.0</td>\n",
       "      <td>0</td>\n",
       "      <td>1</td>\n",
       "      <td>1</td>\n",
       "      <td>False</td>\n",
       "      <td>False</td>\n",
       "      <td>True</td>\n",
       "      <td>False</td>\n",
       "      <td>True</td>\n",
       "      <td>False</td>\n",
       "      <td>...</td>\n",
       "      <td>False</td>\n",
       "      <td>True</td>\n",
       "      <td>False</td>\n",
       "      <td>False</td>\n",
       "      <td>False</td>\n",
       "      <td>True</td>\n",
       "      <td>False</td>\n",
       "      <td>False</td>\n",
       "      <td>False</td>\n",
       "      <td>False</td>\n",
       "    </tr>\n",
       "    <tr>\n",
       "      <th>1</th>\n",
       "      <td>37.0</td>\n",
       "      <td>3</td>\n",
       "      <td>5</td>\n",
       "      <td>5</td>\n",
       "      <td>False</td>\n",
       "      <td>True</td>\n",
       "      <td>False</td>\n",
       "      <td>False</td>\n",
       "      <td>True</td>\n",
       "      <td>False</td>\n",
       "      <td>...</td>\n",
       "      <td>False</td>\n",
       "      <td>True</td>\n",
       "      <td>False</td>\n",
       "      <td>False</td>\n",
       "      <td>False</td>\n",
       "      <td>True</td>\n",
       "      <td>False</td>\n",
       "      <td>False</td>\n",
       "      <td>False</td>\n",
       "      <td>False</td>\n",
       "    </tr>\n",
       "    <tr>\n",
       "      <th>2</th>\n",
       "      <td>33.0</td>\n",
       "      <td>0</td>\n",
       "      <td>10</td>\n",
       "      <td>10</td>\n",
       "      <td>True</td>\n",
       "      <td>False</td>\n",
       "      <td>False</td>\n",
       "      <td>False</td>\n",
       "      <td>True</td>\n",
       "      <td>False</td>\n",
       "      <td>...</td>\n",
       "      <td>False</td>\n",
       "      <td>True</td>\n",
       "      <td>False</td>\n",
       "      <td>False</td>\n",
       "      <td>False</td>\n",
       "      <td>True</td>\n",
       "      <td>False</td>\n",
       "      <td>False</td>\n",
       "      <td>False</td>\n",
       "      <td>False</td>\n",
       "    </tr>\n",
       "    <tr>\n",
       "      <th>3</th>\n",
       "      <td>33.0</td>\n",
       "      <td>0</td>\n",
       "      <td>6</td>\n",
       "      <td>6</td>\n",
       "      <td>True</td>\n",
       "      <td>False</td>\n",
       "      <td>False</td>\n",
       "      <td>False</td>\n",
       "      <td>True</td>\n",
       "      <td>False</td>\n",
       "      <td>...</td>\n",
       "      <td>False</td>\n",
       "      <td>True</td>\n",
       "      <td>False</td>\n",
       "      <td>False</td>\n",
       "      <td>False</td>\n",
       "      <td>True</td>\n",
       "      <td>False</td>\n",
       "      <td>False</td>\n",
       "      <td>False</td>\n",
       "      <td>False</td>\n",
       "    </tr>\n",
       "    <tr>\n",
       "      <th>4</th>\n",
       "      <td>28.0</td>\n",
       "      <td>0</td>\n",
       "      <td>5</td>\n",
       "      <td>5</td>\n",
       "      <td>False</td>\n",
       "      <td>True</td>\n",
       "      <td>False</td>\n",
       "      <td>False</td>\n",
       "      <td>True</td>\n",
       "      <td>False</td>\n",
       "      <td>...</td>\n",
       "      <td>False</td>\n",
       "      <td>True</td>\n",
       "      <td>False</td>\n",
       "      <td>False</td>\n",
       "      <td>False</td>\n",
       "      <td>True</td>\n",
       "      <td>False</td>\n",
       "      <td>False</td>\n",
       "      <td>False</td>\n",
       "      <td>False</td>\n",
       "    </tr>\n",
       "  </tbody>\n",
       "</table>\n",
       "<p>5 rows × 47 columns</p>\n",
       "</div>"
      ],
      "text/plain": [
       "    age  signup_flow  account_created_month  first_active_month  \\\n",
       "0  31.0            0                      1                   1   \n",
       "1  37.0            3                      5                   5   \n",
       "2  33.0            0                     10                  10   \n",
       "3  33.0            0                      6                   6   \n",
       "4  28.0            0                      5                   5   \n",
       "\n",
       "   Gender_Unknown  Gender_Female  Gender_Male  Gender_Other  Signup_Basic  \\\n",
       "0           False          False         True         False          True   \n",
       "1           False           True        False         False          True   \n",
       "2            True          False        False         False          True   \n",
       "3            True          False        False         False          True   \n",
       "4           False           True        False         False          True   \n",
       "\n",
       "   Signup_Facebook  ...    iOS  Desktop  Other_Device  Phone  Tablet  Chrome  \\\n",
       "0            False  ...  False     True         False  False   False    True   \n",
       "1            False  ...  False     True         False  False   False    True   \n",
       "2            False  ...  False     True         False  False   False    True   \n",
       "3            False  ...  False     True         False  False   False    True   \n",
       "4            False  ...  False     True         False  False   False    True   \n",
       "\n",
       "   Firefox     IE  Other Browser  Safari  \n",
       "0    False  False          False   False  \n",
       "1    False  False          False   False  \n",
       "2    False  False          False   False  \n",
       "3    False  False          False   False  \n",
       "4    False  False          False   False  \n",
       "\n",
       "[5 rows x 47 columns]"
      ]
     },
     "execution_count": 133,
     "metadata": {},
     "output_type": "execute_result"
    }
   ],
   "source": [
    "train_users.head()"
   ]
  },
  {
   "cell_type": "code",
   "execution_count": 134,
   "metadata": {},
   "outputs": [
    {
     "data": {
      "text/plain": [
       "Index(['age', 'signup_flow', 'account_created_month', 'first_active_month',\n",
       "       'Gender_Unknown', 'Gender_Female', 'Gender_Male', 'Gender_Other',\n",
       "       'Signup_Basic', 'Signup_Facebook', 'Signup_Google',\n",
       "       'language_levenshtein_distance', 'Dutch', 'English', 'French', 'German',\n",
       "       'Italian', 'Other_Language', 'Portuguese', 'Spanish', 'direct_channel',\n",
       "       'other_channels', 'sem-brand_channel', 'sem-non-brand_channel',\n",
       "       'bing_provider', 'craiglist_provider', 'direct_provider',\n",
       "       'facebook_provider', 'google_provider', 'other_providers',\n",
       "       'linked_tracker', 'omg_tracker', 'other_tracker', 'untracked',\n",
       "       'Android', 'Mobile_Web', 'Web', 'iOS', 'Desktop', 'Other_Device',\n",
       "       'Phone', 'Tablet', 'Chrome', 'Firefox', 'IE', 'Other Browser',\n",
       "       'Safari'],\n",
       "      dtype='object')"
      ]
     },
     "execution_count": 134,
     "metadata": {},
     "output_type": "execute_result"
    }
   ],
   "source": [
    "train_users.columns"
   ]
  },
  {
   "cell_type": "code",
   "execution_count": 135,
   "metadata": {},
   "outputs": [
    {
     "data": {
      "text/plain": [
       "Index(['age', 'signup_flow', 'account_created_month', 'first_active_month',\n",
       "       'Gender_Unknown', 'Gender_Female', 'Gender_Male', 'Gender_Other',\n",
       "       'Signup_Basic', 'Signup_Facebook', 'Signup_Google',\n",
       "       'language_levenshtein_distance', 'Dutch', 'English', 'French', 'German',\n",
       "       'Italian', 'Other_Language', 'Portuguese', 'Spanish', 'direct_channel',\n",
       "       'other_channels', 'sem-brand_channel', 'sem-non-brand_channel',\n",
       "       'bing_provider', 'craiglist_provider', 'direct_provider',\n",
       "       'facebook_provider', 'google_provider', 'other_providers',\n",
       "       'linked_tracker', 'omg_tracker', 'other_tracker', 'untracked',\n",
       "       'Android', 'Mobile_Web', 'Web', 'iOS', 'Desktop', 'Other_Device',\n",
       "       'Phone', 'Tablet', 'Chrome', 'Firefox', 'IE', 'Other Browser',\n",
       "       'Safari'],\n",
       "      dtype='object')"
      ]
     },
     "execution_count": 135,
     "metadata": {},
     "output_type": "execute_result"
    }
   ],
   "source": [
    "val_users.columns"
   ]
  },
  {
   "cell_type": "code",
   "execution_count": 136,
   "metadata": {},
   "outputs": [],
   "source": [
    "X_train = train_users\n",
    "X_val = val_users"
   ]
  },
  {
   "cell_type": "code",
   "execution_count": 137,
   "metadata": {},
   "outputs": [
    {
     "data": {
      "text/plain": [
       "(169497, 47)"
      ]
     },
     "execution_count": 137,
     "metadata": {},
     "output_type": "execute_result"
    }
   ],
   "source": [
    "X_train .shape"
   ]
  },
  {
   "cell_type": "code",
   "execution_count": 138,
   "metadata": {},
   "outputs": [
    {
     "data": {
      "text/plain": [
       "(42362, 47)"
      ]
     },
     "execution_count": 138,
     "metadata": {},
     "output_type": "execute_result"
    }
   ],
   "source": [
    "X_val.shape"
   ]
  },
  {
   "cell_type": "markdown",
   "metadata": {},
   "source": [
    "*Standardising all the features to make them scale invariant. This plays an major role while training during gradient descent.*"
   ]
  },
  {
   "cell_type": "code",
   "execution_count": 139,
   "metadata": {},
   "outputs": [],
   "source": [
    "from sklearn.preprocessing import StandardScaler\n",
    "\n",
    "scaler = StandardScaler()\n",
    "\n",
    "scaler.fit(X_train)\n",
    "\n",
    "X_train = scaler.transform(X_train)\n",
    "X_val = scaler.transform(X_val)"
   ]
  },
  {
   "cell_type": "code",
   "execution_count": 140,
   "metadata": {},
   "outputs": [],
   "source": [
    "X_train_df = pd.DataFrame(data = X_train , columns = train_users.columns)"
   ]
  },
  {
   "cell_type": "code",
   "execution_count": 141,
   "metadata": {},
   "outputs": [],
   "source": [
    "X_val_df = pd.DataFrame(data = X_val , columns = val_users.columns)"
   ]
  },
  {
   "cell_type": "code",
   "execution_count": 142,
   "metadata": {},
   "outputs": [],
   "source": [
    "from sklearn.preprocessing import LabelEncoder\n",
    "\n",
    "label_encoder = LabelEncoder()\n",
    "\n",
    "y_train_encoded = label_encoder.fit_transform(y_train)\n",
    "y_val_encoded = label_encoder.fit_transform(y_val)"
   ]
  },
  {
   "cell_type": "code",
   "execution_count": 143,
   "metadata": {},
   "outputs": [
    {
     "data": {
      "text/plain": [
       "country_destination\n",
       "NDF      99200\n",
       "US       49317\n",
       "other     7995\n",
       "FR        3976\n",
       "IT        2246\n",
       "GB        1805\n",
       "ES        1782\n",
       "CA        1141\n",
       "DE         845\n",
       "NL         600\n",
       "AU         418\n",
       "PT         172\n",
       "Name: count, dtype: int64"
      ]
     },
     "execution_count": 143,
     "metadata": {},
     "output_type": "execute_result"
    }
   ],
   "source": [
    "y_train.value_counts()"
   ]
  },
  {
   "cell_type": "code",
   "execution_count": 144,
   "metadata": {},
   "outputs": [],
   "source": [
    "unique, counts = np.unique(y_train_encoded, return_counts=True)"
   ]
  },
  {
   "cell_type": "code",
   "execution_count": 145,
   "metadata": {},
   "outputs": [
    {
     "data": {
      "text/plain": [
       "array([ 0,  1,  2,  3,  4,  5,  6,  7,  8,  9, 10, 11])"
      ]
     },
     "execution_count": 145,
     "metadata": {},
     "output_type": "execute_result"
    }
   ],
   "source": [
    "unique"
   ]
  },
  {
   "cell_type": "code",
   "execution_count": 146,
   "metadata": {},
   "outputs": [
    {
     "data": {
      "text/plain": [
       "array([  418,  1141,   845,  1782,  3976,  1805,  2246, 99200,   600,\n",
       "         172, 49317,  7995], dtype=int64)"
      ]
     },
     "execution_count": 146,
     "metadata": {},
     "output_type": "execute_result"
    }
   ],
   "source": [
    "counts"
   ]
  },
  {
   "cell_type": "code",
   "execution_count": 147,
   "metadata": {},
   "outputs": [],
   "source": [
    "unique, counts = np.unique(y_val_encoded, return_counts=True)"
   ]
  },
  {
   "cell_type": "code",
   "execution_count": 148,
   "metadata": {},
   "outputs": [
    {
     "data": {
      "text/plain": [
       "country_destination\n",
       "NDF      24707\n",
       "US       12384\n",
       "other     1979\n",
       "FR        1006\n",
       "IT         555\n",
       "GB         493\n",
       "ES         447\n",
       "CA         271\n",
       "DE         207\n",
       "NL         155\n",
       "AU         114\n",
       "PT          44\n",
       "Name: count, dtype: int64"
      ]
     },
     "execution_count": 148,
     "metadata": {},
     "output_type": "execute_result"
    }
   ],
   "source": [
    "y_val.value_counts()"
   ]
  },
  {
   "cell_type": "code",
   "execution_count": 149,
   "metadata": {},
   "outputs": [
    {
     "data": {
      "text/plain": [
       "array([ 0,  1,  2,  3,  4,  5,  6,  7,  8,  9, 10, 11])"
      ]
     },
     "execution_count": 149,
     "metadata": {},
     "output_type": "execute_result"
    }
   ],
   "source": [
    "unique"
   ]
  },
  {
   "cell_type": "code",
   "execution_count": 150,
   "metadata": {},
   "outputs": [
    {
     "data": {
      "text/plain": [
       "array([  114,   271,   207,   447,  1006,   493,   555, 24707,   155,\n",
       "          44, 12384,  1979], dtype=int64)"
      ]
     },
     "execution_count": 150,
     "metadata": {},
     "output_type": "execute_result"
    }
   ],
   "source": [
    "counts"
   ]
  },
  {
   "cell_type": "code",
   "execution_count": 151,
   "metadata": {},
   "outputs": [],
   "source": [
    "from sklearn.preprocessing import OneHotEncoder\n",
    "\n",
    "y_val_encoded_ = y_val_encoded.reshape(-1, 1)\n",
    "\n",
    "encoder = OneHotEncoder()\n",
    "\n",
    "y_val_encoded_onehot = encoder.fit_transform(y_val_encoded_).toarray()"
   ]
  },
  {
   "cell_type": "code",
   "execution_count": 152,
   "metadata": {},
   "outputs": [],
   "source": [
    "from sklearn.preprocessing import OneHotEncoder\n",
    "\n",
    "y_train_encoded_ = y_train_encoded.reshape(-1, 1)\n",
    "\n",
    "encoder = OneHotEncoder()\n",
    "\n",
    "y_train_encoded_onehot = encoder.fit_transform(y_train_encoded_).toarray()"
   ]
  },
  {
   "cell_type": "code",
   "execution_count": 153,
   "metadata": {},
   "outputs": [
    {
     "name": "stdout",
     "output_type": "stream",
     "text": [
      "Validation NDCG score for depth 5 is: 0.8235768740661457\n",
      "Validation NDCG score for depth 6 is: 0.8236203955073474\n"
     ]
    }
   ],
   "source": [
    "from sklearn.tree import DecisionTreeClassifier\n",
    "from sklearn.metrics import ndcg_score\n",
    "\n",
    "max_depth = [5, 6]\n",
    "\n",
    "for j in max_depth:\n",
    "    dt_classifier = DecisionTreeClassifier(max_depth = j , random_state=42)\n",
    "    dt_classifier.fit(X_train, y_train_encoded)\n",
    "    dt_prob = dt_classifier.predict_proba(X_val)\n",
    "    ndcg = ndcg_score(y_val_encoded_onehot, dt_prob, k=5)\n",
    "    print(\"Validation NDCG score for depth\", j, \"is:\", ndcg)"
   ]
  },
  {
   "cell_type": "code",
   "execution_count": 154,
   "metadata": {},
   "outputs": [
    {
     "name": "stdout",
     "output_type": "stream",
     "text": [
      "Validation NDCG score for 300 base learners and 6 depth for each base learner is: 0.8115969446719039\n",
      "Validation NDCG score for 300 base learners and 7 depth for each base learner is: 0.8140233554349563\n",
      "Validation NDCG score for 500 base learners and 6 depth for each base learner is: 0.8116600296190035\n",
      "Validation NDCG score for 500 base learners and 7 depth for each base learner is: 0.813863820511445\n"
     ]
    }
   ],
   "source": [
    "\n",
    "from sklearn.ensemble import RandomForestClassifier\n",
    "from sklearn.metrics import ndcg_score\n",
    "\n",
    "n_estimators = [300,500]\n",
    "max_depth = [6,7]\n",
    "\n",
    "for i in n_estimators:\n",
    "    for j in max_depth:\n",
    "        \n",
    "        RF_classifier = RandomForestClassifier(n_estimators=i, max_depth=j, random_state=42)\n",
    "        RF_classifier.fit(X_train, y_train_encoded)\n",
    "        RF_prob = RF_classifier.predict_proba(X_val)\n",
    "\n",
    "        ndcg = ndcg_score(y_val_encoded_onehot, RF_prob, k=5)\n",
    "        print(\"Validation NDCG score for\", i, \"base learners and\", j, \"depth for each base learner is:\", ndcg)\n",
    "        \n"
   ]
  },
  {
   "cell_type": "code",
   "execution_count": 155,
   "metadata": {},
   "outputs": [
    {
     "name": "stdout",
     "output_type": "stream",
     "text": [
      "0.8247931042431779\n"
     ]
    }
   ],
   "source": [
    "import xgboost as xgb\n",
    "xgb_classifier = xgb.XGBClassifier(n_estimators=200, max_depth=3, random_state=42)\n",
    "xgb_classifier.fit(X_train, y_train_encoded)\n",
    "xgb_prob = xgb_classifier.predict_proba(X_val)\n",
    "score = ndcg_score(y_val_encoded_onehot, xgb_prob, k=5)\n",
    "print(score)"
   ]
  },
  {
   "cell_type": "code",
   "execution_count": 156,
   "metadata": {},
   "outputs": [
    {
     "name": "stdout",
     "output_type": "stream",
     "text": [
      "Validation NDCG score for the stacking ensemble is: 0.8244418360005397\n"
     ]
    }
   ],
   "source": [
    "\n",
    "import xgboost as xgb\n",
    "from sklearn.ensemble import StackingClassifier\n",
    "from sklearn.metrics import ndcg_score\n",
    "from sklearn.model_selection import cross_val_predict\n",
    "from sklearn.preprocessing import LabelEncoder\n",
    "\n",
    "\n",
    "base_estimators = [\n",
    "    ('xgb1', xgb.XGBClassifier(n_estimators=30, max_depth=1, random_state=42)),\n",
    "    ('xgb2', xgb.XGBClassifier(n_estimators=60, max_depth=2, random_state=42)),\n",
    "    ('xgb3', xgb.XGBClassifier(n_estimators=90, max_depth=2, random_state=42))\n",
    "]\n",
    "\n",
    "\n",
    "stacking_classifier = StackingClassifier(estimators=base_estimators,\n",
    "                                         final_estimator=xgb.XGBClassifier(random_state=42,n_estimators=40, max_depth=2),\n",
    "                                         stack_method='predict_proba')\n",
    "\n",
    "\n",
    "stacking_classifier.fit(X_train, y_train_encoded)\n",
    "\n",
    "\n",
    "stacking_prob = stacking_classifier.predict_proba(X_val)\n",
    "\n",
    "\n",
    "score = ndcg_score(y_val_encoded_onehot, stacking_prob, k=5)\n",
    "print(\"Validation NDCG score for the stacking ensemble is:\", score)\n"
   ]
  },
  {
   "cell_type": "code",
   "execution_count": 157,
   "metadata": {},
   "outputs": [],
   "source": [
    "class_weights = {0:4, 1:2, 2:2,3:1,4:1,5:1, 6:1,7:1,8:3,9:11,10:1,11:1}"
   ]
  },
  {
   "cell_type": "code",
   "execution_count": null,
   "metadata": {},
   "outputs": [],
   "source": [
    "import lightgbm as lgb\n",
    "from sklearn.metrics import ndcg_score\n",
    "\n",
    "n_estimators = [50,100,150,200,250,300]\n",
    "max_depth = [3,4,5]\n",
    "\n",
    "for i in n_estimators:\n",
    "    for j in max_depth:\n",
    "        lgb_classifier = lgb.LGBMClassifier(n_estimators=i, max_depth=j, class_weight=class_weights, random_state=42)\n",
    "        lgb_classifier.fit(X_train, y_train_encoded)\n",
    "        lgb_prob = lgb_classifier.predict_proba(X_val)\n",
    "        score = ndcg_score(y_val_encoded_onehot, lgb_prob, k=5)\n",
    "        print(\"Validation NDCG score for\", i, \"base learners and\", j, \"depth for each base learner is:\", score)\n",
    "        "
   ]
  },
  {
   "cell_type": "code",
   "execution_count": null,
   "metadata": {},
   "outputs": [],
   "source": [
    "'''\n",
    "lgb_classifier = lgb.LGBMClassifier(n_estimators=100, max_depth=5, class_weight=class_weights, random_state=42)\n",
    "lgb_classifier.fit(X_train, y_train_encoded)\n",
    "'''"
   ]
  },
  {
   "cell_type": "code",
   "execution_count": null,
   "metadata": {},
   "outputs": [],
   "source": [
    "'''\n",
    "model_pickle = open(\"airbnb.pkl\",mode = \"wb\")\n",
    "pickle.dump(lgb_classifier,model_pickle)\n",
    "model_pickle.close()\n",
    "'''"
   ]
  }
 ],
 "metadata": {
  "kernelspec": {
   "display_name": "Python 3 (ipykernel)",
   "language": "python",
   "name": "python3"
  },
  "language_info": {
   "codemirror_mode": {
    "name": "ipython",
    "version": 3
   },
   "file_extension": ".py",
   "mimetype": "text/x-python",
   "name": "python",
   "nbconvert_exporter": "python",
   "pygments_lexer": "ipython3",
   "version": "3.11.3"
  }
 },
 "nbformat": 4,
 "nbformat_minor": 2
}
